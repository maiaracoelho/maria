{
 "cells": [
  {
   "cell_type": "markdown",
   "metadata": {},
   "source": [
    "### Dsverifier Stability\n",
    "teste_Todas"
   ]
  },
  {
   "cell_type": "code",
   "execution_count": 1,
   "metadata": {},
   "outputs": [],
   "source": [
    "import tensorflow"
   ]
  },
  {
   "cell_type": "markdown",
   "metadata": {},
   "source": [
    "__Etapas__:\n",
    "\n",
    "* Análise de Dados\n",
    "\n",
    "* Transformação dos Dados\n",
    "    * Conversão para Números\n",
    "    * Conversão para Binários\n",
    "    \n",
    "* Resultados\n",
    "    * Treinamento e Classificação\n",
    "\n",
    "\n"
   ]
  },
  {
   "cell_type": "markdown",
   "metadata": {},
   "source": [
    "Accuracy"
   ]
  },
  {
   "cell_type": "markdown",
   "metadata": {},
   "source": [
    "## Códigos base para implementação de AM e de rede neural em Keras"
   ]
  },
  {
   "cell_type": "code",
   "execution_count": 2,
   "metadata": {},
   "outputs": [],
   "source": [
    "import os\n",
    "# os.environ['KMP_DUPLICATE_LIB_OK']='True'\n",
    "import numpy as np\n",
    "import pandas as pd\n",
    "import time\n",
    "import os\n",
    "from sklearn import datasets, svm, metrics\n",
    "from sklearn.datasets import make_classification\n",
    "from sklearn.metrics import mean_squared_error\n",
    "from sklearn.metrics import roc_auc_score as sklearn_roc_auc_score\n",
    "from sklearn.metrics import accuracy_score as sklearn_accuracy_score\n",
    "from sklearn.metrics import confusion_matrix as sklearn_confusion_matrix\n",
    "from sklearn.model_selection import train_test_split\n",
    "from sklearn.metrics import precision_score, recall_score\n",
    "from sklearn.metrics import confusion_matrix\n",
    "from sklearn.model_selection import StratifiedKFold\n",
    "\n",
    "\n",
    "import seaborn as sns\n",
    "import matplotlib.pyplot as plt\n",
    "%matplotlib inline\n",
    "\n"
   ]
  },
  {
   "cell_type": "code",
   "execution_count": 3,
   "metadata": {},
   "outputs": [
    {
     "name": "stderr",
     "output_type": "stream",
     "text": [
      "Using TensorFlow backend.\n"
     ]
    }
   ],
   "source": [
    "from keras import backend as K\n",
    "from keras.layers import Input, Dense, Activation, BatchNormalization, Dropout\n",
    "from keras.models import Model\n",
    "from keras.optimizers import Nadam, SGD,Adam\n",
    "from keras.callbacks import EarlyStopping\n",
    "import seaborn as sns"
   ]
  },
  {
   "cell_type": "markdown",
   "metadata": {},
   "source": [
    "## Analise dos Dados da Base"
   ]
  },
  {
   "cell_type": "code",
   "execution_count": 4,
   "metadata": {},
   "outputs": [],
   "source": [
    "base_path='base_URL/baseCase01Stability.csv'\n",
    "base = pd.read_csv(base_path)"
   ]
  },
  {
   "cell_type": "markdown",
   "metadata": {},
   "source": [
    "### Para mostrar os 5 primeiros registros usamos a função 'head()'"
   ]
  },
  {
   "cell_type": "code",
   "execution_count": 5,
   "metadata": {},
   "outputs": [
    {
     "data": {
      "text/html": [
       "<div>\n",
       "<style scoped>\n",
       "    .dataframe tbody tr th:only-of-type {\n",
       "        vertical-align: middle;\n",
       "    }\n",
       "\n",
       "    .dataframe tbody tr th {\n",
       "        vertical-align: top;\n",
       "    }\n",
       "\n",
       "    .dataframe thead th {\n",
       "        text-align: right;\n",
       "    }\n",
       "</style>\n",
       "<table border=\"1\" class=\"dataframe\">\n",
       "  <thead>\n",
       "    <tr style=\"text-align: right;\">\n",
       "      <th></th>\n",
       "      <th>Digital_System_Name_(original_name)</th>\n",
       "      <th>Implementation_Integer_bits(i)</th>\n",
       "      <th>Implementation_fractional_bits(j)</th>\n",
       "      <th>Bit</th>\n",
       "      <th>Realization</th>\n",
       "      <th>Uncertainty_plan</th>\n",
       "      <th>a1_plan</th>\n",
       "      <th>a2_plan</th>\n",
       "      <th>b1_plan</th>\n",
       "      <th>b2_plan</th>\n",
       "      <th>Class</th>\n",
       "    </tr>\n",
       "  </thead>\n",
       "  <tbody>\n",
       "    <tr>\n",
       "      <th>0</th>\n",
       "      <td>cruise</td>\n",
       "      <td>1</td>\n",
       "      <td>6</td>\n",
       "      <td>7</td>\n",
       "      <td>DFI</td>\n",
       "      <td>0.0</td>\n",
       "      <td>0</td>\n",
       "      <td>0.000683</td>\n",
       "      <td>0.7</td>\n",
       "      <td>-1.2366</td>\n",
       "      <td>Fail</td>\n",
       "    </tr>\n",
       "    <tr>\n",
       "      <th>1</th>\n",
       "      <td>cruise</td>\n",
       "      <td>1</td>\n",
       "      <td>6</td>\n",
       "      <td>7</td>\n",
       "      <td>DFI</td>\n",
       "      <td>0.0</td>\n",
       "      <td>0</td>\n",
       "      <td>0.000741</td>\n",
       "      <td>0.7</td>\n",
       "      <td>-1.2366</td>\n",
       "      <td>Fail</td>\n",
       "    </tr>\n",
       "    <tr>\n",
       "      <th>2</th>\n",
       "      <td>cruise</td>\n",
       "      <td>1</td>\n",
       "      <td>6</td>\n",
       "      <td>7</td>\n",
       "      <td>DFI</td>\n",
       "      <td>0.0</td>\n",
       "      <td>0</td>\n",
       "      <td>0.000800</td>\n",
       "      <td>0.7</td>\n",
       "      <td>-1.2366</td>\n",
       "      <td>Fail</td>\n",
       "    </tr>\n",
       "    <tr>\n",
       "      <th>3</th>\n",
       "      <td>cruise</td>\n",
       "      <td>1</td>\n",
       "      <td>6</td>\n",
       "      <td>7</td>\n",
       "      <td>DFI</td>\n",
       "      <td>0.0</td>\n",
       "      <td>0</td>\n",
       "      <td>0.000858</td>\n",
       "      <td>0.7</td>\n",
       "      <td>-1.2366</td>\n",
       "      <td>Fail</td>\n",
       "    </tr>\n",
       "    <tr>\n",
       "      <th>4</th>\n",
       "      <td>cruise</td>\n",
       "      <td>1</td>\n",
       "      <td>6</td>\n",
       "      <td>7</td>\n",
       "      <td>DFI</td>\n",
       "      <td>0.0</td>\n",
       "      <td>0</td>\n",
       "      <td>0.000917</td>\n",
       "      <td>0.7</td>\n",
       "      <td>-1.2366</td>\n",
       "      <td>Fail</td>\n",
       "    </tr>\n",
       "  </tbody>\n",
       "</table>\n",
       "</div>"
      ],
      "text/plain": [
       "  Digital_System_Name_(original_name)  Implementation_Integer_bits(i)  \\\n",
       "0                              cruise                               1   \n",
       "1                              cruise                               1   \n",
       "2                              cruise                               1   \n",
       "3                              cruise                               1   \n",
       "4                              cruise                               1   \n",
       "\n",
       "   Implementation_fractional_bits(j)  Bit Realization  Uncertainty_plan  \\\n",
       "0                                  6    7         DFI               0.0   \n",
       "1                                  6    7         DFI               0.0   \n",
       "2                                  6    7         DFI               0.0   \n",
       "3                                  6    7         DFI               0.0   \n",
       "4                                  6    7         DFI               0.0   \n",
       "\n",
       "   a1_plan   a2_plan  b1_plan  b2_plan Class  \n",
       "0        0  0.000683      0.7  -1.2366  Fail  \n",
       "1        0  0.000741      0.7  -1.2366  Fail  \n",
       "2        0  0.000800      0.7  -1.2366  Fail  \n",
       "3        0  0.000858      0.7  -1.2366  Fail  \n",
       "4        0  0.000917      0.7  -1.2366  Fail  "
      ]
     },
     "execution_count": 5,
     "metadata": {},
     "output_type": "execute_result"
    }
   ],
   "source": [
    "base.head()"
   ]
  },
  {
   "cell_type": "code",
   "execution_count": 6,
   "metadata": {},
   "outputs": [
    {
     "data": {
      "text/html": [
       "<div>\n",
       "<style scoped>\n",
       "    .dataframe tbody tr th:only-of-type {\n",
       "        vertical-align: middle;\n",
       "    }\n",
       "\n",
       "    .dataframe tbody tr th {\n",
       "        vertical-align: top;\n",
       "    }\n",
       "\n",
       "    .dataframe thead th {\n",
       "        text-align: right;\n",
       "    }\n",
       "</style>\n",
       "<table border=\"1\" class=\"dataframe\">\n",
       "  <thead>\n",
       "    <tr style=\"text-align: right;\">\n",
       "      <th></th>\n",
       "      <th>Implementation_Integer_bits(i)</th>\n",
       "      <th>Implementation_fractional_bits(j)</th>\n",
       "      <th>Bit</th>\n",
       "      <th>Uncertainty_plan</th>\n",
       "      <th>a1_plan</th>\n",
       "      <th>a2_plan</th>\n",
       "      <th>b1_plan</th>\n",
       "      <th>b2_plan</th>\n",
       "      <th>Class</th>\n",
       "    </tr>\n",
       "  </thead>\n",
       "  <tbody>\n",
       "    <tr>\n",
       "      <th>0</th>\n",
       "      <td>1</td>\n",
       "      <td>6</td>\n",
       "      <td>7</td>\n",
       "      <td>0.0</td>\n",
       "      <td>0</td>\n",
       "      <td>0.000683</td>\n",
       "      <td>0.7</td>\n",
       "      <td>-1.2366</td>\n",
       "      <td>Fail</td>\n",
       "    </tr>\n",
       "    <tr>\n",
       "      <th>1</th>\n",
       "      <td>1</td>\n",
       "      <td>6</td>\n",
       "      <td>7</td>\n",
       "      <td>0.0</td>\n",
       "      <td>0</td>\n",
       "      <td>0.000741</td>\n",
       "      <td>0.7</td>\n",
       "      <td>-1.2366</td>\n",
       "      <td>Fail</td>\n",
       "    </tr>\n",
       "    <tr>\n",
       "      <th>2</th>\n",
       "      <td>1</td>\n",
       "      <td>6</td>\n",
       "      <td>7</td>\n",
       "      <td>0.0</td>\n",
       "      <td>0</td>\n",
       "      <td>0.000800</td>\n",
       "      <td>0.7</td>\n",
       "      <td>-1.2366</td>\n",
       "      <td>Fail</td>\n",
       "    </tr>\n",
       "    <tr>\n",
       "      <th>3</th>\n",
       "      <td>1</td>\n",
       "      <td>6</td>\n",
       "      <td>7</td>\n",
       "      <td>0.0</td>\n",
       "      <td>0</td>\n",
       "      <td>0.000858</td>\n",
       "      <td>0.7</td>\n",
       "      <td>-1.2366</td>\n",
       "      <td>Fail</td>\n",
       "    </tr>\n",
       "    <tr>\n",
       "      <th>4</th>\n",
       "      <td>1</td>\n",
       "      <td>6</td>\n",
       "      <td>7</td>\n",
       "      <td>0.0</td>\n",
       "      <td>0</td>\n",
       "      <td>0.000917</td>\n",
       "      <td>0.7</td>\n",
       "      <td>-1.2366</td>\n",
       "      <td>Fail</td>\n",
       "    </tr>\n",
       "  </tbody>\n",
       "</table>\n",
       "</div>"
      ],
      "text/plain": [
       "   Implementation_Integer_bits(i)  Implementation_fractional_bits(j)  Bit  \\\n",
       "0                               1                                  6    7   \n",
       "1                               1                                  6    7   \n",
       "2                               1                                  6    7   \n",
       "3                               1                                  6    7   \n",
       "4                               1                                  6    7   \n",
       "\n",
       "   Uncertainty_plan  a1_plan   a2_plan  b1_plan  b2_plan Class  \n",
       "0               0.0        0  0.000683      0.7  -1.2366  Fail  \n",
       "1               0.0        0  0.000741      0.7  -1.2366  Fail  \n",
       "2               0.0        0  0.000800      0.7  -1.2366  Fail  \n",
       "3               0.0        0  0.000858      0.7  -1.2366  Fail  \n",
       "4               0.0        0  0.000917      0.7  -1.2366  Fail  "
      ]
     },
     "execution_count": 6,
     "metadata": {},
     "output_type": "execute_result"
    }
   ],
   "source": [
    "base.drop(['Digital_System_Name_(original_name)','Realization'], axis=1,inplace=True)\n",
    "base.head()"
   ]
  },
  {
   "cell_type": "code",
   "execution_count": 15,
   "metadata": {},
   "outputs": [
    {
     "data": {
      "text/plain": [
       "Index(['Implementation_Integer_bits(i)', 'Implementation_fractional_bits(j)',\n",
       "       'Bit', 'Uncertainty_plan', 'a1_plan', 'a2_plan', 'b1_plan', 'b2_plan'],\n",
       "      dtype='object')"
      ]
     },
     "execution_count": 15,
     "metadata": {},
     "output_type": "execute_result"
    }
   ],
   "source": [
    "colunas = base.drop(['Class'], axis=1).columns\n",
    "colunas"
   ]
  },
  {
   "cell_type": "markdown",
   "metadata": {},
   "source": [
    "### Abaixo seguem os histogramas dos atributos númericos"
   ]
  },
  {
   "cell_type": "code",
   "execution_count": 16,
   "metadata": {},
   "outputs": [
    {
     "data": {
      "image/png": "[encoded data removed]",
      "text/plain": [
       "<Figure size 2160x1800 with 9 Axes>"
      ]
     },
     "metadata": {
      "needs_background": "light"
     },
     "output_type": "display_data"
    }
   ],
   "source": [
    "base.hist(bins=50, figsize=(30,25))\n",
    "plt.show()"
   ]
  },
  {
   "cell_type": "markdown",
   "metadata": {},
   "source": [
    "## Transformação dos Dados"
   ]
  },
  {
   "cell_type": "markdown",
   "metadata": {},
   "source": [
    "### Conversão para binários"
   ]
  },
  {
   "cell_type": "code",
   "execution_count": 17,
   "metadata": {},
   "outputs": [],
   "source": [
    "for c in colunas:\n",
    "    dummies = pd.get_dummies(base[c], prefix = c)\n",
    "    base = base.drop(c, axis = 1).join(dummies)"
   ]
  },
  {
   "cell_type": "code",
   "execution_count": 18,
   "metadata": {},
   "outputs": [
    {
     "data": {
      "text/html": [
       "<div>\n",
       "<style scoped>\n",
       "    .dataframe tbody tr th:only-of-type {\n",
       "        vertical-align: middle;\n",
       "    }\n",
       "\n",
       "    .dataframe tbody tr th {\n",
       "        vertical-align: top;\n",
       "    }\n",
       "\n",
       "    .dataframe thead th {\n",
       "        text-align: right;\n",
       "    }\n",
       "</style>\n",
       "<table border=\"1\" class=\"dataframe\">\n",
       "  <thead>\n",
       "    <tr style=\"text-align: right;\">\n",
       "      <th></th>\n",
       "      <th>Class</th>\n",
       "      <th>Implementation_Integer_bits(i)_1</th>\n",
       "      <th>Implementation_Integer_bits(i)_2</th>\n",
       "      <th>Implementation_Integer_bits(i)_3</th>\n",
       "      <th>Implementation_Integer_bits(i)_4</th>\n",
       "      <th>Implementation_Integer_bits(i)_5</th>\n",
       "      <th>Implementation_Integer_bits(i)_6</th>\n",
       "      <th>Implementation_Integer_bits(i)_7</th>\n",
       "      <th>Implementation_Integer_bits(i)_8</th>\n",
       "      <th>Implementation_Integer_bits(i)_9</th>\n",
       "      <th>...</th>\n",
       "      <th>b2_plan_-1.1795</th>\n",
       "      <th>b2_plan_-1.1224</th>\n",
       "      <th>b2_plan_-1.0653</th>\n",
       "      <th>b2_plan_-1.0083</th>\n",
       "      <th>b2_plan_-0.9512</th>\n",
       "      <th>b2_plan_-0.89413</th>\n",
       "      <th>b2_plan_-0.83706</th>\n",
       "      <th>b2_plan_-0.77998</th>\n",
       "      <th>b2_plan_-0.72291</th>\n",
       "      <th>b2_plan_-0.66584</th>\n",
       "    </tr>\n",
       "  </thead>\n",
       "  <tbody>\n",
       "    <tr>\n",
       "      <th>0</th>\n",
       "      <td>Fail</td>\n",
       "      <td>1</td>\n",
       "      <td>0</td>\n",
       "      <td>0</td>\n",
       "      <td>0</td>\n",
       "      <td>0</td>\n",
       "      <td>0</td>\n",
       "      <td>0</td>\n",
       "      <td>0</td>\n",
       "      <td>0</td>\n",
       "      <td>...</td>\n",
       "      <td>0</td>\n",
       "      <td>0</td>\n",
       "      <td>0</td>\n",
       "      <td>0</td>\n",
       "      <td>0</td>\n",
       "      <td>0</td>\n",
       "      <td>0</td>\n",
       "      <td>0</td>\n",
       "      <td>0</td>\n",
       "      <td>0</td>\n",
       "    </tr>\n",
       "    <tr>\n",
       "      <th>1</th>\n",
       "      <td>Fail</td>\n",
       "      <td>1</td>\n",
       "      <td>0</td>\n",
       "      <td>0</td>\n",
       "      <td>0</td>\n",
       "      <td>0</td>\n",
       "      <td>0</td>\n",
       "      <td>0</td>\n",
       "      <td>0</td>\n",
       "      <td>0</td>\n",
       "      <td>...</td>\n",
       "      <td>0</td>\n",
       "      <td>0</td>\n",
       "      <td>0</td>\n",
       "      <td>0</td>\n",
       "      <td>0</td>\n",
       "      <td>0</td>\n",
       "      <td>0</td>\n",
       "      <td>0</td>\n",
       "      <td>0</td>\n",
       "      <td>0</td>\n",
       "    </tr>\n",
       "    <tr>\n",
       "      <th>2</th>\n",
       "      <td>Fail</td>\n",
       "      <td>1</td>\n",
       "      <td>0</td>\n",
       "      <td>0</td>\n",
       "      <td>0</td>\n",
       "      <td>0</td>\n",
       "      <td>0</td>\n",
       "      <td>0</td>\n",
       "      <td>0</td>\n",
       "      <td>0</td>\n",
       "      <td>...</td>\n",
       "      <td>0</td>\n",
       "      <td>0</td>\n",
       "      <td>0</td>\n",
       "      <td>0</td>\n",
       "      <td>0</td>\n",
       "      <td>0</td>\n",
       "      <td>0</td>\n",
       "      <td>0</td>\n",
       "      <td>0</td>\n",
       "      <td>0</td>\n",
       "    </tr>\n",
       "  </tbody>\n",
       "</table>\n",
       "<p>3 rows × 101 columns</p>\n",
       "</div>"
      ],
      "text/plain": [
       "  Class  Implementation_Integer_bits(i)_1  Implementation_Integer_bits(i)_2  \\\n",
       "0  Fail                                 1                                 0   \n",
       "1  Fail                                 1                                 0   \n",
       "2  Fail                                 1                                 0   \n",
       "\n",
       "   Implementation_Integer_bits(i)_3  Implementation_Integer_bits(i)_4  \\\n",
       "0                                 0                                 0   \n",
       "1                                 0                                 0   \n",
       "2                                 0                                 0   \n",
       "\n",
       "   Implementation_Integer_bits(i)_5  Implementation_Integer_bits(i)_6  \\\n",
       "0                                 0                                 0   \n",
       "1                                 0                                 0   \n",
       "2                                 0                                 0   \n",
       "\n",
       "   Implementation_Integer_bits(i)_7  Implementation_Integer_bits(i)_8  \\\n",
       "0                                 0                                 0   \n",
       "1                                 0                                 0   \n",
       "2                                 0                                 0   \n",
       "\n",
       "   Implementation_Integer_bits(i)_9  ...  b2_plan_-1.1795  b2_plan_-1.1224  \\\n",
       "0                                 0  ...                0                0   \n",
       "1                                 0  ...                0                0   \n",
       "2                                 0  ...                0                0   \n",
       "\n",
       "   b2_plan_-1.0653  b2_plan_-1.0083  b2_plan_-0.9512  b2_plan_-0.89413  \\\n",
       "0                0                0                0                 0   \n",
       "1                0                0                0                 0   \n",
       "2                0                0                0                 0   \n",
       "\n",
       "   b2_plan_-0.83706  b2_plan_-0.77998  b2_plan_-0.72291  b2_plan_-0.66584  \n",
       "0                 0                 0                 0                 0  \n",
       "1                 0                 0                 0                 0  \n",
       "2                 0                 0                 0                 0  \n",
       "\n",
       "[3 rows x 101 columns]"
      ]
     },
     "execution_count": 18,
     "metadata": {},
     "output_type": "execute_result"
    }
   ],
   "source": [
    "base.head(3)"
   ]
  },
  {
   "cell_type": "markdown",
   "metadata": {},
   "source": [
    "A função 'get_dummies' transforma os campos em atributos binários. Logo, podemos incorporar esses novos campos ao dataframe"
   ]
  },
  {
   "cell_type": "code",
   "execution_count": 19,
   "metadata": {},
   "outputs": [],
   "source": [
    "base['Class'] = base['Class'].astype('category').cat.codes"
   ]
  },
  {
   "cell_type": "markdown",
   "metadata": {},
   "source": [
    "transforma a class em número"
   ]
  },
  {
   "cell_type": "code",
   "execution_count": 20,
   "metadata": {},
   "outputs": [
    {
     "data": {
      "text/html": [
       "<div>\n",
       "<style scoped>\n",
       "    .dataframe tbody tr th:only-of-type {\n",
       "        vertical-align: middle;\n",
       "    }\n",
       "\n",
       "    .dataframe tbody tr th {\n",
       "        vertical-align: top;\n",
       "    }\n",
       "\n",
       "    .dataframe thead th {\n",
       "        text-align: right;\n",
       "    }\n",
       "</style>\n",
       "<table border=\"1\" class=\"dataframe\">\n",
       "  <thead>\n",
       "    <tr style=\"text-align: right;\">\n",
       "      <th></th>\n",
       "      <th>Class</th>\n",
       "      <th>Implementation_Integer_bits(i)_1</th>\n",
       "      <th>Implementation_Integer_bits(i)_2</th>\n",
       "      <th>Implementation_Integer_bits(i)_3</th>\n",
       "      <th>Implementation_Integer_bits(i)_4</th>\n",
       "      <th>Implementation_Integer_bits(i)_5</th>\n",
       "      <th>Implementation_Integer_bits(i)_6</th>\n",
       "      <th>Implementation_Integer_bits(i)_7</th>\n",
       "      <th>Implementation_Integer_bits(i)_8</th>\n",
       "      <th>Implementation_Integer_bits(i)_9</th>\n",
       "      <th>...</th>\n",
       "      <th>b2_plan_-1.1795</th>\n",
       "      <th>b2_plan_-1.1224</th>\n",
       "      <th>b2_plan_-1.0653</th>\n",
       "      <th>b2_plan_-1.0083</th>\n",
       "      <th>b2_plan_-0.9512</th>\n",
       "      <th>b2_plan_-0.89413</th>\n",
       "      <th>b2_plan_-0.83706</th>\n",
       "      <th>b2_plan_-0.77998</th>\n",
       "      <th>b2_plan_-0.72291</th>\n",
       "      <th>b2_plan_-0.66584</th>\n",
       "    </tr>\n",
       "  </thead>\n",
       "  <tbody>\n",
       "    <tr>\n",
       "      <th>0</th>\n",
       "      <td>0</td>\n",
       "      <td>1</td>\n",
       "      <td>0</td>\n",
       "      <td>0</td>\n",
       "      <td>0</td>\n",
       "      <td>0</td>\n",
       "      <td>0</td>\n",
       "      <td>0</td>\n",
       "      <td>0</td>\n",
       "      <td>0</td>\n",
       "      <td>...</td>\n",
       "      <td>0</td>\n",
       "      <td>0</td>\n",
       "      <td>0</td>\n",
       "      <td>0</td>\n",
       "      <td>0</td>\n",
       "      <td>0</td>\n",
       "      <td>0</td>\n",
       "      <td>0</td>\n",
       "      <td>0</td>\n",
       "      <td>0</td>\n",
       "    </tr>\n",
       "    <tr>\n",
       "      <th>1</th>\n",
       "      <td>0</td>\n",
       "      <td>1</td>\n",
       "      <td>0</td>\n",
       "      <td>0</td>\n",
       "      <td>0</td>\n",
       "      <td>0</td>\n",
       "      <td>0</td>\n",
       "      <td>0</td>\n",
       "      <td>0</td>\n",
       "      <td>0</td>\n",
       "      <td>...</td>\n",
       "      <td>0</td>\n",
       "      <td>0</td>\n",
       "      <td>0</td>\n",
       "      <td>0</td>\n",
       "      <td>0</td>\n",
       "      <td>0</td>\n",
       "      <td>0</td>\n",
       "      <td>0</td>\n",
       "      <td>0</td>\n",
       "      <td>0</td>\n",
       "    </tr>\n",
       "    <tr>\n",
       "      <th>2</th>\n",
       "      <td>0</td>\n",
       "      <td>1</td>\n",
       "      <td>0</td>\n",
       "      <td>0</td>\n",
       "      <td>0</td>\n",
       "      <td>0</td>\n",
       "      <td>0</td>\n",
       "      <td>0</td>\n",
       "      <td>0</td>\n",
       "      <td>0</td>\n",
       "      <td>...</td>\n",
       "      <td>0</td>\n",
       "      <td>0</td>\n",
       "      <td>0</td>\n",
       "      <td>0</td>\n",
       "      <td>0</td>\n",
       "      <td>0</td>\n",
       "      <td>0</td>\n",
       "      <td>0</td>\n",
       "      <td>0</td>\n",
       "      <td>0</td>\n",
       "    </tr>\n",
       "    <tr>\n",
       "      <th>3</th>\n",
       "      <td>0</td>\n",
       "      <td>1</td>\n",
       "      <td>0</td>\n",
       "      <td>0</td>\n",
       "      <td>0</td>\n",
       "      <td>0</td>\n",
       "      <td>0</td>\n",
       "      <td>0</td>\n",
       "      <td>0</td>\n",
       "      <td>0</td>\n",
       "      <td>...</td>\n",
       "      <td>0</td>\n",
       "      <td>0</td>\n",
       "      <td>0</td>\n",
       "      <td>0</td>\n",
       "      <td>0</td>\n",
       "      <td>0</td>\n",
       "      <td>0</td>\n",
       "      <td>0</td>\n",
       "      <td>0</td>\n",
       "      <td>0</td>\n",
       "    </tr>\n",
       "    <tr>\n",
       "      <th>4</th>\n",
       "      <td>0</td>\n",
       "      <td>1</td>\n",
       "      <td>0</td>\n",
       "      <td>0</td>\n",
       "      <td>0</td>\n",
       "      <td>0</td>\n",
       "      <td>0</td>\n",
       "      <td>0</td>\n",
       "      <td>0</td>\n",
       "      <td>0</td>\n",
       "      <td>...</td>\n",
       "      <td>0</td>\n",
       "      <td>0</td>\n",
       "      <td>0</td>\n",
       "      <td>0</td>\n",
       "      <td>0</td>\n",
       "      <td>0</td>\n",
       "      <td>0</td>\n",
       "      <td>0</td>\n",
       "      <td>0</td>\n",
       "      <td>0</td>\n",
       "    </tr>\n",
       "  </tbody>\n",
       "</table>\n",
       "<p>5 rows × 101 columns</p>\n",
       "</div>"
      ],
      "text/plain": [
       "   Class  Implementation_Integer_bits(i)_1  Implementation_Integer_bits(i)_2  \\\n",
       "0      0                                 1                                 0   \n",
       "1      0                                 1                                 0   \n",
       "2      0                                 1                                 0   \n",
       "3      0                                 1                                 0   \n",
       "4      0                                 1                                 0   \n",
       "\n",
       "   Implementation_Integer_bits(i)_3  Implementation_Integer_bits(i)_4  \\\n",
       "0                                 0                                 0   \n",
       "1                                 0                                 0   \n",
       "2                                 0                                 0   \n",
       "3                                 0                                 0   \n",
       "4                                 0                                 0   \n",
       "\n",
       "   Implementation_Integer_bits(i)_5  Implementation_Integer_bits(i)_6  \\\n",
       "0                                 0                                 0   \n",
       "1                                 0                                 0   \n",
       "2                                 0                                 0   \n",
       "3                                 0                                 0   \n",
       "4                                 0                                 0   \n",
       "\n",
       "   Implementation_Integer_bits(i)_7  Implementation_Integer_bits(i)_8  \\\n",
       "0                                 0                                 0   \n",
       "1                                 0                                 0   \n",
       "2                                 0                                 0   \n",
       "3                                 0                                 0   \n",
       "4                                 0                                 0   \n",
       "\n",
       "   Implementation_Integer_bits(i)_9  ...  b2_plan_-1.1795  b2_plan_-1.1224  \\\n",
       "0                                 0  ...                0                0   \n",
       "1                                 0  ...                0                0   \n",
       "2                                 0  ...                0                0   \n",
       "3                                 0  ...                0                0   \n",
       "4                                 0  ...                0                0   \n",
       "\n",
       "   b2_plan_-1.0653  b2_plan_-1.0083  b2_plan_-0.9512  b2_plan_-0.89413  \\\n",
       "0                0                0                0                 0   \n",
       "1                0                0                0                 0   \n",
       "2                0                0                0                 0   \n",
       "3                0                0                0                 0   \n",
       "4                0                0                0                 0   \n",
       "\n",
       "   b2_plan_-0.83706  b2_plan_-0.77998  b2_plan_-0.72291  b2_plan_-0.66584  \n",
       "0                 0                 0                 0                 0  \n",
       "1                 0                 0                 0                 0  \n",
       "2                 0                 0                 0                 0  \n",
       "3                 0                 0                 0                 0  \n",
       "4                 0                 0                 0                 0  \n",
       "\n",
       "[5 rows x 101 columns]"
      ]
     },
     "execution_count": 20,
     "metadata": {},
     "output_type": "execute_result"
    }
   ],
   "source": [
    "base.head()"
   ]
  },
  {
   "cell_type": "code",
   "execution_count": 21,
   "metadata": {},
   "outputs": [
    {
     "data": {
      "text/plain": [
       "0    45566\n",
       "1    24977\n",
       "Name: Class, dtype: int64"
      ]
     },
     "execution_count": 21,
     "metadata": {},
     "output_type": "execute_result"
    }
   ],
   "source": [
    "base.Class.value_counts()"
   ]
  },
  {
   "cell_type": "markdown",
   "metadata": {},
   "source": [
    "Exibe a quantidade de linhas e colunas (atributos)"
   ]
  },
  {
   "cell_type": "code",
   "execution_count": 22,
   "metadata": {},
   "outputs": [],
   "source": [
    "y = base['Class'].values\n",
    "X = base.drop(\"Class\", axis=1).values"
   ]
  },
  {
   "cell_type": "code",
   "execution_count": 23,
   "metadata": {},
   "outputs": [
    {
     "data": {
      "text/plain": [
       "array([0, 0, 0, ..., 0, 0, 0], dtype=int8)"
      ]
     },
     "execution_count": 23,
     "metadata": {},
     "output_type": "execute_result"
    }
   ],
   "source": [
    "y"
   ]
  },
  {
   "cell_type": "code",
   "execution_count": 24,
   "metadata": {},
   "outputs": [
    {
     "data": {
      "text/plain": [
       "(70543, 100)"
      ]
     },
     "execution_count": 24,
     "metadata": {},
     "output_type": "execute_result"
    }
   ],
   "source": [
    "X.shape"
   ]
  },
  {
   "cell_type": "code",
   "execution_count": 25,
   "metadata": {},
   "outputs": [
    {
     "data": {
      "text/plain": [
       "array([[1, 0, 0, 0, 0, 0, 0, 0, 0, 0, 0, 0, 0, 0, 0, 0, 0, 0, 0, 0, 0, 0,\n",
       "        0, 0, 0, 0, 0, 0, 0, 0, 0, 0, 0, 0, 0, 0, 0, 1, 0, 0, 0, 0, 0, 0,\n",
       "        0, 0, 0, 0, 0, 0, 0, 0, 0, 0, 0, 0, 0, 0, 0, 0, 0, 0, 1, 0, 0, 1,\n",
       "        1, 1, 0, 0, 0, 0, 0, 0, 0, 0, 0, 0, 1, 0, 0, 0, 0, 0, 0, 0, 0, 0,\n",
       "        0, 1, 0, 0, 0, 0, 0, 0, 0, 0, 0, 0]], dtype=uint8)"
      ]
     },
     "execution_count": 25,
     "metadata": {},
     "output_type": "execute_result"
    }
   ],
   "source": [
    "X[:1]"
   ]
  },
  {
   "cell_type": "code",
   "execution_count": 26,
   "metadata": {},
   "outputs": [
    {
     "data": {
      "text/plain": [
       "(70543,)"
      ]
     },
     "execution_count": 26,
     "metadata": {},
     "output_type": "execute_result"
    }
   ],
   "source": [
    "y.shape"
   ]
  },
  {
   "cell_type": "code",
   "execution_count": 27,
   "metadata": {},
   "outputs": [
    {
     "data": {
      "text/plain": [
       "array([0], dtype=int8)"
      ]
     },
     "execution_count": 27,
     "metadata": {},
     "output_type": "execute_result"
    }
   ],
   "source": [
    "y[:1]"
   ]
  },
  {
   "cell_type": "markdown",
   "metadata": {},
   "source": [
    "## Resultados"
   ]
  },
  {
   "cell_type": "markdown",
   "metadata": {},
   "source": [
    "Os experimentos foram executados para cada algoritmos: Random Forest, SVM, Naive Bayes, Decision Trees, Nearest Neighbors, Rede Neural Simples, Rede Neural com normalização em Batch, Rede Neural com Dropout e Rede Neural com normalização em Batch e Dropout. Foi utilizado Kfolds k=10 dividir a base em 10 subconjuntos (treinamento e teste).\n",
    "\n",
    "Validação cruzada K-Folds\n",
    "Fornece índices de treino / teste para dividir os dados nos conjuntos de treinamento / teste. Dividir o conjunto de dados em k dobras consecutivas (sem embaralhar por padrão). Cada dobra é então usada uma vez como validação, enquanto as dobras remanescentes k - 1 formam o conjunto de treino.\n",
    "\n",
    "No aprendizado de máquina, geralmente dividimos o conjunto de dados em conjunto de dados de treinamento, conjunto de dados de validação e conjunto de dados de teste."
   ]
  },
  {
   "cell_type": "code",
   "execution_count": 28,
   "metadata": {},
   "outputs": [
    {
     "name": "stdout",
     "output_type": "stream",
     "text": [
      "StratifiedKFold(n_splits=10, random_state=None, shuffle=False)\n"
     ]
    }
   ],
   "source": [
    "kf = StratifiedKFold(n_splits=10)\n",
    "kf.get_n_splits(X,y)\n",
    "print(kf)\n",
    "#KFold(n_splits=10, random_state=None, shuffle=False)\n",
    "#for train_index, test_index in kf.split(X):\n",
    "#    X_train, X_test = X[train_index], X[test_index]\n",
    "#    y_train, y_test = y[train_index], y[test_index]"
   ]
  },
  {
   "cell_type": "markdown",
   "metadata": {},
   "source": [
    "# Algoritmos de Aprendizagem de Máquina"
   ]
  },
  {
   "cell_type": "markdown",
   "metadata": {},
   "source": [
    "## Random Forest"
   ]
  },
  {
   "cell_type": "code",
   "execution_count": 29,
   "metadata": {},
   "outputs": [],
   "source": [
    "from sklearn.ensemble import RandomForestClassifier\n",
    "from sklearn.metrics import accuracy_score"
   ]
  },
  {
   "cell_type": "code",
   "execution_count": 30,
   "metadata": {},
   "outputs": [
    {
     "name": "stdout",
     "output_type": "stream",
     "text": [
      "0.569014643550742\n",
      "0.40502030527937266\n",
      "0.4631861312407415\n",
      "0.43215479725817607\n",
      "[[28571 16995]\n",
      " [13408 11569]]\n",
      "50.941081523895264\n"
     ]
    }
   ],
   "source": [
    "n_estimators = 70\n",
    "acc = []\n",
    "prec = []\n",
    "rec = []\n",
    "f1 = []\n",
    "mc = []\n",
    "t1=time.time()\n",
    "y_hat = np.zeros(len(X))\n",
    "\n",
    "for train_index, test_index in kf.split(X,y): \n",
    "    clf_rf = RandomForestClassifier(n_estimators=n_estimators, random_state=50)\n",
    "    clf_rf.fit(X[train_index], y[train_index])\n",
    "    y_hat[test_index] = clf_rf.predict(X[test_index])\n",
    "\n",
    "t2=time.time()\n",
    "\n",
    "acc = accuracy_score(y, y_hat)\n",
    "prec = precision_score(y, y_hat)\n",
    "rec = recall_score(y, y_hat)\n",
    "f1 = (2*prec*rec)/(prec+rec)\n",
    "mc = confusion_matrix(y, y_hat)\n",
    "\n",
    "temp = (t2-t1) # tempo (s) \n",
    "\n",
    "print(acc)\n",
    "print(prec)\n",
    "print(rec)\n",
    "print(f1)\n",
    "print(mc)\n",
    "print(temp)\n",
    "\n",
    "\n",
    "#labels = {'n_estimators':n_estimators, 'accuracy_rf':acc, 'rate precision':prec, 'rate recall':rec, 'f1':f1, 'confusion matrix':mc, 'tempo':temp}\n",
    "#results1 = 'results1' \n",
    "#with open(os.path.join(results1, '/home/maria/jupyter/results1/random_forest_1.txt'), 'w') as fp:\n",
    "#    for i in labels:\n",
    "#        fp.write('{}:{}\\n'.format(i,labels[i]))\n",
    "\n"
   ]
  },
  {
   "cell_type": "markdown",
   "metadata": {},
   "source": [
    "Feature Importance"
   ]
  },
  {
   "cell_type": "code",
   "execution_count": 31,
   "metadata": {},
   "outputs": [
    {
     "name": "stdout",
     "output_type": "stream",
     "text": [
      "Implementation_Integer_bits(i)_1 0.006350303690419332\n",
      "Implementation_Integer_bits(i)_2 0.006179250179434806\n",
      "Implementation_Integer_bits(i)_3 0.007226309620030117\n",
      "Implementation_Integer_bits(i)_4 0.007852759452872666\n",
      "Implementation_Integer_bits(i)_5 0.005947849652173488\n",
      "Implementation_Integer_bits(i)_6 0.007883240622763521\n",
      "Implementation_Integer_bits(i)_7 0.003985847568602466\n",
      "Implementation_Integer_bits(i)_8 0.0028760470954132603\n",
      "Implementation_Integer_bits(i)_9 0.0020833195606677186\n",
      "Implementation_Integer_bits(i)_10 0.0016368440679094588\n",
      "Implementation_Integer_bits(i)_11 0.0014079384250595519\n",
      "Implementation_Integer_bits(i)_12 0.002134005222026039\n",
      "Implementation_Integer_bits(i)_13 0.002983589504860064\n",
      "Implementation_Integer_bits(i)_14 0.0031126399157076095\n",
      "Implementation_Integer_bits(i)_15 0.002860503586795237\n",
      "Implementation_Integer_bits(i)_16 0.0001712651331694998\n",
      "Implementation_Integer_bits(i)_17 0.00021967763999620994\n",
      "Implementation_Integer_bits(i)_18 0.00031141987783244216\n",
      "Implementation_Integer_bits(i)_19 0.0003779738480155332\n",
      "Implementation_Integer_bits(i)_20 0.0006305200403151907\n",
      "Implementation_Integer_bits(i)_21 0.0010606018167470296\n",
      "Implementation_Integer_bits(i)_22 0.00133289096796849\n",
      "Implementation_Integer_bits(i)_23 0.01551662055705454\n",
      "Implementation_Integer_bits(i)_24 0.01187014030396796\n",
      "Implementation_Integer_bits(i)_25 0.013246134807012266\n",
      "Implementation_Integer_bits(i)_26 0.013227839019892027\n",
      "Implementation_Integer_bits(i)_27 0.010077666101634738\n",
      "Implementation_Integer_bits(i)_28 0.00598436840818274\n",
      "Implementation_Integer_bits(i)_29 0.0\n",
      "Implementation_Integer_bits(i)_30 0.0\n",
      "Implementation_Integer_bits(i)_31 0.0\n",
      "Implementation_fractional_bits(j)_0 0.010885314444307015\n",
      "Implementation_fractional_bits(j)_1 0.01007773810748967\n",
      "Implementation_fractional_bits(j)_2 0.011650010376979495\n",
      "Implementation_fractional_bits(j)_3 0.02127554985261977\n",
      "Implementation_fractional_bits(j)_4 0.028373394393172522\n",
      "Implementation_fractional_bits(j)_5 0.025847783124580203\n",
      "Implementation_fractional_bits(j)_6 0.027462197026765514\n",
      "Implementation_fractional_bits(j)_7 0.026295195784762245\n",
      "Implementation_fractional_bits(j)_8 0.021101948783027888\n",
      "Implementation_fractional_bits(j)_9 0.014197785611307306\n",
      "Implementation_fractional_bits(j)_10 0.013242247591090734\n",
      "Implementation_fractional_bits(j)_11 0.008574873439960324\n",
      "Implementation_fractional_bits(j)_12 0.008647817613750863\n",
      "Implementation_fractional_bits(j)_13 0.00946177244462572\n",
      "Implementation_fractional_bits(j)_14 0.00835183613569626\n",
      "Implementation_fractional_bits(j)_15 0.00019059507349162468\n",
      "Implementation_fractional_bits(j)_16 0.0004925229689852318\n",
      "Implementation_fractional_bits(j)_17 0.0005555111196907688\n",
      "Implementation_fractional_bits(j)_18 0.000663004403174759\n",
      "Implementation_fractional_bits(j)_19 0.00021096253274055922\n",
      "Implementation_fractional_bits(j)_20 0.00022103543672595768\n",
      "Implementation_fractional_bits(j)_21 0.00033502037861100686\n",
      "Implementation_fractional_bits(j)_22 0.00018600473669234764\n",
      "Implementation_fractional_bits(j)_23 0.00019779384012275306\n",
      "Implementation_fractional_bits(j)_24 0.0008027280219052315\n",
      "Implementation_fractional_bits(j)_25 0.0003163497735690341\n",
      "Implementation_fractional_bits(j)_26 0.00019579024843945753\n",
      "Implementation_fractional_bits(j)_27 0.00018384119402749773\n",
      "Implementation_fractional_bits(j)_28 0.00020827284467858268\n",
      "Implementation_fractional_bits(j)_29 0.00017113173612077803\n",
      "Implementation_fractional_bits(j)_30 0.0002307794305706013\n",
      "Bit_7 0.049028022405019724\n",
      "Bit_15 0.014455460014294227\n",
      "Bit_31 0.05757330363407254\n",
      "Uncertainty_plan_0.0 0.0\n",
      "a1_plan_0 0.0\n",
      "a2_plan_0.00068279 0.0026837886827759953\n",
      "a2_plan_0.00074131 0.0025821353479885283\n",
      "a2_plan_0.00079984 0.0024704850300193495\n",
      "a2_plan_0.00085836 0.0022076764731628375\n",
      "a2_plan_0.00091689 0.001903960287177587\n",
      "a2_plan_0.00097541 0.0017520865915133714\n",
      "a2_plan_0.0010339000000000001 0.0018573323514588364\n",
      "a2_plan_0.0010925000000000002 0.0021582101070845507\n",
      "a2_plan_0.001151 0.0027056173926590017\n",
      "a2_plan_0.0012095 0.003386557612071645\n",
      "a2_plan_0.001268 0.004022545264882545\n",
      "b1_plan_0.7 0.044629790545073246\n",
      "b1_plan_0.76 0.031947560901720524\n",
      "b1_plan_0.82 0.023744081392101272\n",
      "b1_plan_0.88 0.01540733503314312\n",
      "b1_plan_0.94 0.01193364778451756\n",
      "b1_plan_1.0 0.009868828367162026\n",
      "b1_plan_1.06 0.011770393211315582\n",
      "b1_plan_1.12 0.015155459602293168\n",
      "b1_plan_1.18 0.022954372444003536\n",
      "b1_plan_1.24 0.024131164645556254\n",
      "b1_plan_1.3 0.02631248349614375\n",
      "b2_plan_-1.2366 0.0376047618887363\n",
      "b2_plan_-1.1795 0.02843771889960786\n",
      "b2_plan_-1.1224 0.0199394623959193\n",
      "b2_plan_-1.0653 0.01328389072631698\n",
      "b2_plan_-1.0083 0.010040803175932672\n",
      "b2_plan_-0.9512 0.009239964566599543\n",
      "b2_plan_-0.89413 0.010963357012820403\n",
      "b2_plan_-0.83706 0.015073355150463555\n",
      "b2_plan_-0.77998 0.021613986059560844\n",
      "b2_plan_-0.72291 0.02867294696223335\n",
      "b2_plan_-0.66584 0.02933307938839272\n"
     ]
    }
   ],
   "source": [
    "for name, importance in zip(base.drop(\"Class\", axis=1).columns, clf_rf.feature_importances_):\n",
    "    print(name,importance)"
   ]
  },
  {
   "cell_type": "markdown",
   "metadata": {},
   "source": [
    "Exibe as importâncias dos atributos na base"
   ]
  },
  {
   "cell_type": "markdown",
   "metadata": {},
   "source": [
    "## SVM"
   ]
  },
  {
   "cell_type": "code",
   "execution_count": 35,
   "metadata": {},
   "outputs": [],
   "source": [
    "from sklearn import svm\n",
    "from sklearn.metrics import accuracy_score"
   ]
  },
  {
   "cell_type": "code",
   "execution_count": 36,
   "metadata": {},
   "outputs": [
    {
     "name": "stderr",
     "output_type": "stream",
     "text": [
      "/home/maria/tf/lib/python3.5/site-packages/sklearn/svm/base.py:193: FutureWarning: The default value of gamma will change from 'auto' to 'scale' in version 0.22 to account better for unscaled features. Set gamma explicitly to 'auto' or 'scale' to avoid this warning.\n",
      "  \"avoid this warning.\", FutureWarning)\n",
      "/home/maria/tf/lib/python3.5/site-packages/sklearn/svm/base.py:193: FutureWarning: The default value of gamma will change from 'auto' to 'scale' in version 0.22 to account better for unscaled features. Set gamma explicitly to 'auto' or 'scale' to avoid this warning.\n",
      "  \"avoid this warning.\", FutureWarning)\n",
      "/home/maria/tf/lib/python3.5/site-packages/sklearn/svm/base.py:193: FutureWarning: The default value of gamma will change from 'auto' to 'scale' in version 0.22 to account better for unscaled features. Set gamma explicitly to 'auto' or 'scale' to avoid this warning.\n",
      "  \"avoid this warning.\", FutureWarning)\n",
      "/home/maria/tf/lib/python3.5/site-packages/sklearn/svm/base.py:193: FutureWarning: The default value of gamma will change from 'auto' to 'scale' in version 0.22 to account better for unscaled features. Set gamma explicitly to 'auto' or 'scale' to avoid this warning.\n",
      "  \"avoid this warning.\", FutureWarning)\n",
      "/home/maria/tf/lib/python3.5/site-packages/sklearn/svm/base.py:193: FutureWarning: The default value of gamma will change from 'auto' to 'scale' in version 0.22 to account better for unscaled features. Set gamma explicitly to 'auto' or 'scale' to avoid this warning.\n",
      "  \"avoid this warning.\", FutureWarning)\n",
      "/home/maria/tf/lib/python3.5/site-packages/sklearn/svm/base.py:193: FutureWarning: The default value of gamma will change from 'auto' to 'scale' in version 0.22 to account better for unscaled features. Set gamma explicitly to 'auto' or 'scale' to avoid this warning.\n",
      "  \"avoid this warning.\", FutureWarning)\n",
      "/home/maria/tf/lib/python3.5/site-packages/sklearn/svm/base.py:193: FutureWarning: The default value of gamma will change from 'auto' to 'scale' in version 0.22 to account better for unscaled features. Set gamma explicitly to 'auto' or 'scale' to avoid this warning.\n",
      "  \"avoid this warning.\", FutureWarning)\n",
      "/home/maria/tf/lib/python3.5/site-packages/sklearn/svm/base.py:193: FutureWarning: The default value of gamma will change from 'auto' to 'scale' in version 0.22 to account better for unscaled features. Set gamma explicitly to 'auto' or 'scale' to avoid this warning.\n",
      "  \"avoid this warning.\", FutureWarning)\n",
      "/home/maria/tf/lib/python3.5/site-packages/sklearn/svm/base.py:193: FutureWarning: The default value of gamma will change from 'auto' to 'scale' in version 0.22 to account better for unscaled features. Set gamma explicitly to 'auto' or 'scale' to avoid this warning.\n",
      "  \"avoid this warning.\", FutureWarning)\n",
      "/home/maria/tf/lib/python3.5/site-packages/sklearn/svm/base.py:193: FutureWarning: The default value of gamma will change from 'auto' to 'scale' in version 0.22 to account better for unscaled features. Set gamma explicitly to 'auto' or 'scale' to avoid this warning.\n",
      "  \"avoid this warning.\", FutureWarning)\n"
     ]
    },
    {
     "name": "stdout",
     "output_type": "stream",
     "text": [
      "0.8812072069517882\n",
      "0.8476393950818986\n",
      "0.8101052968731233\n",
      "0.8284474287585981\n",
      "[[41929  3637]\n",
      " [ 4743 20234]]\n",
      "800.9172005653381\n"
     ]
    }
   ],
   "source": [
    "C=1000\n",
    "acc = []\n",
    "prec = []\n",
    "rec = []\n",
    "f1 = []\n",
    "mc = []\n",
    "t1=time.time()\n",
    "y_hat = np.zeros(len(X))\n",
    "\n",
    "for train_index, test_index in kf.split(X,y): \n",
    "    clf_svm = svm.SVC(C=C, random_state=42)\n",
    "    clf_svm.fit(X[train_index], y[train_index])\n",
    "    y_hat[test_index] = clf_svm.predict(X[test_index])\n",
    "\n",
    "t2=time.time()\n",
    "\n",
    "acc = accuracy_score(y, y_hat)\n",
    "prec = precision_score(y, y_hat)\n",
    "rec = recall_score(y, y_hat)\n",
    "f1 = (2*prec*rec)/(prec+rec)\n",
    "mc = confusion_matrix(y, y_hat)\n",
    "\n",
    "temp = (t2-t1) # tempo (s) \n",
    "\n",
    "print(acc)\n",
    "print(prec)\n",
    "print(rec)\n",
    "print(f1)\n",
    "print(mc)\n",
    "print(temp)\n",
    "\n",
    "\n",
    "#labels = {'c':c, 'accuracy_svm':acc, 'rate precision':prec, 'rate recall':rec, 'f1':f1, 'confusion matrix':mc, 'tempo':temp}\n",
    "#results1 = 'results1' \n",
    "#with open(os.path.join(results1, '/home/maria/jupyter/results1/svm_1.txt'), 'w') as fp:\n",
    "#    for i in labels:\n",
    "#        fp.write('{}:{}\\n'.format(i,labels[i]))\n",
    "\n"
   ]
  },
  {
   "cell_type": "markdown",
   "metadata": {},
   "source": [
    "## Naive Bayes"
   ]
  },
  {
   "cell_type": "code",
   "execution_count": 37,
   "metadata": {},
   "outputs": [],
   "source": [
    "from sklearn.naive_bayes import GaussianNB\n",
    "from sklearn.metrics import accuracy_score"
   ]
  },
  {
   "cell_type": "code",
   "execution_count": 38,
   "metadata": {},
   "outputs": [
    {
     "name": "stdout",
     "output_type": "stream",
     "text": [
      "0.6268233559672823\n",
      "0.46850172913356386\n",
      "0.40136925971894144\n",
      "0.43234501347708887\n",
      "[[34193 11373]\n",
      " [14952 10025]]\n",
      "1.3611550331115723\n"
     ]
    }
   ],
   "source": [
    "acc = []\n",
    "prec = []\n",
    "rec = []\n",
    "f1 = []\n",
    "mc = []\n",
    "t1=time.time()\n",
    "y_hat = np.zeros(len(X))\n",
    "\n",
    "for train_index, test_index in kf.split(X,y): \n",
    "    clf_gnb = GaussianNB()\n",
    "    clf_gnb.fit(X[train_index], y[train_index])\n",
    "    y_hat[test_index] = clf_gnb.predict(X[test_index])\n",
    "\n",
    "t2=time.time()\n",
    "\n",
    "acc = accuracy_score(y, y_hat)\n",
    "prec = precision_score(y, y_hat)\n",
    "rec = recall_score(y, y_hat)\n",
    "f1 = (2*prec*rec)/(prec+rec)\n",
    "mc = confusion_matrix(y, y_hat)\n",
    "\n",
    "temp = (t2-t1) # tempo (s) \n",
    "\n",
    "print(acc)\n",
    "print(prec)\n",
    "print(rec)\n",
    "print(f1)\n",
    "print(mc)\n",
    "print(temp)\n",
    "\n",
    "#labels = {'accuracy_nb':acc, 'rate precision':prec, 'rate recall':rec, 'f1':f1, 'confusion matrix':mc, 'tempo':temp}\n",
    "#results1 = 'results1' \n",
    "#with open(os.path.join(results1, '/home/maria/jupyter/results1/naive_bayes.txt'), 'w') as fp:\n",
    "#    for i in labels:\n",
    "#        fp.write('{}:{}\\n'.format(i,labels[i]))\n",
    "\n"
   ]
  },
  {
   "cell_type": "markdown",
   "metadata": {},
   "source": [
    "## Decision Trees"
   ]
  },
  {
   "cell_type": "code",
   "execution_count": 39,
   "metadata": {},
   "outputs": [],
   "source": [
    "from sklearn import tree\n",
    "from sklearn.metrics import accuracy_score"
   ]
  },
  {
   "cell_type": "code",
   "execution_count": 40,
   "metadata": {},
   "outputs": [
    {
     "name": "stdout",
     "output_type": "stream",
     "text": [
      "0.7091419417943665\n",
      "0.5668375453428066\n",
      "0.7570164551387276\n",
      "0.6482668769499778\n",
      "[[31117 14449]\n",
      " [ 6069 18908]]\n",
      "7.0824244022369385\n"
     ]
    }
   ],
   "source": [
    "min_samples_split=9\n",
    "acc = []\n",
    "prec = []\n",
    "rec = []\n",
    "f1 = []\n",
    "mc = []\n",
    "t1=time.time()\n",
    "y_hat = np.zeros(len(X))\n",
    "\n",
    "for train_index, test_index in kf.split(X,y): \n",
    "    clf_dt = tree.DecisionTreeClassifier(min_samples_split=min_samples_split, random_state=42)\n",
    "    clf_dt.fit(X[train_index], y[train_index])\n",
    "    y_hat[test_index] = clf_dt.predict(X[test_index])\n",
    "\n",
    "t2=time.time()\n",
    "\n",
    "acc = accuracy_score(y, y_hat)\n",
    "prec = precision_score(y, y_hat)\n",
    "rec = recall_score(y, y_hat)\n",
    "f1 = (2*prec*rec)/(prec+rec)\n",
    "mc = confusion_matrix(y, y_hat)\n",
    "\n",
    "temp = (t2-t1) # tempo (s) \n",
    "\n",
    "print(acc)\n",
    "print(prec)\n",
    "print(rec)\n",
    "print(f1)\n",
    "print(mc)\n",
    "print(temp)\n",
    "\n",
    "#labels = {'min_samples_split':min_samples_split, 'accuracy_dt':acc, 'rate precision':prec, 'rate recall':rec, 'f1':f1, 'confusion matrix':mc, 'tempo':temp}\n",
    "#results1 = 'results1' \n",
    "#with open(os.path.join(results1, '/home/maria/jupyter/results1/decision_tree_1.txt'), 'w') as fp:\n",
    "#    for i in labels:\n",
    "#        fp.write('{}:{}\\n'.format(i,labels[i]))\n"
   ]
  },
  {
   "cell_type": "code",
   "execution_count": 41,
   "metadata": {},
   "outputs": [
    {
     "data": {
      "text/plain": [
       "DecisionTreeClassifier(class_weight=None, criterion='gini', max_depth=None,\n",
       "                       max_features=None, max_leaf_nodes=None,\n",
       "                       min_impurity_decrease=0.0, min_impurity_split=None,\n",
       "                       min_samples_leaf=1, min_samples_split=2,\n",
       "                       min_weight_fraction_leaf=0.0, presort=False,\n",
       "                       random_state=None, splitter='best')"
      ]
     },
     "execution_count": 41,
     "metadata": {},
     "output_type": "execute_result"
    }
   ],
   "source": [
    "clf_dt = tree.DecisionTreeClassifier()\n",
    "clf_dt"
   ]
  },
  {
   "cell_type": "markdown",
   "metadata": {},
   "source": [
    "## Nearest Neighbors"
   ]
  },
  {
   "cell_type": "code",
   "execution_count": 42,
   "metadata": {},
   "outputs": [],
   "source": [
    "from sklearn.neighbors import KNeighborsClassifier\n",
    "from sklearn.metrics import accuracy_score"
   ]
  },
  {
   "cell_type": "code",
   "execution_count": 43,
   "metadata": {},
   "outputs": [
    {
     "name": "stdout",
     "output_type": "stream",
     "text": [
      "0.5093630835093489\n",
      "0.26885796545105567\n",
      "0.22432638026984825\n",
      "0.2445817054804985\n",
      "[[30329 15237]\n",
      " [19374  5603]]\n",
      "154.02076077461243\n"
     ]
    }
   ],
   "source": [
    "n_neighbors=1\n",
    "acc = []\n",
    "prec = []\n",
    "rec = []\n",
    "f1 = []\n",
    "mc = []\n",
    "t1=time.time()\n",
    "y_hat = np.zeros(len(X))\n",
    "\n",
    "for train_index, test_index in kf.split(X,y):\n",
    "    clf_neigh = KNeighborsClassifier(n_neighbors=n_neighbors)\n",
    "    clf_neigh.fit(X[train_index], y[train_index])\n",
    "    y_hat[test_index] = clf_neigh.predict(X[test_index])\n",
    "\n",
    "t2=time.time()\n",
    "\n",
    "acc = accuracy_score(y, y_hat)\n",
    "prec = precision_score(y, y_hat)\n",
    "rec = recall_score(y, y_hat)\n",
    "f1 = (2*prec*rec)/(prec+rec)\n",
    "mc = confusion_matrix(y, y_hat)\n",
    "\n",
    "temp = (t2-t1) # tempo (s) \n",
    "\n",
    "print(acc)\n",
    "print(prec)\n",
    "print(rec)\n",
    "print(f1)\n",
    "print(mc)\n",
    "print(temp)\n",
    "\n",
    "#labels = {'n_neighbors':n_neighbors, 'accuracy_nn':acc, 'rate precision':prec, 'rate recall':rec, 'f1':f1, 'confusion matrix':mc, 'tempo':temp}\n",
    "#results1 = 'results1' \n",
    "#with open(os.path.join(results1, '/home/maria/jupyter/results1/knn_1.txt'), 'w') as fp:\n",
    "#    for i in labels:\n",
    "#        fp.write('{}:{}\\n'.format(i,labels[i]))\n"
   ]
  },
  {
   "cell_type": "code",
   "execution_count": 44,
   "metadata": {},
   "outputs": [
    {
     "data": {
      "text/plain": [
       "KNeighborsClassifier(algorithm='auto', leaf_size=30, metric='minkowski',\n",
       "                     metric_params=None, n_jobs=None, n_neighbors=5, p=2,\n",
       "                     weights='uniform')"
      ]
     },
     "execution_count": 44,
     "metadata": {},
     "output_type": "execute_result"
    }
   ],
   "source": [
    "clf_neigh = KNeighborsClassifier()\n",
    "clf_neigh"
   ]
  },
  {
   "cell_type": "markdown",
   "metadata": {},
   "source": [
    "## Adaboost"
   ]
  },
  {
   "cell_type": "code",
   "execution_count": 45,
   "metadata": {},
   "outputs": [],
   "source": [
    "from sklearn.ensemble import AdaBoostClassifier\n",
    "from sklearn.metrics import accuracy_score"
   ]
  },
  {
   "cell_type": "code",
   "execution_count": 47,
   "metadata": {},
   "outputs": [
    {
     "name": "stdout",
     "output_type": "stream",
     "text": [
      "0.900032604227209\n",
      "0.8037826661695421\n",
      "0.9494334788004964\n",
      "0.8705580029368576\n",
      "[[39777  5789]\n",
      " [ 1263 23714]]\n",
      "51.72462773323059\n"
     ]
    }
   ],
   "source": [
    "n_estimators = 40\n",
    "learning_rate=1.0\n",
    "acc = []\n",
    "prec = []\n",
    "rec = []\n",
    "f1 = []\n",
    "mc = []\n",
    "t1=time.time()\n",
    "y_hat = np.zeros(len(X))\n",
    "\n",
    "for train_index, test_index in kf.split(X,y): \n",
    "    clf_ad = AdaBoostClassifier(n_estimators=n_estimators, learning_rate=learning_rate, algorithm='SAMME.R', random_state=42)\n",
    "    clf_ad.fit(X[train_index], y[train_index])\n",
    "    y_hat[test_index] = clf_ad.predict(X[test_index])\n",
    "\n",
    "t2=time.time()\n",
    "\n",
    "acc = accuracy_score(y, y_hat)\n",
    "prec = precision_score(y, y_hat)\n",
    "rec = recall_score(y, y_hat)\n",
    "f1 = (2*prec*rec)/(prec+rec)\n",
    "mc = confusion_matrix(y, y_hat)\n",
    "\n",
    "temp = (t2-t1) # tempo (s) \n",
    "\n",
    "print(acc)\n",
    "print(prec)\n",
    "print(rec)\n",
    "print(f1)\n",
    "print(mc)\n",
    "print(temp)\n",
    "\n",
    "#labels = {'n_estimators':n_estimators, 'learning_rate':learning_rate, 'accuracy_dt':acc, 'rate precision':prec, 'rate recall':rec, 'f1':f1, 'confusion matrix':mc, 'tempo':temp}\n",
    "#results1 = 'results1' \n",
    "#with open(os.path.join(results1, '/home/maria/jupyter/results1/ab_1.txt'), 'w') as fp:\n",
    "#    for i in labels:\n",
    "#        fp.write('{}:{}\\n'.format(i,labels[i]))\n"
   ]
  },
  {
   "cell_type": "markdown",
   "metadata": {},
   "source": [
    "# Rede Neural"
   ]
  },
  {
   "cell_type": "markdown",
   "metadata": {},
   "source": [
    "Os parâmetros modificados foram: a camada de entrada [10~200], nas camadas escondidas [100 e 200], a função de ativação hard_sigmoid() e relu() e Dropout [0.5 e 0.7]. Foram utilizadas 3 camadas escondidas, 1 camada de saída (função de ativação hard_sigmoid()) e 1000 épocas."
   ]
  },
  {
   "cell_type": "code",
   "execution_count": 48,
   "metadata": {},
   "outputs": [],
   "source": [
    "X_train, X_test, y_train, y_test = train_test_split(X, y, test_size=0.10)"
   ]
  },
  {
   "cell_type": "markdown",
   "metadata": {},
   "source": [
    "## Rede Neural Simples"
   ]
  },
  {
   "cell_type": "code",
   "execution_count": 49,
   "metadata": {},
   "outputs": [],
   "source": [
    "def plot_model_history(model_history):\n",
    "    # summarize history for loss\n",
    "    plt.plot(range(1,len(model_history.history['loss'])+1),model_history.history['loss'])\n",
    "    plt.plot(range(1,len(model_history.history['val_loss'])+1),model_history.history['val_loss'])\n",
    "    plt.title('Model Loss')\n",
    "    plt.ylabel('Loss')\n",
    "    plt.xlabel('Epoch')\n",
    "    plt.legend(['train', 'val'], loc='best')\n",
    "    plt.show()\n",
    "    "
   ]
  },
  {
   "cell_type": "code",
   "execution_count": 50,
   "metadata": {},
   "outputs": [],
   "source": [
    "def get_model(X_input_size):\n",
    "    '''\n",
    "        get_model cria um modelo de rede neural  \n",
    "        X_input_size: número de atributos em X\n",
    "    '''\n",
    "    input_data = Input(name='input', shape=(X_input_size,), dtype='float32')\n",
    "    \n",
    "    x = input_data\n",
    "    x = Dense(units = 200)(x)\n",
    "    x = Activation('relu')(x)\n",
    "      \n",
    "    #--------------------------\n",
    "    x = Dense(units = 200)(x)\n",
    "    x = Activation('softmax')(x)\n",
    "    \n",
    "    x = Dense(units = 200)(x)\n",
    "    x = Activation('softmax')(x)\n",
    "    \n",
    "    x = Dense(units = 200)(x)\n",
    "    x = Activation('softmax')(x)\n",
    "    #--------------------------\n",
    "    \n",
    "    x = Dense(units = 1)(x)\n",
    "    y_pred = Activation('relu')(x)\n",
    "    \n",
    "    model = Model(inputs=input_data, outputs=y_pred)\n",
    "    \n",
    "    # modelo será treinado com otimizador SGD -- vc pode trocar o otimizador\n",
    "    #optimizer = SGD(lr=0.01, momentum=0.9, decay=1e-6, nesterov=True)\n",
    "    optimizer = Adam(lr=0.0001)\n",
    "    \n",
    "    # função de custo usada é a entropia cruzada\n",
    "    model.compile(loss='binary_crossentropy', optimizer = optimizer,metrics=['accuracy']) \n",
    "    \n",
    "    return model"
   ]
  },
  {
   "cell_type": "code",
   "execution_count": 51,
   "metadata": {},
   "outputs": [],
   "source": [
    "def train_model(model, X_train, X_test, y_train, y_test, \n",
    "                bsize = 20, n_epochs = 1000, val_proportion = 0.2, patience = 20):\n",
    "\n",
    "    # estratégia de treino com parada antecipada consiste em parar o treino\n",
    "    # quando nenhuma melhoria no erro de validação (val_loss) é observada após\n",
    "    # \"patience\" épocas\n",
    "    earlystop = EarlyStopping(monitor='val_loss', min_delta=0.00001, patience=patience, \\\n",
    "                verbose=1, mode='auto')\n",
    "    callback_list = [earlystop]\n",
    "    \n",
    "    # Modelo usa parâmetros comuns que podem ser modificados\n",
    "    h = model.fit(X_train, y_train, batch_size=bsize, epochs=n_epochs,validation_data=(X_test,y_test),\n",
    "                  verbose=2, shuffle = True, callbacks = callback_list, \n",
    "                  validation_split=val_proportion)\n",
    "    plot_model_history(h)          \n",
    "    \n",
    "    # avaliação\n",
    "    print('\\nEstimating AUCROC, acc')\n",
    "    y_pred = model.predict(X_test, batch_size=len(y_test))\n",
    "    print('ROC value: %.4f'%(sklearn_roc_auc_score(y_test, y_pred)))\n",
    "    print('Acc: %.4f'%(sklearn_accuracy_score(y_test, y_pred>0.5)))\n",
    "    print('CMatrix: %s'%(sklearn_confusion_matrix(y_test, y_pred>0.5)))\n",
    "    \n",
    "    return model"
   ]
  },
  {
   "cell_type": "code",
   "execution_count": 52,
   "metadata": {},
   "outputs": [
    {
     "data": {
      "text/plain": [
       "(63488, 100)"
      ]
     },
     "execution_count": 52,
     "metadata": {},
     "output_type": "execute_result"
    }
   ],
   "source": [
    "X_train.shape"
   ]
  },
  {
   "cell_type": "code",
   "execution_count": 53,
   "metadata": {},
   "outputs": [],
   "source": [
    "model=get_model(X_train.shape[1])"
   ]
  },
  {
   "cell_type": "code",
   "execution_count": 54,
   "metadata": {},
   "outputs": [
    {
     "name": "stdout",
     "output_type": "stream",
     "text": [
      "_________________________________________________________________\n",
      "Layer (type)                 Output Shape              Param #   \n",
      "=================================================================\n",
      "input (InputLayer)           (None, 100)               0         \n",
      "_________________________________________________________________\n",
      "dense_1 (Dense)              (None, 200)               20200     \n",
      "_________________________________________________________________\n",
      "activation_1 (Activation)    (None, 200)               0         \n",
      "_________________________________________________________________\n",
      "dense_2 (Dense)              (None, 200)               40200     \n",
      "_________________________________________________________________\n",
      "activation_2 (Activation)    (None, 200)               0         \n",
      "_________________________________________________________________\n",
      "dense_3 (Dense)              (None, 200)               40200     \n",
      "_________________________________________________________________\n",
      "activation_3 (Activation)    (None, 200)               0         \n",
      "_________________________________________________________________\n",
      "dense_4 (Dense)              (None, 200)               40200     \n",
      "_________________________________________________________________\n",
      "activation_4 (Activation)    (None, 200)               0         \n",
      "_________________________________________________________________\n",
      "dense_5 (Dense)              (None, 1)                 201       \n",
      "_________________________________________________________________\n",
      "activation_5 (Activation)    (None, 1)                 0         \n",
      "=================================================================\n",
      "Total params: 141,001\n",
      "Trainable params: 141,001\n",
      "Non-trainable params: 0\n",
      "_________________________________________________________________\n"
     ]
    }
   ],
   "source": [
    "model.summary()"
   ]
  },
  {
   "cell_type": "code",
   "execution_count": 55,
   "metadata": {},
   "outputs": [
    {
     "name": "stdout",
     "output_type": "stream",
     "text": [
      "Train on 63488 samples, validate on 7055 samples\n",
      "Epoch 1/1000\n",
      " - 12s - loss: 0.8664 - acc: 0.6468 - val_loss: 0.6991 - val_acc: 0.6380\n",
      "Epoch 2/1000\n",
      " - 12s - loss: 0.6516 - acc: 0.6468 - val_loss: 0.6284 - val_acc: 0.6380\n",
      "Epoch 3/1000\n",
      " - 12s - loss: 0.5334 - acc: 0.6468 - val_loss: 0.3969 - val_acc: 0.6380\n",
      "Epoch 4/1000\n",
      " - 12s - loss: 0.2197 - acc: 0.9288 - val_loss: 0.0862 - val_acc: 0.9973\n",
      "Epoch 5/1000\n",
      " - 12s - loss: 0.0251 - acc: 0.9973 - val_loss: 0.0090 - val_acc: 0.9982\n",
      "Epoch 6/1000\n",
      " - 12s - loss: 0.0075 - acc: 0.9980 - val_loss: 0.0068 - val_acc: 0.9983\n",
      "Epoch 7/1000\n",
      " - 12s - loss: 0.0056 - acc: 0.9982 - val_loss: 0.0055 - val_acc: 0.9980\n",
      "Epoch 8/1000\n",
      " - 12s - loss: 0.0048 - acc: 0.9983 - val_loss: 0.0050 - val_acc: 0.9983\n",
      "Epoch 9/1000\n",
      " - 12s - loss: 0.0044 - acc: 0.9987 - val_loss: 0.0040 - val_acc: 0.9991\n",
      "Epoch 10/1000\n",
      " - 12s - loss: 0.0035 - acc: 0.9988 - val_loss: 0.0075 - val_acc: 0.9977\n",
      "Epoch 11/1000\n",
      " - 12s - loss: 0.0040 - acc: 0.9986 - val_loss: 0.0046 - val_acc: 0.9984\n",
      "Epoch 12/1000\n",
      " - 12s - loss: 0.0030 - acc: 0.9991 - val_loss: 0.0058 - val_acc: 0.9984\n",
      "Epoch 13/1000\n",
      " - 12s - loss: 0.0029 - acc: 0.9991 - val_loss: 0.0064 - val_acc: 0.9983\n",
      "Epoch 14/1000\n",
      " - 11s - loss: 0.0029 - acc: 0.9991 - val_loss: 0.0054 - val_acc: 0.9987\n",
      "Epoch 15/1000\n",
      " - 11s - loss: 0.0029 - acc: 0.9990 - val_loss: 0.0059 - val_acc: 0.9977\n",
      "Epoch 16/1000\n",
      " - 11s - loss: 0.0023 - acc: 0.9992 - val_loss: 0.0033 - val_acc: 0.9987\n",
      "Epoch 17/1000\n",
      " - 11s - loss: 0.0022 - acc: 0.9992 - val_loss: 0.0063 - val_acc: 0.9983\n",
      "Epoch 18/1000\n",
      " - 11s - loss: 0.0024 - acc: 0.9994 - val_loss: 0.0043 - val_acc: 0.9983\n",
      "Epoch 19/1000\n",
      " - 12s - loss: 0.0031 - acc: 0.9991 - val_loss: 0.0081 - val_acc: 0.9984\n",
      "Epoch 20/1000\n",
      " - 11s - loss: 0.0016 - acc: 0.9995 - val_loss: 0.0026 - val_acc: 0.9990\n",
      "Epoch 21/1000\n",
      " - 11s - loss: 0.0020 - acc: 0.9993 - val_loss: 0.0027 - val_acc: 0.9987\n",
      "Epoch 22/1000\n",
      " - 11s - loss: 0.0019 - acc: 0.9993 - val_loss: 0.0039 - val_acc: 0.9977\n",
      "Epoch 23/1000\n",
      " - 11s - loss: 0.0012 - acc: 0.9997 - val_loss: 0.0048 - val_acc: 0.9986\n",
      "Epoch 24/1000\n",
      " - 12s - loss: 0.0019 - acc: 0.9994 - val_loss: 0.0057 - val_acc: 0.9986\n",
      "Epoch 25/1000\n",
      " - 12s - loss: 0.0012 - acc: 0.9995 - val_loss: 0.0051 - val_acc: 0.9986\n",
      "Epoch 26/1000\n",
      " - 11s - loss: 0.0015 - acc: 0.9996 - val_loss: 0.0071 - val_acc: 0.9984\n",
      "Epoch 27/1000\n",
      " - 12s - loss: 0.0027 - acc: 0.9994 - val_loss: 0.0066 - val_acc: 0.9990\n",
      "Epoch 28/1000\n",
      " - 12s - loss: 0.0013 - acc: 0.9996 - val_loss: 0.0077 - val_acc: 0.9984\n",
      "Epoch 29/1000\n",
      " - 12s - loss: 0.0013 - acc: 0.9995 - val_loss: 0.0144 - val_acc: 0.9982\n",
      "Epoch 30/1000\n",
      " - 12s - loss: 8.9920e-04 - acc: 0.9997 - val_loss: 0.0022 - val_acc: 0.9991\n",
      "Epoch 31/1000\n",
      " - 11s - loss: 9.6321e-04 - acc: 0.9997 - val_loss: 0.0168 - val_acc: 0.9965\n",
      "Epoch 32/1000\n",
      " - 12s - loss: 0.0021 - acc: 0.9994 - val_loss: 0.0049 - val_acc: 0.9987\n",
      "Epoch 33/1000\n",
      " - 12s - loss: 7.7581e-04 - acc: 0.9998 - val_loss: 0.0067 - val_acc: 0.9989\n",
      "Epoch 34/1000\n",
      " - 12s - loss: 0.0012 - acc: 0.9997 - val_loss: 0.0050 - val_acc: 0.9987\n",
      "Epoch 35/1000\n",
      " - 11s - loss: 0.0021 - acc: 0.9995 - val_loss: 0.0082 - val_acc: 0.9979\n",
      "Epoch 36/1000\n",
      " - 11s - loss: 0.0026 - acc: 0.9996 - val_loss: 0.0049 - val_acc: 0.9984\n",
      "Epoch 37/1000\n",
      " - 12s - loss: 7.7508e-04 - acc: 0.9997 - val_loss: 0.0070 - val_acc: 0.9983\n",
      "Epoch 38/1000\n",
      " - 12s - loss: 6.2276e-04 - acc: 0.9998 - val_loss: 0.0085 - val_acc: 0.9989\n",
      "Epoch 39/1000\n",
      " - 12s - loss: 0.0015 - acc: 0.9997 - val_loss: 0.0050 - val_acc: 0.9984\n",
      "Epoch 40/1000\n",
      " - 12s - loss: 6.3152e-04 - acc: 0.9999 - val_loss: 0.0044 - val_acc: 0.9989\n",
      "Epoch 41/1000\n",
      " - 12s - loss: 0.0026 - acc: 0.9996 - val_loss: 0.0098 - val_acc: 0.9982\n",
      "Epoch 42/1000\n",
      " - 12s - loss: 9.4400e-04 - acc: 0.9997 - val_loss: 0.0095 - val_acc: 0.9984\n",
      "Epoch 43/1000\n",
      " - 12s - loss: 0.0018 - acc: 0.9996 - val_loss: 0.0060 - val_acc: 0.9993\n",
      "Epoch 44/1000\n",
      " - 12s - loss: 5.3748e-04 - acc: 0.9998 - val_loss: 0.0019 - val_acc: 0.9990\n",
      "Epoch 45/1000\n",
      " - 12s - loss: 0.0019 - acc: 0.9997 - val_loss: 0.0120 - val_acc: 0.9979\n",
      "Epoch 46/1000\n",
      " - 12s - loss: 0.0011 - acc: 0.9976 - val_loss: 0.0062 - val_acc: 0.9987\n",
      "Epoch 47/1000\n",
      " - 12s - loss: 8.5332e-04 - acc: 0.9521 - val_loss: 0.0059 - val_acc: 0.9982\n",
      "Epoch 48/1000\n",
      " - 12s - loss: 4.3601e-04 - acc: 0.7166 - val_loss: 0.0106 - val_acc: 0.6773\n",
      "Epoch 49/1000\n",
      " - 12s - loss: 0.0014 - acc: 0.6833 - val_loss: 0.0167 - val_acc: 0.6658\n",
      "Epoch 50/1000\n",
      " - 12s - loss: 8.9153e-04 - acc: 0.6777 - val_loss: 0.0052 - val_acc: 0.6652\n",
      "Epoch 51/1000\n",
      " - 12s - loss: 0.0030 - acc: 0.6743 - val_loss: 0.0068 - val_acc: 0.6588\n",
      "Epoch 52/1000\n",
      " - 12s - loss: 2.6220e-04 - acc: 0.6741 - val_loss: 0.0113 - val_acc: 0.6575\n",
      "Epoch 53/1000\n",
      " - 12s - loss: 0.0011 - acc: 0.6705 - val_loss: 0.0124 - val_acc: 0.6617\n",
      "Epoch 54/1000\n",
      " - 12s - loss: 4.0634e-04 - acc: 0.6698 - val_loss: 0.0109 - val_acc: 0.6581\n",
      "Epoch 55/1000\n",
      " - 12s - loss: 6.9303e-04 - acc: 0.6662 - val_loss: 0.0065 - val_acc: 0.6543\n",
      "Epoch 56/1000\n",
      " - 12s - loss: 5.7040e-04 - acc: 0.6650 - val_loss: 0.0022 - val_acc: 0.6519\n",
      "Epoch 57/1000\n",
      " - 12s - loss: 2.9255e-04 - acc: 0.6641 - val_loss: 0.0077 - val_acc: 0.6561\n",
      "Epoch 58/1000\n",
      " - 12s - loss: 4.7056e-04 - acc: 0.6627 - val_loss: 0.0082 - val_acc: 0.6519\n",
      "Epoch 59/1000\n",
      " - 12s - loss: 0.0011 - acc: 0.6594 - val_loss: 0.0043 - val_acc: 0.6496\n",
      "Epoch 60/1000\n",
      " - 12s - loss: 2.1945e-04 - acc: 0.6599 - val_loss: 0.0043 - val_acc: 0.6513\n",
      "Epoch 61/1000\n",
      " - 13s - loss: 4.1793e-04 - acc: 0.6605 - val_loss: 0.0063 - val_acc: 0.6544\n",
      "Epoch 62/1000\n",
      " - 12s - loss: 8.4180e-04 - acc: 0.6602 - val_loss: 0.0042 - val_acc: 0.6496\n",
      "Epoch 63/1000\n",
      " - 12s - loss: 0.0011 - acc: 0.6583 - val_loss: 0.0096 - val_acc: 0.6451\n",
      "Epoch 64/1000\n",
      " - 12s - loss: 2.5045e-04 - acc: 0.6573 - val_loss: 0.0056 - val_acc: 0.6490\n",
      "Epoch 00064: early stopping\n"
     ]
    },
    {
     "data": {
      "image/png": "[encoded data removed]",
      "text/plain": [
       "<Figure size 432x288 with 1 Axes>"
      ]
     },
     "metadata": {
      "needs_background": "light"
     },
     "output_type": "display_data"
    },
    {
     "name": "stdout",
     "output_type": "stream",
     "text": [
      "\n",
      "Estimating AUCROC, acc\n",
      "ROC value: 0.9998\n",
      "Acc: 0.9990\n",
      "CMatrix: [[4497    4]\n",
      " [   3 2551]]\n"
     ]
    },
    {
     "data": {
      "text/plain": [
       "<keras.engine.training.Model at 0x7fe42a4ddba8>"
      ]
     },
     "execution_count": 55,
     "metadata": {},
     "output_type": "execute_result"
    }
   ],
   "source": [
    "train_model(model, X_train, X_test, y_train, y_test, \n",
    "                bsize = 20, n_epochs = 1000, val_proportion = 0.2, patience = 20)\n"
   ]
  },
  {
   "cell_type": "markdown",
   "metadata": {},
   "source": [
    "## Rede Neural com normalização em Batch"
   ]
  },
  {
   "cell_type": "code",
   "execution_count": 56,
   "metadata": {},
   "outputs": [],
   "source": [
    "def plot_model_history(model_history):\n",
    "    # summarize history for loss\n",
    "    plt.plot(range(1,len(model_history.history['loss'])+1),model_history.history['loss'])\n",
    "    plt.plot(range(1,len(model_history.history['val_loss'])+1),model_history.history['val_loss'])\n",
    "    plt.title('Model Loss')\n",
    "    plt.ylabel('Loss')\n",
    "    plt.xlabel('Epoch')\n",
    "    plt.legend(['train', 'val'], loc='best')\n",
    "    plt.show()"
   ]
  },
  {
   "cell_type": "code",
   "execution_count": 57,
   "metadata": {},
   "outputs": [],
   "source": [
    "def get_model(X_input_size):\n",
    "    '''\n",
    "        get_model cria um modelo de rede neural  \n",
    "        X_input_size: número de atributos em X\n",
    "    '''\n",
    "    input_data = Input(name='input', shape=(X_input_size,), dtype='float32')\n",
    "    \n",
    "    x = input_data\n",
    "    x = Dense(units = 80)(x)\n",
    "    x = BatchNormalization()(x)\n",
    "    x = Activation('relu')(x)\n",
    "     \n",
    "    #--------------------------\n",
    "    x = Dense(units = 200)(x)\n",
    "    x = BatchNormalization()(x)\n",
    "    x = Activation('softmax')(x)\n",
    "    \n",
    "    x = Dense(units = 200)(x)\n",
    "    x = BatchNormalization()(x)\n",
    "    x = Activation('softmax')(x)\n",
    "    \n",
    "    x = Dense(units = 200)(x)\n",
    "    x = BatchNormalization()(x)\n",
    "    x = Activation('softmax')(x)      \n",
    "    #--------------------------\n",
    "    \n",
    "    x = Dense(units = 1)(x)\n",
    "    y_pred = Activation('relu')(x)\n",
    "    \n",
    "    model = Model(inputs=input_data, outputs=y_pred)\n",
    "    \n",
    "    # modelo será treinado com otimizador SGD -- vc pode trocar o otimizador\n",
    "    #optimizer = SGD(lr=0.01, momentum=0.9, decay=1e-6, nesterov=True)\n",
    "    optimizer = Adam(lr=0.0001)\n",
    "    \n",
    "    # função de custo usada é a entropia cruzada\n",
    "    model.compile(loss='binary_crossentropy', optimizer = optimizer,metrics=['accuracy']) \n",
    "    \n",
    "    return model"
   ]
  },
  {
   "cell_type": "code",
   "execution_count": 58,
   "metadata": {},
   "outputs": [],
   "source": [
    "def train_model(model, X_train, X_test, y_train, y_test, \n",
    "                bsize = 20, n_epochs = 1000, val_proportion = 0.2, patience = 20):\n",
    "\n",
    "    # estratégia de treino com parada antecipada consiste em parar o treino\n",
    "    # quando nenhuma melhoria no erro de validação (val_loss) é observada após\n",
    "    # \"patience\" épocas\n",
    "    earlystop = EarlyStopping(monitor='val_loss', min_delta=0.00001, patience=patience, \\\n",
    "                verbose=1, mode='auto')\n",
    "    callback_list = [earlystop]\n",
    "    \n",
    "    # Modelo usa parâmetros comuns que podem ser modificados\n",
    "    h = model.fit(X_train, y_train, batch_size=bsize, epochs=n_epochs,validation_data=(X_test,y_test),\n",
    "                  verbose=2, shuffle = True, callbacks = callback_list, \n",
    "                  validation_split=val_proportion)\n",
    "    plot_model_history(h)          \n",
    "    \n",
    "    # avaliação\n",
    "    print('\\nEstimating AUCROC, acc')\n",
    "    y_pred = model.predict(X_test, batch_size=len(y_test))\n",
    "    print('ROC value: %.4f'%(sklearn_roc_auc_score(y_test, y_pred)))\n",
    "    print('Acc: %.4f'%(sklearn_accuracy_score(y_test, y_pred>0.5)))\n",
    "    print('CMatrix: %s'%(sklearn_confusion_matrix(y_test, y_pred>0.5)))\n",
    "    \n",
    "    return model"
   ]
  },
  {
   "cell_type": "code",
   "execution_count": 59,
   "metadata": {},
   "outputs": [
    {
     "data": {
      "text/plain": [
       "(63488, 100)"
      ]
     },
     "execution_count": 59,
     "metadata": {},
     "output_type": "execute_result"
    }
   ],
   "source": [
    "X_train.shape"
   ]
  },
  {
   "cell_type": "code",
   "execution_count": 60,
   "metadata": {},
   "outputs": [],
   "source": [
    "model=get_model(X_train.shape[1])"
   ]
  },
  {
   "cell_type": "code",
   "execution_count": 61,
   "metadata": {},
   "outputs": [
    {
     "name": "stdout",
     "output_type": "stream",
     "text": [
      "_________________________________________________________________\n",
      "Layer (type)                 Output Shape              Param #   \n",
      "=================================================================\n",
      "input (InputLayer)           (None, 100)               0         \n",
      "_________________________________________________________________\n",
      "dense_6 (Dense)              (None, 80)                8080      \n",
      "_________________________________________________________________\n",
      "batch_normalization_1 (Batch (None, 80)                320       \n",
      "_________________________________________________________________\n",
      "activation_6 (Activation)    (None, 80)                0         \n",
      "_________________________________________________________________\n",
      "dense_7 (Dense)              (None, 200)               16200     \n",
      "_________________________________________________________________\n",
      "batch_normalization_2 (Batch (None, 200)               800       \n",
      "_________________________________________________________________\n",
      "activation_7 (Activation)    (None, 200)               0         \n",
      "_________________________________________________________________\n",
      "dense_8 (Dense)              (None, 200)               40200     \n",
      "_________________________________________________________________\n",
      "batch_normalization_3 (Batch (None, 200)               800       \n",
      "_________________________________________________________________\n",
      "activation_8 (Activation)    (None, 200)               0         \n",
      "_________________________________________________________________\n",
      "dense_9 (Dense)              (None, 200)               40200     \n",
      "_________________________________________________________________\n",
      "batch_normalization_4 (Batch (None, 200)               800       \n",
      "_________________________________________________________________\n",
      "activation_9 (Activation)    (None, 200)               0         \n",
      "_________________________________________________________________\n",
      "dense_10 (Dense)             (None, 1)                 201       \n",
      "_________________________________________________________________\n",
      "activation_10 (Activation)   (None, 1)                 0         \n",
      "=================================================================\n",
      "Total params: 107,601\n",
      "Trainable params: 106,241\n",
      "Non-trainable params: 1,360\n",
      "_________________________________________________________________\n"
     ]
    }
   ],
   "source": [
    "model.summary()"
   ]
  },
  {
   "cell_type": "code",
   "execution_count": 62,
   "metadata": {},
   "outputs": [
    {
     "name": "stdout",
     "output_type": "stream",
     "text": [
      "Train on 63488 samples, validate on 7055 samples\n",
      "Epoch 1/1000\n",
      " - 20s - loss: 0.7180 - acc: 0.6468 - val_loss: 0.4597 - val_acc: 0.6380\n",
      "Epoch 2/1000\n",
      " - 19s - loss: 0.3411 - acc: 0.7529 - val_loss: 0.2004 - val_acc: 0.9888\n",
      "Epoch 3/1000\n",
      " - 20s - loss: 0.1523 - acc: 0.9673 - val_loss: 0.0469 - val_acc: 0.9895\n",
      "Epoch 4/1000\n",
      " - 19s - loss: 0.0867 - acc: 0.9749 - val_loss: 0.0239 - val_acc: 0.9905\n",
      "Epoch 5/1000\n",
      " - 19s - loss: 0.0768 - acc: 0.9777 - val_loss: 0.0229 - val_acc: 0.9919\n",
      "Epoch 6/1000\n",
      " - 19s - loss: 0.0692 - acc: 0.9787 - val_loss: 0.0233 - val_acc: 0.9905\n",
      "Epoch 7/1000\n",
      " - 19s - loss: 0.0686 - acc: 0.9794 - val_loss: 0.0211 - val_acc: 0.9929\n",
      "Epoch 8/1000\n",
      " - 19s - loss: 0.0648 - acc: 0.9806 - val_loss: 0.0209 - val_acc: 0.9939\n",
      "Epoch 9/1000\n",
      " - 19s - loss: 0.0650 - acc: 0.9800 - val_loss: 0.0215 - val_acc: 0.9914\n",
      "Epoch 10/1000\n",
      " - 19s - loss: 0.0585 - acc: 0.9826 - val_loss: 0.0188 - val_acc: 0.9938\n",
      "Epoch 11/1000\n",
      " - 19s - loss: 0.0553 - acc: 0.9829 - val_loss: 0.0179 - val_acc: 0.9943\n",
      "Epoch 12/1000\n",
      " - 20s - loss: 0.0538 - acc: 0.9848 - val_loss: 0.0187 - val_acc: 0.9938\n",
      "Epoch 13/1000\n",
      " - 19s - loss: 0.0526 - acc: 0.9850 - val_loss: 0.0165 - val_acc: 0.9942\n",
      "Epoch 14/1000\n",
      " - 19s - loss: 0.0492 - acc: 0.9853 - val_loss: 0.0168 - val_acc: 0.9946\n",
      "Epoch 15/1000\n",
      " - 19s - loss: 0.0463 - acc: 0.9868 - val_loss: 0.0151 - val_acc: 0.9955\n",
      "Epoch 16/1000\n",
      " - 19s - loss: 0.0434 - acc: 0.9874 - val_loss: 0.0162 - val_acc: 0.9933\n",
      "Epoch 17/1000\n",
      " - 19s - loss: 0.0386 - acc: 0.9888 - val_loss: 0.0191 - val_acc: 0.9938\n",
      "Epoch 18/1000\n",
      " - 19s - loss: 0.0359 - acc: 0.9893 - val_loss: 0.0133 - val_acc: 0.9952\n",
      "Epoch 19/1000\n",
      " - 19s - loss: 0.0347 - acc: 0.9904 - val_loss: 0.0121 - val_acc: 0.9965\n",
      "Epoch 20/1000\n",
      " - 19s - loss: 0.0320 - acc: 0.9904 - val_loss: 0.0155 - val_acc: 0.9957\n",
      "Epoch 21/1000\n",
      " - 19s - loss: 0.0292 - acc: 0.9916 - val_loss: 0.0113 - val_acc: 0.9962\n",
      "Epoch 22/1000\n",
      " - 19s - loss: 0.0308 - acc: 0.9919 - val_loss: 0.0124 - val_acc: 0.9963\n",
      "Epoch 23/1000\n",
      " - 19s - loss: 0.0261 - acc: 0.9927 - val_loss: 0.0108 - val_acc: 0.9974\n",
      "Epoch 24/1000\n",
      " - 19s - loss: 0.0247 - acc: 0.9931 - val_loss: 0.0075 - val_acc: 0.9977\n",
      "Epoch 25/1000\n",
      " - 19s - loss: 0.0216 - acc: 0.9942 - val_loss: 0.0073 - val_acc: 0.9973\n",
      "Epoch 26/1000\n",
      " - 19s - loss: 0.0200 - acc: 0.9943 - val_loss: 0.0081 - val_acc: 0.9976\n",
      "Epoch 27/1000\n",
      " - 19s - loss: 0.0199 - acc: 0.9948 - val_loss: 0.0083 - val_acc: 0.9977\n",
      "Epoch 28/1000\n",
      " - 19s - loss: 0.0172 - acc: 0.9954 - val_loss: 0.0077 - val_acc: 0.9970\n",
      "Epoch 29/1000\n",
      " - 20s - loss: 0.0174 - acc: 0.9954 - val_loss: 0.0068 - val_acc: 0.9970\n",
      "Epoch 30/1000\n",
      " - 20s - loss: 0.0191 - acc: 0.9956 - val_loss: 0.0074 - val_acc: 0.9989\n",
      "Epoch 31/1000\n",
      " - 20s - loss: 0.0133 - acc: 0.9963 - val_loss: 0.0099 - val_acc: 0.9976\n",
      "Epoch 32/1000\n",
      " - 20s - loss: 0.0119 - acc: 0.9965 - val_loss: 0.0054 - val_acc: 0.9976\n",
      "Epoch 33/1000\n",
      " - 20s - loss: 0.0115 - acc: 0.9965 - val_loss: 0.0053 - val_acc: 0.9976\n",
      "Epoch 34/1000\n",
      " - 20s - loss: 0.0155 - acc: 0.9959 - val_loss: 0.0079 - val_acc: 0.9976\n",
      "Epoch 35/1000\n",
      " - 20s - loss: 0.0126 - acc: 0.9969 - val_loss: 0.0067 - val_acc: 0.9982\n",
      "Epoch 36/1000\n",
      " - 20s - loss: 0.0124 - acc: 0.9968 - val_loss: 0.0049 - val_acc: 0.9980\n",
      "Epoch 37/1000\n",
      " - 20s - loss: 0.0136 - acc: 0.9967 - val_loss: 0.0051 - val_acc: 0.9982\n",
      "Epoch 38/1000\n",
      " - 20s - loss: 0.0103 - acc: 0.9968 - val_loss: 0.0045 - val_acc: 0.9980\n",
      "Epoch 39/1000\n",
      " - 20s - loss: 0.0114 - acc: 0.9973 - val_loss: 0.0049 - val_acc: 0.9982\n",
      "Epoch 40/1000\n",
      " - 20s - loss: 0.0126 - acc: 0.9967 - val_loss: 0.0060 - val_acc: 0.9969\n",
      "Epoch 41/1000\n",
      " - 20s - loss: 0.0100 - acc: 0.9970 - val_loss: 0.0051 - val_acc: 0.9982\n",
      "Epoch 42/1000\n",
      " - 20s - loss: 0.0108 - acc: 0.9974 - val_loss: 0.0039 - val_acc: 0.9982\n",
      "Epoch 43/1000\n",
      " - 20s - loss: 0.0097 - acc: 0.9975 - val_loss: 0.0062 - val_acc: 0.9986\n",
      "Epoch 44/1000\n",
      " - 20s - loss: 0.0089 - acc: 0.9976 - val_loss: 0.0039 - val_acc: 0.9979\n",
      "Epoch 45/1000\n",
      " - 20s - loss: 0.0088 - acc: 0.9975 - val_loss: 0.0079 - val_acc: 0.9983\n",
      "Epoch 46/1000\n",
      " - 20s - loss: 0.0092 - acc: 0.9974 - val_loss: 0.0085 - val_acc: 0.9976\n",
      "Epoch 47/1000\n",
      " - 20s - loss: 0.0084 - acc: 0.9976 - val_loss: 0.0042 - val_acc: 0.9986\n",
      "Epoch 48/1000\n",
      " - 20s - loss: 0.0119 - acc: 0.9973 - val_loss: 0.0035 - val_acc: 0.9987\n",
      "Epoch 49/1000\n",
      " - 20s - loss: 0.0095 - acc: 0.9948 - val_loss: 0.0039 - val_acc: 0.9979\n",
      "Epoch 50/1000\n",
      " - 20s - loss: 0.0066 - acc: 0.9892 - val_loss: 0.0041 - val_acc: 0.9966\n",
      "Epoch 51/1000\n",
      " - 20s - loss: 0.0100 - acc: 0.9830 - val_loss: 0.0038 - val_acc: 0.9965\n",
      "Epoch 52/1000\n",
      " - 20s - loss: 0.0102 - acc: 0.9875 - val_loss: 0.0056 - val_acc: 0.9972\n",
      "Epoch 53/1000\n",
      " - 20s - loss: 0.0098 - acc: 0.9855 - val_loss: 0.0040 - val_acc: 0.9974\n",
      "Epoch 54/1000\n",
      " - 20s - loss: 0.0091 - acc: 0.9913 - val_loss: 0.0038 - val_acc: 0.9976\n",
      "Epoch 55/1000\n",
      " - 20s - loss: 0.0116 - acc: 0.9803 - val_loss: 0.0027 - val_acc: 0.9946\n",
      "Epoch 56/1000\n",
      " - 20s - loss: 0.0080 - acc: 0.9690 - val_loss: 0.0042 - val_acc: 0.9885\n",
      "Epoch 57/1000\n",
      " - 20s - loss: 0.0083 - acc: 0.9480 - val_loss: 0.0040 - val_acc: 0.9658\n",
      "Epoch 58/1000\n",
      " - 20s - loss: 0.0068 - acc: 0.9064 - val_loss: 0.0057 - val_acc: 0.9013\n",
      "Epoch 59/1000\n",
      " - 20s - loss: 0.0087 - acc: 0.8717 - val_loss: 0.0036 - val_acc: 0.9073\n",
      "Epoch 60/1000\n",
      " - 20s - loss: 0.0094 - acc: 0.8716 - val_loss: 0.0030 - val_acc: 0.8788\n",
      "Epoch 61/1000\n",
      " - 20s - loss: 0.0098 - acc: 0.8338 - val_loss: 0.0050 - val_acc: 0.8429\n",
      "Epoch 62/1000\n",
      " - 20s - loss: 0.0080 - acc: 0.8262 - val_loss: 0.0044 - val_acc: 0.8653\n",
      "Epoch 63/1000\n",
      " - 20s - loss: 0.0072 - acc: 0.8218 - val_loss: 0.0028 - val_acc: 0.8452\n",
      "Epoch 64/1000\n",
      " - 20s - loss: 0.0073 - acc: 0.8067 - val_loss: 0.0032 - val_acc: 0.8320\n",
      "Epoch 65/1000\n",
      " - 20s - loss: 0.0062 - acc: 0.7870 - val_loss: 0.0033 - val_acc: 0.7692\n",
      "Epoch 66/1000\n",
      " - 20s - loss: 0.0069 - acc: 0.7617 - val_loss: 0.0018 - val_acc: 0.7583\n",
      "Epoch 67/1000\n",
      " - 20s - loss: 0.0079 - acc: 0.7626 - val_loss: 0.0063 - val_acc: 0.7752\n",
      "Epoch 68/1000\n",
      " - 20s - loss: 0.0054 - acc: 0.7541 - val_loss: 0.0042 - val_acc: 0.7508\n",
      "Epoch 69/1000\n",
      " - 20s - loss: 0.0069 - acc: 0.7463 - val_loss: 0.0026 - val_acc: 0.7453\n",
      "Epoch 70/1000\n",
      " - 20s - loss: 0.0080 - acc: 0.7408 - val_loss: 0.0042 - val_acc: 0.7121\n",
      "Epoch 71/1000\n",
      " - 20s - loss: 0.0063 - acc: 0.7345 - val_loss: 0.0024 - val_acc: 0.7308\n",
      "Epoch 72/1000\n",
      " - 20s - loss: 0.0060 - acc: 0.7258 - val_loss: 0.0047 - val_acc: 0.7040\n",
      "Epoch 73/1000\n",
      " - 20s - loss: 0.0057 - acc: 0.7144 - val_loss: 0.0021 - val_acc: 0.6876\n",
      "Epoch 74/1000\n",
      " - 20s - loss: 0.0044 - acc: 0.7066 - val_loss: 0.0042 - val_acc: 0.6809\n",
      "Epoch 75/1000\n",
      " - 20s - loss: 0.0052 - acc: 0.7080 - val_loss: 0.0037 - val_acc: 0.6832\n",
      "Epoch 76/1000\n",
      " - 20s - loss: 0.0069 - acc: 0.7136 - val_loss: 0.0037 - val_acc: 0.6778\n",
      "Epoch 77/1000\n",
      " - 20s - loss: 0.0068 - acc: 0.7085 - val_loss: 0.0038 - val_acc: 0.6947\n",
      "Epoch 78/1000\n",
      " - 20s - loss: 0.0045 - acc: 0.7053 - val_loss: 0.0043 - val_acc: 0.6981\n",
      "Epoch 79/1000\n",
      " - 20s - loss: 0.0080 - acc: 0.7062 - val_loss: 0.0024 - val_acc: 0.6743\n",
      "Epoch 80/1000\n",
      " - 20s - loss: 0.0060 - acc: 0.7091 - val_loss: 0.0038 - val_acc: 0.6951\n",
      "Epoch 81/1000\n",
      " - 20s - loss: 0.0061 - acc: 0.7020 - val_loss: 0.0055 - val_acc: 0.6890\n",
      "Epoch 82/1000\n",
      " - 20s - loss: 0.0044 - acc: 0.6998 - val_loss: 0.0042 - val_acc: 0.7006\n",
      "Epoch 83/1000\n",
      " - 20s - loss: 0.0034 - acc: 0.6909 - val_loss: 0.0058 - val_acc: 0.6686\n",
      "Epoch 84/1000\n",
      " - 20s - loss: 0.0081 - acc: 0.6854 - val_loss: 0.0044 - val_acc: 0.6702\n",
      "Epoch 85/1000\n",
      " - 20s - loss: 0.0035 - acc: 0.6864 - val_loss: 0.0021 - val_acc: 0.6750\n",
      "Epoch 86/1000\n",
      " - 20s - loss: 0.0039 - acc: 0.6855 - val_loss: 0.0048 - val_acc: 0.6670\n",
      "Epoch 00086: early stopping\n"
     ]
    },
    {
     "data": {
      "image/png": "[encoded data removed]",
      "text/plain": [
       "<Figure size 432x288 with 1 Axes>"
      ]
     },
     "metadata": {
      "needs_background": "light"
     },
     "output_type": "display_data"
    },
    {
     "name": "stdout",
     "output_type": "stream",
     "text": [
      "\n",
      "Estimating AUCROC, acc\n",
      "ROC value: 0.9998\n",
      "Acc: 0.9989\n",
      "CMatrix: [[4500    1]\n",
      " [   7 2547]]\n"
     ]
    },
    {
     "data": {
      "text/plain": [
       "<keras.engine.training.Model at 0x7fe3ed66fa58>"
      ]
     },
     "execution_count": 62,
     "metadata": {},
     "output_type": "execute_result"
    }
   ],
   "source": [
    "train_model(model, X_train, X_test, y_train, y_test, \n",
    "                bsize = 20, n_epochs = 1000, val_proportion = 0.2, patience = 20)"
   ]
  },
  {
   "cell_type": "markdown",
   "metadata": {},
   "source": [
    "## Rede Neural com Dropout"
   ]
  },
  {
   "cell_type": "code",
   "execution_count": 63,
   "metadata": {},
   "outputs": [],
   "source": [
    "def plot_model_history(model_history):\n",
    "    # summarize history for loss\n",
    "    plt.plot(range(1,len(model_history.history['loss'])+1),model_history.history['loss'])\n",
    "    plt.plot(range(1,len(model_history.history['val_loss'])+1),model_history.history['val_loss'])\n",
    "    plt.title('Model Loss')\n",
    "    plt.ylabel('Loss')\n",
    "    plt.xlabel('Epoch')\n",
    "    plt.legend(['train', 'val'], loc='best')\n",
    "    plt.show()"
   ]
  },
  {
   "cell_type": "code",
   "execution_count": 64,
   "metadata": {},
   "outputs": [],
   "source": [
    "def get_model(X_input_size):\n",
    "    '''\n",
    "        get_model cria um modelo de rede neural  \n",
    "        X_input_size: número de atributos em X\n",
    "    '''\n",
    "    input_data = Input(name='input', shape=(X_input_size,), dtype='float32')\n",
    "    \n",
    "    x = input_data\n",
    "    x = Dense(units = 200)(x)\n",
    "    x = Activation('relu')(x)\n",
    "    x = Dropout(0.7)(x)\n",
    "    \n",
    "    #--------------------------\n",
    "    x = Dense(units = 200)(x)\n",
    "    x = Activation('softmax')(x)\n",
    "    x = Dropout(0.7)(x)   \n",
    "    \n",
    "    x = Dense(units = 200)(x)\n",
    "    x = Activation('softmax')(x)\n",
    "    x = Dropout(0.7)(x) \n",
    "    \n",
    "    x = Dense(units = 200)(x)\n",
    "    x = Activation('softmax')(x)\n",
    "    x = Dropout(0.7)(x)    \n",
    "    #--------------------------\n",
    "    \n",
    "    x = Dense(units = 1)(x)\n",
    "    y_pred = Activation('relu')(x)\n",
    "    \n",
    "    model = Model(inputs=input_data, outputs=y_pred)\n",
    "    \n",
    "    # modelo será treinado com otimizador SGD -- vc pode trocar o otimizador\n",
    "    #optimizer = SGD(lr=0.01, momentum=0.9, decay=1e-6, nesterov=True)\n",
    "    optimizer = Adam(lr=0.0001)\n",
    "    \n",
    "    # função de custo usada é a entropia cruzada\n",
    "    model.compile(loss='binary_crossentropy', optimizer = optimizer,metrics=['accuracy']) \n",
    "    \n",
    "    return model"
   ]
  },
  {
   "cell_type": "code",
   "execution_count": 65,
   "metadata": {},
   "outputs": [],
   "source": [
    "def train_model(model, X_train, X_test, y_train, y_test, \n",
    "                bsize = 20, n_epochs = 1000, val_proportion = 0.2, patience = 20):\n",
    "\n",
    "    # estratégia de treino com parada antecipada consiste em parar o treino\n",
    "    # quando nenhuma melhoria no erro de validação (val_loss) é observada após\n",
    "    # \"patience\" épocas\n",
    "    earlystop = EarlyStopping(monitor='val_loss', min_delta=0.00001, patience=patience, \\\n",
    "                verbose=1, mode='auto')\n",
    "    callback_list = [earlystop]\n",
    "    \n",
    "    # Modelo usa parâmetros comuns que podem ser modificados\n",
    "    h = model.fit(X_train, y_train, batch_size=bsize, epochs=n_epochs,validation_data=(X_test,y_test),\n",
    "                  verbose=2, shuffle = True, callbacks = callback_list, \n",
    "                  validation_split=val_proportion)\n",
    "    plot_model_history(h)          \n",
    "    \n",
    "    # avaliação\n",
    "    print('\\nEstimating AUCROC, acc')\n",
    "    y_pred = model.predict(X_test, batch_size=len(y_test))\n",
    "    print('ROC value: %.4f'%(sklearn_roc_auc_score(y_test, y_pred)))\n",
    "    print('Acc: %.4f'%(sklearn_accuracy_score(y_test, y_pred>0.5)))\n",
    "    print('CMatrix: %s'%(sklearn_confusion_matrix(y_test, y_pred>0.5)))\n",
    "    \n",
    "    return model"
   ]
  },
  {
   "cell_type": "code",
   "execution_count": 66,
   "metadata": {},
   "outputs": [
    {
     "data": {
      "text/plain": [
       "(63488, 100)"
      ]
     },
     "execution_count": 66,
     "metadata": {},
     "output_type": "execute_result"
    }
   ],
   "source": [
    "X_train.shape"
   ]
  },
  {
   "cell_type": "code",
   "execution_count": 67,
   "metadata": {},
   "outputs": [],
   "source": [
    "model=get_model(X_train.shape[1])"
   ]
  },
  {
   "cell_type": "code",
   "execution_count": 68,
   "metadata": {},
   "outputs": [
    {
     "name": "stdout",
     "output_type": "stream",
     "text": [
      "_________________________________________________________________\n",
      "Layer (type)                 Output Shape              Param #   \n",
      "=================================================================\n",
      "input (InputLayer)           (None, 100)               0         \n",
      "_________________________________________________________________\n",
      "dense_11 (Dense)             (None, 200)               20200     \n",
      "_________________________________________________________________\n",
      "activation_11 (Activation)   (None, 200)               0         \n",
      "_________________________________________________________________\n",
      "dropout_1 (Dropout)          (None, 200)               0         \n",
      "_________________________________________________________________\n",
      "dense_12 (Dense)             (None, 200)               40200     \n",
      "_________________________________________________________________\n",
      "activation_12 (Activation)   (None, 200)               0         \n",
      "_________________________________________________________________\n",
      "dropout_2 (Dropout)          (None, 200)               0         \n",
      "_________________________________________________________________\n",
      "dense_13 (Dense)             (None, 200)               40200     \n",
      "_________________________________________________________________\n",
      "activation_13 (Activation)   (None, 200)               0         \n",
      "_________________________________________________________________\n",
      "dropout_3 (Dropout)          (None, 200)               0         \n",
      "_________________________________________________________________\n",
      "dense_14 (Dense)             (None, 200)               40200     \n",
      "_________________________________________________________________\n",
      "activation_14 (Activation)   (None, 200)               0         \n",
      "_________________________________________________________________\n",
      "dropout_4 (Dropout)          (None, 200)               0         \n",
      "_________________________________________________________________\n",
      "dense_15 (Dense)             (None, 1)                 201       \n",
      "_________________________________________________________________\n",
      "activation_15 (Activation)   (None, 1)                 0         \n",
      "=================================================================\n",
      "Total params: 141,001\n",
      "Trainable params: 141,001\n",
      "Non-trainable params: 0\n",
      "_________________________________________________________________\n"
     ]
    }
   ],
   "source": [
    "model.summary()"
   ]
  },
  {
   "cell_type": "code",
   "execution_count": 69,
   "metadata": {},
   "outputs": [
    {
     "name": "stdout",
     "output_type": "stream",
     "text": [
      "Train on 63488 samples, validate on 7055 samples\n",
      "Epoch 1/1000\n",
      " - 16s - loss: 1.2862 - acc: 0.6468 - val_loss: 0.9921 - val_acc: 0.6380\n",
      "Epoch 2/1000\n",
      " - 16s - loss: 0.8561 - acc: 0.6468 - val_loss: 0.7683 - val_acc: 0.6380\n",
      "Epoch 3/1000\n",
      " - 16s - loss: 0.6996 - acc: 0.6468 - val_loss: 0.6680 - val_acc: 0.6380\n",
      "Epoch 4/1000\n",
      " - 16s - loss: 0.6535 - acc: 0.6468 - val_loss: 0.6501 - val_acc: 0.6380\n",
      "Epoch 5/1000\n",
      " - 16s - loss: 0.6435 - acc: 0.6469 - val_loss: 0.6375 - val_acc: 0.6380\n",
      "Epoch 6/1000\n",
      " - 16s - loss: 0.6282 - acc: 0.6488 - val_loss: 0.6048 - val_acc: 0.6380\n",
      "Epoch 7/1000\n",
      " - 16s - loss: 0.5973 - acc: 0.6627 - val_loss: 0.5395 - val_acc: 0.6380\n",
      "Epoch 8/1000\n",
      " - 16s - loss: 0.5398 - acc: 0.6975 - val_loss: 0.4311 - val_acc: 0.6380\n",
      "Epoch 9/1000\n",
      " - 16s - loss: 0.4601 - acc: 0.7463 - val_loss: 0.3076 - val_acc: 0.9904\n",
      "Epoch 10/1000\n",
      " - 16s - loss: 0.3943 - acc: 0.7973 - val_loss: 0.2289 - val_acc: 0.9931\n",
      "Epoch 11/1000\n",
      " - 16s - loss: 0.3529 - acc: 0.8339 - val_loss: 0.1678 - val_acc: 0.9948\n",
      "Epoch 12/1000\n",
      " - 16s - loss: 0.3295 - acc: 0.8593 - val_loss: 0.1230 - val_acc: 0.9949\n",
      "Epoch 13/1000\n",
      " - 16s - loss: 0.3085 - acc: 0.8827 - val_loss: 0.1033 - val_acc: 0.9945\n",
      "Epoch 14/1000\n",
      " - 16s - loss: 0.2936 - acc: 0.8939 - val_loss: 0.0888 - val_acc: 0.9965\n",
      "Epoch 15/1000\n",
      " - 16s - loss: 0.2812 - acc: 0.9021 - val_loss: 0.0813 - val_acc: 0.9945\n",
      "Epoch 16/1000\n",
      " - 17s - loss: 0.2707 - acc: 0.9120 - val_loss: 0.0713 - val_acc: 0.9960\n",
      "Epoch 17/1000\n",
      " - 16s - loss: 0.2621 - acc: 0.9157 - val_loss: 0.0649 - val_acc: 0.9960\n",
      "Epoch 18/1000\n",
      " - 16s - loss: 0.2596 - acc: 0.9216 - val_loss: 0.0533 - val_acc: 0.9957\n",
      "Epoch 19/1000\n",
      " - 16s - loss: 0.2485 - acc: 0.9287 - val_loss: 0.0444 - val_acc: 0.9959\n",
      "Epoch 20/1000\n",
      " - 16s - loss: 0.2343 - acc: 0.9314 - val_loss: 0.0380 - val_acc: 0.9967\n",
      "Epoch 21/1000\n",
      " - 16s - loss: 0.2309 - acc: 0.9344 - val_loss: 0.0336 - val_acc: 0.9966\n",
      "Epoch 22/1000\n",
      " - 16s - loss: 0.2255 - acc: 0.9382 - val_loss: 0.0289 - val_acc: 0.9970\n",
      "Epoch 23/1000\n",
      " - 16s - loss: 0.2162 - acc: 0.9406 - val_loss: 0.0239 - val_acc: 0.9970\n",
      "Epoch 24/1000\n",
      " - 16s - loss: 0.2104 - acc: 0.9414 - val_loss: 0.0172 - val_acc: 0.9972\n",
      "Epoch 25/1000\n",
      " - 16s - loss: 0.2022 - acc: 0.9456 - val_loss: 0.0106 - val_acc: 0.9973\n",
      "Epoch 26/1000\n",
      " - 16s - loss: 0.1938 - acc: 0.9492 - val_loss: 0.0101 - val_acc: 0.9982\n",
      "Epoch 27/1000\n",
      " - 16s - loss: 0.1876 - acc: 0.9498 - val_loss: 0.0088 - val_acc: 0.9982\n",
      "Epoch 28/1000\n",
      " - 16s - loss: 0.1804 - acc: 0.9495 - val_loss: 0.0089 - val_acc: 0.9973\n",
      "Epoch 29/1000\n",
      " - 16s - loss: 0.1773 - acc: 0.9544 - val_loss: 0.0086 - val_acc: 0.9979\n",
      "Epoch 30/1000\n",
      " - 16s - loss: 0.1659 - acc: 0.9544 - val_loss: 0.0082 - val_acc: 0.9972\n",
      "Epoch 31/1000\n",
      " - 16s - loss: 0.1653 - acc: 0.9533 - val_loss: 0.0074 - val_acc: 0.9983\n",
      "Epoch 32/1000\n",
      " - 16s - loss: 0.1562 - acc: 0.9553 - val_loss: 0.0064 - val_acc: 0.9986\n",
      "Epoch 33/1000\n",
      " - 16s - loss: 0.1520 - acc: 0.9531 - val_loss: 0.0063 - val_acc: 0.9980\n",
      "Epoch 34/1000\n",
      " - 16s - loss: 0.1422 - acc: 0.9524 - val_loss: 0.0062 - val_acc: 0.9980\n",
      "Epoch 35/1000\n",
      " - 16s - loss: 0.1392 - acc: 0.9523 - val_loss: 0.0056 - val_acc: 0.9983\n",
      "Epoch 36/1000\n",
      " - 16s - loss: 0.1344 - acc: 0.9532 - val_loss: 0.0056 - val_acc: 0.9983\n",
      "Epoch 37/1000\n",
      " - 16s - loss: 0.1228 - acc: 0.9529 - val_loss: 0.0050 - val_acc: 0.9983\n",
      "Epoch 38/1000\n",
      " - 16s - loss: 0.1290 - acc: 0.9510 - val_loss: 0.0061 - val_acc: 0.9977\n",
      "Epoch 39/1000\n",
      " - 16s - loss: 0.1251 - acc: 0.9482 - val_loss: 0.0054 - val_acc: 0.9983\n",
      "Epoch 40/1000\n",
      " - 16s - loss: 0.1119 - acc: 0.9483 - val_loss: 0.0047 - val_acc: 0.9989\n",
      "Epoch 41/1000\n",
      " - 16s - loss: 0.1068 - acc: 0.9461 - val_loss: 0.0043 - val_acc: 0.9987\n",
      "Epoch 42/1000\n",
      " - 16s - loss: 0.1045 - acc: 0.9448 - val_loss: 0.0041 - val_acc: 0.9984\n",
      "Epoch 43/1000\n",
      " - 16s - loss: 0.1068 - acc: 0.9442 - val_loss: 0.0038 - val_acc: 0.9991\n",
      "Epoch 44/1000\n",
      " - 16s - loss: 0.0971 - acc: 0.9432 - val_loss: 0.0039 - val_acc: 0.9989\n",
      "Epoch 45/1000\n",
      " - 16s - loss: 0.0921 - acc: 0.9435 - val_loss: 0.0045 - val_acc: 0.9984\n",
      "Epoch 46/1000\n",
      " - 16s - loss: 0.0912 - acc: 0.9420 - val_loss: 0.0052 - val_acc: 0.9982\n",
      "Epoch 47/1000\n",
      " - 16s - loss: 0.0951 - acc: 0.9403 - val_loss: 0.0041 - val_acc: 0.9983\n",
      "Epoch 48/1000\n",
      " - 16s - loss: 0.0842 - acc: 0.9382 - val_loss: 0.0040 - val_acc: 0.9986\n",
      "Epoch 49/1000\n",
      " - 16s - loss: 0.0788 - acc: 0.9359 - val_loss: 0.0036 - val_acc: 0.9989\n",
      "Epoch 50/1000\n",
      " - 16s - loss: 0.0825 - acc: 0.9329 - val_loss: 0.0070 - val_acc: 0.9984\n",
      "Epoch 51/1000\n",
      " - 16s - loss: 0.0704 - acc: 0.9306 - val_loss: 0.0066 - val_acc: 0.9986\n",
      "Epoch 52/1000\n",
      " - 16s - loss: 0.0701 - acc: 0.9229 - val_loss: 0.0033 - val_acc: 0.9987\n",
      "Epoch 53/1000\n",
      " - 16s - loss: 0.0642 - acc: 0.9220 - val_loss: 0.0035 - val_acc: 0.9990\n",
      "Epoch 54/1000\n",
      " - 16s - loss: 0.0605 - acc: 0.9145 - val_loss: 0.0030 - val_acc: 0.9989\n",
      "Epoch 55/1000\n",
      " - 16s - loss: 0.0536 - acc: 0.9114 - val_loss: 0.0041 - val_acc: 0.9983\n",
      "Epoch 56/1000\n",
      " - 16s - loss: 0.0569 - acc: 0.9056 - val_loss: 0.0060 - val_acc: 0.9987\n",
      "Epoch 57/1000\n",
      " - 16s - loss: 0.0573 - acc: 0.9038 - val_loss: 0.0026 - val_acc: 0.9990\n",
      "Epoch 58/1000\n",
      " - 16s - loss: 0.0580 - acc: 0.8966 - val_loss: 0.0028 - val_acc: 0.9991\n",
      "Epoch 59/1000\n",
      " - 16s - loss: 0.0492 - acc: 0.8930 - val_loss: 0.0059 - val_acc: 0.9987\n",
      "Epoch 60/1000\n",
      " - 16s - loss: 0.0499 - acc: 0.8859 - val_loss: 0.0050 - val_acc: 0.9982\n",
      "Epoch 61/1000\n",
      " - 16s - loss: 0.0511 - acc: 0.8851 - val_loss: 0.0026 - val_acc: 0.9994\n",
      "Epoch 62/1000\n",
      " - 16s - loss: 0.0529 - acc: 0.8838 - val_loss: 0.0047 - val_acc: 0.9989\n",
      "Epoch 63/1000\n",
      " - 16s - loss: 0.0466 - acc: 0.8814 - val_loss: 0.0046 - val_acc: 0.9993\n",
      "Epoch 64/1000\n",
      " - 16s - loss: 0.0482 - acc: 0.8723 - val_loss: 0.0044 - val_acc: 0.9990\n",
      "Epoch 65/1000\n",
      " - 16s - loss: 0.0478 - acc: 0.8645 - val_loss: 0.0022 - val_acc: 0.9993\n",
      "Epoch 66/1000\n",
      " - 16s - loss: 0.0475 - acc: 0.8630 - val_loss: 0.0040 - val_acc: 0.9991\n",
      "Epoch 67/1000\n",
      " - 16s - loss: 0.0472 - acc: 0.8600 - val_loss: 0.0049 - val_acc: 0.9989\n",
      "Epoch 68/1000\n",
      " - 16s - loss: 0.0467 - acc: 0.8562 - val_loss: 0.0026 - val_acc: 0.9590\n",
      "Epoch 69/1000\n",
      " - 16s - loss: 0.0449 - acc: 0.8498 - val_loss: 0.0044 - val_acc: 0.9498\n",
      "Epoch 70/1000\n",
      " - 16s - loss: 0.0465 - acc: 0.8493 - val_loss: 0.0048 - val_acc: 0.8608\n",
      "Epoch 71/1000\n",
      " - 16s - loss: 0.0418 - acc: 0.8452 - val_loss: 0.0036 - val_acc: 0.7425\n",
      "Epoch 72/1000\n",
      " - 16s - loss: 0.0439 - acc: 0.8437 - val_loss: 0.0047 - val_acc: 0.6937\n",
      "Epoch 73/1000\n",
      " - 16s - loss: 0.0473 - acc: 0.8383 - val_loss: 0.0039 - val_acc: 0.6727\n",
      "Epoch 74/1000\n",
      " - 16s - loss: 0.0426 - acc: 0.8391 - val_loss: 0.0026 - val_acc: 0.6672\n",
      "Epoch 75/1000\n",
      " - 16s - loss: 0.0426 - acc: 0.8365 - val_loss: 0.0065 - val_acc: 0.6731\n",
      "Epoch 76/1000\n",
      " - 16s - loss: 0.0388 - acc: 0.8355 - val_loss: 0.0083 - val_acc: 0.6649\n",
      "Epoch 77/1000\n",
      " - 16s - loss: 0.0412 - acc: 0.8345 - val_loss: 0.0017 - val_acc: 0.6641\n",
      "Epoch 78/1000\n",
      " - 16s - loss: 0.0382 - acc: 0.8305 - val_loss: 0.0078 - val_acc: 0.6618\n",
      "Epoch 79/1000\n",
      " - 16s - loss: 0.0441 - acc: 0.8323 - val_loss: 0.0081 - val_acc: 0.6598\n",
      "Epoch 80/1000\n",
      " - 16s - loss: 0.0414 - acc: 0.8347 - val_loss: 0.0059 - val_acc: 0.6602\n",
      "Epoch 81/1000\n",
      " - 16s - loss: 0.0347 - acc: 0.8283 - val_loss: 0.0080 - val_acc: 0.6553\n",
      "Epoch 82/1000\n",
      " - 16s - loss: 0.0375 - acc: 0.8247 - val_loss: 0.0064 - val_acc: 0.6560\n",
      "Epoch 83/1000\n",
      " - 16s - loss: 0.0373 - acc: 0.8214 - val_loss: 0.0046 - val_acc: 0.6549\n",
      "Epoch 84/1000\n",
      " - 16s - loss: 0.0350 - acc: 0.8180 - val_loss: 0.0077 - val_acc: 0.6503\n",
      "Epoch 85/1000\n",
      " - 16s - loss: 0.0331 - acc: 0.8111 - val_loss: 0.0082 - val_acc: 0.6529\n",
      "Epoch 86/1000\n",
      " - 16s - loss: 0.0306 - acc: 0.8115 - val_loss: 0.0060 - val_acc: 0.6506\n",
      "Epoch 87/1000\n",
      " - 15s - loss: 0.0325 - acc: 0.8086 - val_loss: 0.0086 - val_acc: 0.6505\n",
      "Epoch 88/1000\n",
      " - 16s - loss: 0.0360 - acc: 0.8033 - val_loss: 0.0029 - val_acc: 0.6482\n",
      "Epoch 89/1000\n",
      " - 16s - loss: 0.0359 - acc: 0.8008 - val_loss: 0.0070 - val_acc: 0.6493\n",
      "Epoch 90/1000\n",
      " - 16s - loss: 0.0320 - acc: 0.8009 - val_loss: 0.0058 - val_acc: 0.6492\n",
      "Epoch 91/1000\n",
      " - 16s - loss: 0.0292 - acc: 0.7990 - val_loss: 0.0078 - val_acc: 0.6479\n",
      "Epoch 92/1000\n",
      " - 16s - loss: 0.0387 - acc: 0.7947 - val_loss: 0.0060 - val_acc: 0.6455\n",
      "Epoch 93/1000\n",
      " - 16s - loss: 0.0353 - acc: 0.7929 - val_loss: 0.0130 - val_acc: 0.6438\n",
      "Epoch 94/1000\n",
      " - 16s - loss: 0.0335 - acc: 0.7852 - val_loss: 0.0083 - val_acc: 0.6469\n"
     ]
    },
    {
     "name": "stdout",
     "output_type": "stream",
     "text": [
      "Epoch 95/1000\n",
      " - 16s - loss: 0.0344 - acc: 0.7860 - val_loss: 0.0065 - val_acc: 0.6449\n",
      "Epoch 96/1000\n",
      " - 16s - loss: 0.0358 - acc: 0.7849 - val_loss: 0.0104 - val_acc: 0.6442\n",
      "Epoch 97/1000\n",
      " - 16s - loss: 0.0376 - acc: 0.7851 - val_loss: 0.0085 - val_acc: 0.6464\n",
      "Epoch 00097: early stopping\n"
     ]
    },
    {
     "data": {
      "image/png": "[encoded data removed]",
      "text/plain": [
       "<Figure size 432x288 with 1 Axes>"
      ]
     },
     "metadata": {
      "needs_background": "light"
     },
     "output_type": "display_data"
    },
    {
     "name": "stdout",
     "output_type": "stream",
     "text": [
      "\n",
      "Estimating AUCROC, acc\n",
      "ROC value: 0.9994\n",
      "Acc: 0.9989\n",
      "CMatrix: [[4499    2]\n",
      " [   6 2548]]\n"
     ]
    },
    {
     "data": {
      "text/plain": [
       "<keras.engine.training.Model at 0x7fe3bcdcc1d0>"
      ]
     },
     "execution_count": 69,
     "metadata": {},
     "output_type": "execute_result"
    }
   ],
   "source": [
    "train_model(model, X_train, X_test, y_train, y_test, \n",
    "                bsize = 20, n_epochs = 1000, val_proportion = 0.2, patience = 20)"
   ]
  },
  {
   "cell_type": "markdown",
   "metadata": {},
   "source": [
    "## Rede Neural com  normalização em Batch e Dropout"
   ]
  },
  {
   "cell_type": "code",
   "execution_count": 70,
   "metadata": {},
   "outputs": [],
   "source": [
    "def plot_model_history(model_history):\n",
    "    # summarize history for loss\n",
    "    plt.plot(range(1,len(model_history.history['loss'])+1),model_history.history['loss'])\n",
    "    plt.plot(range(1,len(model_history.history['val_loss'])+1),model_history.history['val_loss'])\n",
    "    plt.title('Model Loss')\n",
    "    plt.ylabel('Loss')\n",
    "    plt.xlabel('Epoch')\n",
    "    plt.legend(['train', 'val'], loc='best')\n",
    "    plt.show()"
   ]
  },
  {
   "cell_type": "code",
   "execution_count": 71,
   "metadata": {},
   "outputs": [],
   "source": [
    "def get_model(X_input_size):\n",
    "    '''\n",
    "        get_model cria um modelo de rede neural  \n",
    "        X_input_size: número de atributos em X\n",
    "    '''\n",
    "    input_data = Input(name='input', shape=(X_input_size,), dtype='float32')\n",
    "    \n",
    "    x = input_data\n",
    "    x = Dense(units = 200)(x)\n",
    "    x = BatchNormalization()(x)\n",
    "    x = Activation('relu')(x)\n",
    "    x = Dropout(0.7)(x)\n",
    "    \n",
    "    #--------------------------\n",
    "    x = Dense(units = 200)(x)\n",
    "    x = BatchNormalization()(x)\n",
    "    x = Activation('softmax')(x)\n",
    "    x = Dropout(0.7)(x)   \n",
    "    \n",
    "    x = Dense(units = 200)(x)\n",
    "    x = BatchNormalization()(x)\n",
    "    x = Activation('softmax')(x)\n",
    "    x = Dropout(0.7)(x)  \n",
    "    \n",
    "    x = Dense(units = 200)(x)\n",
    "    x = BatchNormalization()(x)\n",
    "    x = Activation('softmax')(x)\n",
    "    x = Dropout(0.7)(x)    \n",
    "    #--------------------------\n",
    "    \n",
    "    x = Dense(units = 1)(x)\n",
    "    y_pred = Activation('relu')(x)\n",
    "    \n",
    "    model = Model(inputs=input_data, outputs=y_pred)\n",
    "    \n",
    "    # modelo será treinado com otimizador SGD -- vc pode trocar o otimizador\n",
    "    #optimizer = SGD(lr=0.01, momentum=0.9, decay=1e-6, nesterov=True)\n",
    "    optimizer = Adam(lr=0.0001)\n",
    "    \n",
    "    # função de custo usada é a entropia cruzada\n",
    "    model.compile(loss='binary_crossentropy', optimizer = optimizer,metrics=['accuracy']) \n",
    "    \n",
    "    return model"
   ]
  },
  {
   "cell_type": "code",
   "execution_count": 72,
   "metadata": {},
   "outputs": [],
   "source": [
    "def train_model(model, X_train, X_test, y_train, y_test, \n",
    "                bsize = 20, n_epochs = 1000, val_proportion = 0.2, patience = 20):\n",
    "\n",
    "    # estratégia de treino com parada antecipada consiste em parar o treino\n",
    "    # quando nenhuma melhoria no erro de validação (val_loss) é observada após\n",
    "    # \"patience\" épocas\n",
    "    earlystop = EarlyStopping(monitor='val_loss', min_delta=0.00001, patience=patience, \\\n",
    "                verbose=1, mode='auto')\n",
    "    callback_list = [earlystop]\n",
    "    \n",
    "    # Modelo usa parâmetros comuns que podem ser modificados\n",
    "    h = model.fit(X_train, y_train, batch_size=bsize, epochs=n_epochs,validation_data=(X_test,y_test),\n",
    "                  verbose=2, shuffle = True, callbacks = callback_list, \n",
    "                  validation_split=val_proportion)\n",
    "    plot_model_history(h)          \n",
    "    \n",
    "    # avaliação\n",
    "    print('\\nEstimating AUCROC, acc')\n",
    "    y_pred = model.predict(X_test, batch_size=len(y_test))\n",
    "    print('ROC value: %.4f'%(sklearn_roc_auc_score(y_test, y_pred)))\n",
    "    print('Acc: %.4f'%(sklearn_accuracy_score(y_test, y_pred>0.5)))\n",
    "    print('CMatrix: %s'%(sklearn_confusion_matrix(y_test, y_pred>0.5)))\n",
    "    \n",
    "    return model"
   ]
  },
  {
   "cell_type": "code",
   "execution_count": 73,
   "metadata": {},
   "outputs": [
    {
     "data": {
      "text/plain": [
       "(63488, 100)"
      ]
     },
     "execution_count": 73,
     "metadata": {},
     "output_type": "execute_result"
    }
   ],
   "source": [
    "X_train.shape"
   ]
  },
  {
   "cell_type": "code",
   "execution_count": 74,
   "metadata": {},
   "outputs": [],
   "source": [
    "model=get_model(X_train.shape[1])"
   ]
  },
  {
   "cell_type": "code",
   "execution_count": 75,
   "metadata": {},
   "outputs": [
    {
     "name": "stdout",
     "output_type": "stream",
     "text": [
      "_________________________________________________________________\n",
      "Layer (type)                 Output Shape              Param #   \n",
      "=================================================================\n",
      "input (InputLayer)           (None, 100)               0         \n",
      "_________________________________________________________________\n",
      "dense_16 (Dense)             (None, 200)               20200     \n",
      "_________________________________________________________________\n",
      "batch_normalization_5 (Batch (None, 200)               800       \n",
      "_________________________________________________________________\n",
      "activation_16 (Activation)   (None, 200)               0         \n",
      "_________________________________________________________________\n",
      "dropout_5 (Dropout)          (None, 200)               0         \n",
      "_________________________________________________________________\n",
      "dense_17 (Dense)             (None, 200)               40200     \n",
      "_________________________________________________________________\n",
      "batch_normalization_6 (Batch (None, 200)               800       \n",
      "_________________________________________________________________\n",
      "activation_17 (Activation)   (None, 200)               0         \n",
      "_________________________________________________________________\n",
      "dropout_6 (Dropout)          (None, 200)               0         \n",
      "_________________________________________________________________\n",
      "dense_18 (Dense)             (None, 200)               40200     \n",
      "_________________________________________________________________\n",
      "batch_normalization_7 (Batch (None, 200)               800       \n",
      "_________________________________________________________________\n",
      "activation_18 (Activation)   (None, 200)               0         \n",
      "_________________________________________________________________\n",
      "dropout_7 (Dropout)          (None, 200)               0         \n",
      "_________________________________________________________________\n",
      "dense_19 (Dense)             (None, 200)               40200     \n",
      "_________________________________________________________________\n",
      "batch_normalization_8 (Batch (None, 200)               800       \n",
      "_________________________________________________________________\n",
      "activation_19 (Activation)   (None, 200)               0         \n",
      "_________________________________________________________________\n",
      "dropout_8 (Dropout)          (None, 200)               0         \n",
      "_________________________________________________________________\n",
      "dense_20 (Dense)             (None, 1)                 201       \n",
      "_________________________________________________________________\n",
      "activation_20 (Activation)   (None, 1)                 0         \n",
      "=================================================================\n",
      "Total params: 144,201\n",
      "Trainable params: 142,601\n",
      "Non-trainable params: 1,600\n",
      "_________________________________________________________________\n"
     ]
    }
   ],
   "source": [
    "model.summary()"
   ]
  },
  {
   "cell_type": "code",
   "execution_count": 76,
   "metadata": {},
   "outputs": [
    {
     "name": "stdout",
     "output_type": "stream",
     "text": [
      "Train on 63488 samples, validate on 7055 samples\n",
      "Epoch 1/1000\n",
      " - 25s - loss: 1.0624 - acc: 0.6468 - val_loss: 0.8208 - val_acc: 0.6380\n",
      "Epoch 2/1000\n",
      " - 24s - loss: 0.2537 - acc: 0.9207 - val_loss: 0.1257 - val_acc: 0.9792\n",
      "Epoch 7/1000\n",
      " - 25s - loss: 0.2502 - acc: 0.9251 - val_loss: 0.1122 - val_acc: 0.9864\n",
      "Epoch 8/1000\n",
      " - 24s - loss: 0.2437 - acc: 0.9304 - val_loss: 0.1042 - val_acc: 0.9847\n",
      "Epoch 9/1000\n",
      " - 24s - loss: 0.2389 - acc: 0.9317 - val_loss: 0.1005 - val_acc: 0.9796\n",
      "Epoch 10/1000\n",
      " - 24s - loss: 0.2351 - acc: 0.9330 - val_loss: 0.0953 - val_acc: 0.9848\n",
      "Epoch 11/1000\n",
      " - 24s - loss: 0.2333 - acc: 0.9332 - val_loss: 0.0898 - val_acc: 0.9797\n",
      "Epoch 12/1000\n",
      " - 24s - loss: 0.2433 - acc: 0.9349 - val_loss: 0.0846 - val_acc: 0.9807\n",
      "Epoch 13/1000\n",
      " - 24s - loss: 0.2365 - acc: 0.9390 - val_loss: 0.0782 - val_acc: 0.9820\n",
      "Epoch 14/1000\n",
      " - 25s - loss: 0.2342 - acc: 0.9397 - val_loss: 0.0755 - val_acc: 0.9885\n",
      "Epoch 15/1000\n",
      " - 24s - loss: 0.2296 - acc: 0.9406 - val_loss: 0.0767 - val_acc: 0.9840\n",
      "Epoch 16/1000\n",
      " - 25s - loss: 0.2322 - acc: 0.9407 - val_loss: 0.0729 - val_acc: 0.9905\n",
      "Epoch 17/1000\n",
      " - 24s - loss: 0.2335 - acc: 0.9409 - val_loss: 0.0705 - val_acc: 0.9895\n",
      "Epoch 18/1000\n",
      " - 24s - loss: 0.2275 - acc: 0.9421 - val_loss: 0.0606 - val_acc: 0.9877\n",
      "Epoch 19/1000\n",
      " - 24s - loss: 0.2193 - acc: 0.9447 - val_loss: 0.0581 - val_acc: 0.9912\n",
      "Epoch 20/1000\n",
      " - 24s - loss: 0.2183 - acc: 0.9455 - val_loss: 0.0564 - val_acc: 0.9871\n",
      "Epoch 21/1000\n",
      " - 24s - loss: 0.2208 - acc: 0.9465 - val_loss: 0.0541 - val_acc: 0.9932\n",
      "Epoch 22/1000\n",
      " - 24s - loss: 0.2348 - acc: 0.9460 - val_loss: 0.0521 - val_acc: 0.9881\n",
      "Epoch 23/1000\n",
      " - 24s - loss: 0.2208 - acc: 0.9481 - val_loss: 0.0508 - val_acc: 0.9889\n",
      "Epoch 24/1000\n",
      " - 24s - loss: 0.2139 - acc: 0.9490 - val_loss: 0.0483 - val_acc: 0.9882\n",
      "Epoch 25/1000\n",
      " - 25s - loss: 0.2162 - acc: 0.9486 - val_loss: 0.0460 - val_acc: 0.9905\n",
      "Epoch 26/1000\n",
      " - 24s - loss: 0.2208 - acc: 0.9469 - val_loss: 0.0477 - val_acc: 0.9793\n",
      "Epoch 27/1000\n",
      " - 22s - loss: 0.2129 - acc: 0.9502 - val_loss: 0.0428 - val_acc: 0.9872\n",
      "Epoch 28/1000\n",
      " - 22s - loss: 0.2147 - acc: 0.9490 - val_loss: 0.0390 - val_acc: 0.9916\n",
      "Epoch 29/1000\n",
      " - 22s - loss: 0.2084 - acc: 0.9507 - val_loss: 0.0397 - val_acc: 0.9885\n",
      "Epoch 30/1000\n",
      " - 22s - loss: 0.2067 - acc: 0.9517 - val_loss: 0.0383 - val_acc: 0.9915\n",
      "Epoch 31/1000\n",
      " - 22s - loss: 0.2038 - acc: 0.9524 - val_loss: 0.0375 - val_acc: 0.9891\n",
      "Epoch 32/1000\n",
      " - 22s - loss: 0.2041 - acc: 0.9537 - val_loss: 0.0330 - val_acc: 0.9914\n",
      "Epoch 33/1000\n",
      " - 22s - loss: 0.2058 - acc: 0.9542 - val_loss: 0.0320 - val_acc: 0.9915\n",
      "Epoch 34/1000\n",
      " - 22s - loss: 0.2210 - acc: 0.9511 - val_loss: 0.0289 - val_acc: 0.9911\n",
      "Epoch 35/1000\n",
      " - 22s - loss: 0.2207 - acc: 0.9528 - val_loss: 0.0283 - val_acc: 0.9909\n",
      "Epoch 36/1000\n",
      " - 23s - loss: 0.2225 - acc: 0.9523 - val_loss: 0.0293 - val_acc: 0.9887\n",
      "Epoch 37/1000\n",
      " - 23s - loss: 0.2023 - acc: 0.9549 - val_loss: 0.0278 - val_acc: 0.9914\n",
      "Epoch 38/1000\n",
      " - 23s - loss: 0.2222 - acc: 0.9522 - val_loss: 0.0279 - val_acc: 0.9911\n",
      "Epoch 39/1000\n",
      " - 24s - loss: 0.2119 - acc: 0.9527 - val_loss: 0.0264 - val_acc: 0.9914\n",
      "Epoch 40/1000\n",
      " - 23s - loss: 0.2175 - acc: 0.9527 - val_loss: 0.0268 - val_acc: 0.9921\n",
      "Epoch 41/1000\n",
      " - 23s - loss: 0.2053 - acc: 0.9545 - val_loss: 0.0278 - val_acc: 0.9892\n",
      "Epoch 42/1000\n",
      " - 23s - loss: 0.1999 - acc: 0.9544 - val_loss: 0.0272 - val_acc: 0.9940\n",
      "Epoch 43/1000\n",
      " - 22s - loss: 0.2023 - acc: 0.9548 - val_loss: 0.0265 - val_acc: 0.9932\n",
      "Epoch 44/1000\n",
      " - 23s - loss: 0.2085 - acc: 0.9546 - val_loss: 0.0263 - val_acc: 0.9919\n",
      "Epoch 45/1000\n",
      " - 23s - loss: 0.1985 - acc: 0.9556 - val_loss: 0.0255 - val_acc: 0.9923\n",
      "Epoch 46/1000\n",
      " - 23s - loss: 0.2002 - acc: 0.9550 - val_loss: 0.0259 - val_acc: 0.9915\n",
      "Epoch 47/1000\n",
      " - 23s - loss: 0.2019 - acc: 0.9552 - val_loss: 0.0265 - val_acc: 0.9933\n",
      "Epoch 48/1000\n",
      " - 23s - loss: 0.2008 - acc: 0.9544 - val_loss: 0.0260 - val_acc: 0.9923\n",
      "Epoch 49/1000\n",
      " - 23s - loss: 0.2007 - acc: 0.9551 - val_loss: 0.0253 - val_acc: 0.9948\n",
      "Epoch 50/1000\n",
      " - 22s - loss: 0.1951 - acc: 0.9557 - val_loss: 0.0253 - val_acc: 0.9952\n",
      "Epoch 51/1000\n",
      " - 23s - loss: 0.2041 - acc: 0.9544 - val_loss: 0.0266 - val_acc: 0.9936\n",
      "Epoch 52/1000\n",
      " - 23s - loss: 0.2018 - acc: 0.9560 - val_loss: 0.0262 - val_acc: 0.9918\n",
      "Epoch 53/1000\n",
      " - 23s - loss: 0.2050 - acc: 0.9535 - val_loss: 0.0249 - val_acc: 0.9940\n",
      "Epoch 54/1000\n",
      " - 24s - loss: 0.1963 - acc: 0.9556 - val_loss: 0.0246 - val_acc: 0.9925\n",
      "Epoch 55/1000\n",
      " - 23s - loss: 0.1978 - acc: 0.9563 - val_loss: 0.0247 - val_acc: 0.9936\n",
      "Epoch 56/1000\n",
      " - 23s - loss: 0.2026 - acc: 0.9536 - val_loss: 0.0244 - val_acc: 0.9922\n",
      "Epoch 57/1000\n",
      " - 23s - loss: 0.2054 - acc: 0.9550 - val_loss: 0.0249 - val_acc: 0.9916\n",
      "Epoch 58/1000\n",
      " - 23s - loss: 0.2027 - acc: 0.9547 - val_loss: 0.0251 - val_acc: 0.9908\n",
      "Epoch 59/1000\n",
      " - 24s - loss: 0.1977 - acc: 0.9540 - val_loss: 0.0239 - val_acc: 0.9923\n",
      "Epoch 60/1000\n",
      " - 24s - loss: 0.1911 - acc: 0.9552 - val_loss: 0.0254 - val_acc: 0.9911\n",
      "Epoch 61/1000\n",
      " - 23s - loss: 0.1944 - acc: 0.9556 - val_loss: 0.0243 - val_acc: 0.9897\n",
      "Epoch 62/1000\n",
      " - 23s - loss: 0.1935 - acc: 0.9537 - val_loss: 0.0246 - val_acc: 0.9887\n",
      "Epoch 63/1000\n",
      " - 23s - loss: 0.1878 - acc: 0.9557 - val_loss: 0.0244 - val_acc: 0.9911\n",
      "Epoch 64/1000\n",
      " - 24s - loss: 0.1831 - acc: 0.9554 - val_loss: 0.0241 - val_acc: 0.9908\n",
      "Epoch 65/1000\n",
      " - 23s - loss: 0.1938 - acc: 0.9552 - val_loss: 0.0239 - val_acc: 0.9923\n",
      "Epoch 66/1000\n",
      " - 23s - loss: 0.1873 - acc: 0.9565 - val_loss: 0.0226 - val_acc: 0.9933\n",
      "Epoch 67/1000\n",
      " - 24s - loss: 0.1985 - acc: 0.9555 - val_loss: 0.0224 - val_acc: 0.9931\n",
      "Epoch 68/1000\n",
      " - 23s - loss: 0.1872 - acc: 0.9536 - val_loss: 0.0231 - val_acc: 0.9938\n",
      "Epoch 69/1000\n",
      " - 23s - loss: 0.1862 - acc: 0.9559 - val_loss: 0.0230 - val_acc: 0.9939\n",
      "Epoch 70/1000\n",
      " - 23s - loss: 0.1913 - acc: 0.9543 - val_loss: 0.0234 - val_acc: 0.9932\n",
      "Epoch 71/1000\n",
      " - 23s - loss: 0.1880 - acc: 0.9558 - val_loss: 0.0234 - val_acc: 0.9926\n",
      "Epoch 72/1000\n",
      " - 23s - loss: 0.1952 - acc: 0.9544 - val_loss: 0.0239 - val_acc: 0.9919\n",
      "Epoch 73/1000\n",
      " - 22s - loss: 0.1840 - acc: 0.9545 - val_loss: 0.0232 - val_acc: 0.9935\n",
      "Epoch 74/1000\n",
      " - 23s - loss: 0.1963 - acc: 0.9531 - val_loss: 0.0223 - val_acc: 0.9950\n",
      "Epoch 75/1000\n",
      " - 24s - loss: 0.1881 - acc: 0.9548 - val_loss: 0.0224 - val_acc: 0.9942\n",
      "Epoch 76/1000\n",
      " - 24s - loss: 0.1911 - acc: 0.9541 - val_loss: 0.0218 - val_acc: 0.9936\n",
      "Epoch 77/1000\n",
      " - 24s - loss: 0.1869 - acc: 0.9545 - val_loss: 0.0218 - val_acc: 0.9933\n",
      "Epoch 78/1000\n",
      " - 24s - loss: 0.1935 - acc: 0.9534 - val_loss: 0.0218 - val_acc: 0.9943\n",
      "Epoch 79/1000\n",
      " - 22s - loss: 0.1855 - acc: 0.9555 - val_loss: 0.0219 - val_acc: 0.9936\n",
      "Epoch 80/1000\n",
      " - 24s - loss: 0.1851 - acc: 0.9563 - val_loss: 0.0223 - val_acc: 0.9939\n",
      "Epoch 81/1000\n",
      " - 24s - loss: 0.1849 - acc: 0.9541 - val_loss: 0.0222 - val_acc: 0.9926\n",
      "Epoch 82/1000\n",
      " - 24s - loss: 0.1891 - acc: 0.9546 - val_loss: 0.0224 - val_acc: 0.9942\n",
      "Epoch 83/1000\n",
      " - 25s - loss: 0.1856 - acc: 0.9521 - val_loss: 0.0226 - val_acc: 0.9940\n",
      "Epoch 84/1000\n",
      " - 25s - loss: 0.1802 - acc: 0.9551 - val_loss: 0.0221 - val_acc: 0.9931\n",
      "Epoch 85/1000\n",
      " - 25s - loss: 0.1928 - acc: 0.9533 - val_loss: 0.0226 - val_acc: 0.9919\n",
      "Epoch 86/1000\n",
      " - 25s - loss: 0.1814 - acc: 0.9536 - val_loss: 0.0220 - val_acc: 0.9936\n",
      "Epoch 87/1000\n",
      " - 24s - loss: 0.1838 - acc: 0.9548 - val_loss: 0.0224 - val_acc: 0.9935\n",
      "Epoch 88/1000\n",
      " - 26s - loss: 0.1858 - acc: 0.9529 - val_loss: 0.0219 - val_acc: 0.9946\n",
      "Epoch 89/1000\n",
      " - 26s - loss: 0.1854 - acc: 0.9530 - val_loss: 0.0217 - val_acc: 0.9923\n",
      "Epoch 90/1000\n",
      " - 25s - loss: 0.1794 - acc: 0.9548 - val_loss: 0.0212 - val_acc: 0.9928\n",
      "Epoch 91/1000\n",
      " - 25s - loss: 0.1831 - acc: 0.9525 - val_loss: 0.0218 - val_acc: 0.9932\n",
      "Epoch 92/1000\n",
      " - 24s - loss: 0.1767 - acc: 0.9539 - val_loss: 0.0212 - val_acc: 0.9940\n",
      "Epoch 93/1000\n",
      " - 26s - loss: 0.1791 - acc: 0.9529 - val_loss: 0.0216 - val_acc: 0.9928\n",
      "Epoch 94/1000\n",
      " - 25s - loss: 0.1871 - acc: 0.9524 - val_loss: 0.0212 - val_acc: 0.9950\n",
      "Epoch 95/1000\n",
      " - 26s - loss: 0.1864 - acc: 0.9527 - val_loss: 0.0219 - val_acc: 0.9943\n",
      "Epoch 96/1000\n",
      " - 26s - loss: 0.1886 - acc: 0.9511 - val_loss: 0.0222 - val_acc: 0.9926\n",
      "Epoch 97/1000\n",
      " - 27s - loss: 0.1813 - acc: 0.9506 - val_loss: 0.0220 - val_acc: 0.9932\n",
      "Epoch 98/1000\n",
      " - 25s - loss: 0.1834 - acc: 0.9510 - val_loss: 0.0210 - val_acc: 0.9933\n"
     ]
    },
    {
     "name": "stdout",
     "output_type": "stream",
     "text": [
      "Epoch 99/1000\n",
      " - 26s - loss: 0.1721 - acc: 0.9522 - val_loss: 0.0212 - val_acc: 0.9940\n",
      "Epoch 100/1000\n",
      " - 25s - loss: 0.1750 - acc: 0.9511 - val_loss: 0.0209 - val_acc: 0.9949\n",
      "Epoch 101/1000\n",
      " - 24s - loss: 0.1755 - acc: 0.9514 - val_loss: 0.0213 - val_acc: 0.9943\n",
      "Epoch 102/1000\n",
      " - 25s - loss: 0.1785 - acc: 0.9512 - val_loss: 0.0211 - val_acc: 0.9946\n",
      "Epoch 103/1000\n",
      " - 26s - loss: 0.1826 - acc: 0.9507 - val_loss: 0.0214 - val_acc: 0.9938\n",
      "Epoch 104/1000\n",
      " - 24s - loss: 0.1872 - acc: 0.9489 - val_loss: 0.0216 - val_acc: 0.9926\n",
      "Epoch 105/1000\n",
      " - 26s - loss: 0.1772 - acc: 0.9501 - val_loss: 0.0218 - val_acc: 0.9940\n",
      "Epoch 106/1000\n",
      " - 26s - loss: 0.1747 - acc: 0.9494 - val_loss: 0.0212 - val_acc: 0.9939\n",
      "Epoch 107/1000\n",
      " - 27s - loss: 0.1728 - acc: 0.9491 - val_loss: 0.0217 - val_acc: 0.9935\n",
      "Epoch 108/1000\n",
      " - 26s - loss: 0.1901 - acc: 0.9482 - val_loss: 0.0214 - val_acc: 0.9925\n",
      "Epoch 109/1000\n",
      " - 26s - loss: 0.1888 - acc: 0.9496 - val_loss: 0.0220 - val_acc: 0.9922\n",
      "Epoch 110/1000\n",
      " - 25s - loss: 0.1700 - acc: 0.9515 - val_loss: 0.0214 - val_acc: 0.9935\n",
      "Epoch 111/1000\n",
      " - 24s - loss: 0.1821 - acc: 0.9484 - val_loss: 0.0224 - val_acc: 0.9916\n",
      "Epoch 112/1000\n",
      " - 24s - loss: 0.1768 - acc: 0.9489 - val_loss: 0.0216 - val_acc: 0.9925\n",
      "Epoch 113/1000\n",
      " - 24s - loss: 0.1838 - acc: 0.9488 - val_loss: 0.0212 - val_acc: 0.9928\n",
      "Epoch 114/1000\n",
      " - 24s - loss: 0.1840 - acc: 0.9479 - val_loss: 0.0206 - val_acc: 0.9936\n",
      "Epoch 115/1000\n",
      " - 24s - loss: 0.1700 - acc: 0.9494 - val_loss: 0.0209 - val_acc: 0.9933\n",
      "Epoch 116/1000\n",
      " - 24s - loss: 0.1778 - acc: 0.9481 - val_loss: 0.0201 - val_acc: 0.9946\n",
      "Epoch 117/1000\n",
      " - 24s - loss: 0.1742 - acc: 0.9494 - val_loss: 0.0208 - val_acc: 0.9929\n",
      "Epoch 118/1000\n",
      " - 23s - loss: 0.1825 - acc: 0.9477 - val_loss: 0.0204 - val_acc: 0.9936\n",
      "Epoch 119/1000\n",
      " - 23s - loss: 0.1710 - acc: 0.9492 - val_loss: 0.0207 - val_acc: 0.9935\n",
      "Epoch 120/1000\n",
      " - 23s - loss: 0.1756 - acc: 0.9463 - val_loss: 0.0213 - val_acc: 0.9940\n",
      "Epoch 121/1000\n",
      " - 23s - loss: 0.1736 - acc: 0.9470 - val_loss: 0.0217 - val_acc: 0.9931\n",
      "Epoch 122/1000\n",
      " - 24s - loss: 0.1639 - acc: 0.9487 - val_loss: 0.0218 - val_acc: 0.9936\n",
      "Epoch 123/1000\n",
      " - 23s - loss: 0.1721 - acc: 0.9466 - val_loss: 0.0217 - val_acc: 0.9938\n",
      "Epoch 124/1000\n",
      " - 23s - loss: 0.1668 - acc: 0.9466 - val_loss: 0.0217 - val_acc: 0.9936\n",
      "Epoch 125/1000\n",
      " - 23s - loss: 0.1700 - acc: 0.9469 - val_loss: 0.0226 - val_acc: 0.9931\n",
      "Epoch 126/1000\n",
      " - 23s - loss: 0.1704 - acc: 0.9467 - val_loss: 0.0218 - val_acc: 0.9926\n",
      "Epoch 127/1000\n",
      " - 23s - loss: 0.1693 - acc: 0.9463 - val_loss: 0.0203 - val_acc: 0.9938\n",
      "Epoch 128/1000\n",
      " - 23s - loss: 0.1711 - acc: 0.9459 - val_loss: 0.0207 - val_acc: 0.9926\n",
      "Epoch 129/1000\n",
      " - 23s - loss: 0.1804 - acc: 0.9430 - val_loss: 0.0204 - val_acc: 0.9933\n",
      "Epoch 130/1000\n",
      " - 23s - loss: 0.1768 - acc: 0.9453 - val_loss: 0.0208 - val_acc: 0.9938\n",
      "Epoch 131/1000\n",
      " - 23s - loss: 0.1814 - acc: 0.9456 - val_loss: 0.0205 - val_acc: 0.9929\n",
      "Epoch 132/1000\n",
      " - 24s - loss: 0.1749 - acc: 0.9466 - val_loss: 0.0201 - val_acc: 0.9938\n",
      "Epoch 133/1000\n",
      " - 23s - loss: 0.1745 - acc: 0.9437 - val_loss: 0.0201 - val_acc: 0.9933\n",
      "Epoch 134/1000\n",
      " - 24s - loss: 0.1745 - acc: 0.9457 - val_loss: 0.0210 - val_acc: 0.9915\n",
      "Epoch 135/1000\n",
      " - 24s - loss: 0.1714 - acc: 0.9439 - val_loss: 0.0199 - val_acc: 0.9931\n",
      "Epoch 136/1000\n",
      " - 24s - loss: 0.1693 - acc: 0.9458 - val_loss: 0.0209 - val_acc: 0.9923\n",
      "Epoch 137/1000\n",
      " - 24s - loss: 0.1801 - acc: 0.9411 - val_loss: 0.0202 - val_acc: 0.9945\n",
      "Epoch 138/1000\n",
      " - 24s - loss: 0.1689 - acc: 0.9432 - val_loss: 0.0197 - val_acc: 0.9933\n",
      "Epoch 139/1000\n",
      " - 24s - loss: 0.1828 - acc: 0.9414 - val_loss: 0.0194 - val_acc: 0.9943\n",
      "Epoch 140/1000\n",
      " - 24s - loss: 0.1871 - acc: 0.9392 - val_loss: 0.0197 - val_acc: 0.9942\n",
      "Epoch 141/1000\n",
      " - 24s - loss: 0.1736 - acc: 0.9415 - val_loss: 0.0192 - val_acc: 0.9946\n",
      "Epoch 142/1000\n",
      " - 24s - loss: 0.1659 - acc: 0.9430 - val_loss: 0.0188 - val_acc: 0.9945\n",
      "Epoch 143/1000\n",
      " - 24s - loss: 0.1729 - acc: 0.9409 - val_loss: 0.0191 - val_acc: 0.9953\n",
      "Epoch 144/1000\n",
      " - 24s - loss: 0.1727 - acc: 0.9419 - val_loss: 0.0196 - val_acc: 0.9933\n",
      "Epoch 145/1000\n",
      " - 24s - loss: 0.1752 - acc: 0.9397 - val_loss: 0.0190 - val_acc: 0.9942\n",
      "Epoch 146/1000\n",
      " - 24s - loss: 0.1709 - acc: 0.9409 - val_loss: 0.0192 - val_acc: 0.9942\n",
      "Epoch 147/1000\n",
      " - 24s - loss: 0.1693 - acc: 0.9391 - val_loss: 0.0190 - val_acc: 0.9946\n",
      "Epoch 148/1000\n",
      " - 24s - loss: 0.1679 - acc: 0.9399 - val_loss: 0.0200 - val_acc: 0.9945\n",
      "Epoch 149/1000\n",
      " - 24s - loss: 0.1678 - acc: 0.9395 - val_loss: 0.0200 - val_acc: 0.9931\n",
      "Epoch 150/1000\n",
      " - 24s - loss: 0.1716 - acc: 0.9402 - val_loss: 0.0196 - val_acc: 0.9935\n",
      "Epoch 151/1000\n",
      " - 24s - loss: 0.1720 - acc: 0.9397 - val_loss: 0.0199 - val_acc: 0.9926\n",
      "Epoch 152/1000\n",
      " - 24s - loss: 0.1716 - acc: 0.9410 - val_loss: 0.0208 - val_acc: 0.9932\n",
      "Epoch 153/1000\n",
      " - 24s - loss: 0.1677 - acc: 0.9399 - val_loss: 0.0201 - val_acc: 0.9928\n",
      "Epoch 154/1000\n",
      " - 24s - loss: 0.1668 - acc: 0.9422 - val_loss: 0.0209 - val_acc: 0.9923\n",
      "Epoch 155/1000\n",
      " - 24s - loss: 0.1688 - acc: 0.9394 - val_loss: 0.0195 - val_acc: 0.9938\n",
      "Epoch 156/1000\n",
      " - 24s - loss: 0.1663 - acc: 0.9398 - val_loss: 0.0194 - val_acc: 0.9946\n",
      "Epoch 157/1000\n",
      " - 23s - loss: 0.1628 - acc: 0.9393 - val_loss: 0.0200 - val_acc: 0.9942\n",
      "Epoch 158/1000\n",
      " - 24s - loss: 0.1692 - acc: 0.9388 - val_loss: 0.0200 - val_acc: 0.9942\n",
      "Epoch 159/1000\n",
      " - 24s - loss: 0.1558 - acc: 0.9383 - val_loss: 0.0202 - val_acc: 0.9932\n",
      "Epoch 160/1000\n",
      " - 23s - loss: 0.1684 - acc: 0.9369 - val_loss: 0.0200 - val_acc: 0.9938\n",
      "Epoch 161/1000\n",
      " - 23s - loss: 0.1643 - acc: 0.9392 - val_loss: 0.0202 - val_acc: 0.9925\n",
      "Epoch 162/1000\n",
      " - 24s - loss: 0.1692 - acc: 0.9399 - val_loss: 0.0205 - val_acc: 0.9925\n",
      "Epoch 00162: early stopping\n"
     ]
    },
    {
     "data": {
      "image/png": "[encoded data removed]",
      "text/plain": [
       "<Figure size 432x288 with 1 Axes>"
      ]
     },
     "metadata": {
      "needs_background": "light"
     },
     "output_type": "display_data"
    },
    {
     "name": "stdout",
     "output_type": "stream",
     "text": [
      "\n",
      "Estimating AUCROC, acc\n",
      "ROC value: 0.9998\n",
      "Acc: 0.9925\n",
      "CMatrix: [[4489   12]\n",
      " [  41 2513]]\n"
     ]
    },
    {
     "data": {
      "text/plain": [
       "<keras.engine.training.Model at 0x7fe3b99e1eb8>"
      ]
     },
     "execution_count": 76,
     "metadata": {},
     "output_type": "execute_result"
    }
   ],
   "source": [
    "train_model(model, X_train, X_test, y_train, y_test, \n",
    "                bsize = 20, n_epochs = 1000, val_proportion = 0.2, patience = 20)"
   ]
  },
  {
   "cell_type": "code",
   "execution_count": null,
   "metadata": {},
   "outputs": [],
   "source": []
  },
  {
   "cell_type": "markdown",
   "metadata": {},
   "source": [
    "## Rede Neural - LSTM"
   ]
  },
  {
   "cell_type": "code",
   "execution_count": 95,
   "metadata": {},
   "outputs": [
    {
     "ename": "SystemError",
     "evalue": "Parent module '' not loaded, cannot perform relative import",
     "output_type": "error",
     "traceback": [
      "\u001b[0;31m---------------------------------------------------------------------------\u001b[0m",
      "\u001b[0;31mSystemError\u001b[0m                               Traceback (most recent call last)",
      "\u001b[0;32m<ipython-input-95-902aaf8f6684>\u001b[0m in \u001b[0;36m<module>\u001b[0;34m\u001b[0m\n\u001b[1;32m      7\u001b[0m \u001b[0;34m\u001b[0m\u001b[0m\n\u001b[1;32m      8\u001b[0m \u001b[0;34m\u001b[0m\u001b[0m\n\u001b[0;32m----> 9\u001b[0;31m \u001b[0;32mfrom\u001b[0m \u001b[0;34m.\u001b[0m\u001b[0;34m.\u001b[0m \u001b[0;32mimport\u001b[0m \u001b[0mbackend\u001b[0m \u001b[0;32mas\u001b[0m \u001b[0mK\u001b[0m\u001b[0;34m\u001b[0m\u001b[0m\n\u001b[0m\u001b[1;32m     10\u001b[0m \u001b[0;32mfrom\u001b[0m \u001b[0;34m.\u001b[0m\u001b[0;34m.\u001b[0m \u001b[0;32mimport\u001b[0m \u001b[0mactivations\u001b[0m\u001b[0;34m\u001b[0m\u001b[0m\n\u001b[1;32m     11\u001b[0m \u001b[0;32mfrom\u001b[0m \u001b[0;34m.\u001b[0m\u001b[0;34m.\u001b[0m \u001b[0;32mimport\u001b[0m \u001b[0minitializers\u001b[0m\u001b[0;34m\u001b[0m\u001b[0m\n",
      "\u001b[0;31mSystemError\u001b[0m: Parent module '' not loaded, cannot perform relative import"
     ]
    }
   ],
   "source": [
    "from __future__ import absolute_import\n",
    "from __future__ import division\n",
    "from __future__ import print_function\n",
    "\n",
    "import numpy as np\n",
    "import warnings\n",
    "\n",
    "\n",
    "from .. import backend as K\n",
    "from .. import activations\n",
    "from .. import initializers\n",
    "from .. import regularizers\n",
    "from .. import constraints\n",
    "from ..engine.base_layer import Layer\n",
    "from ..engine.base_layer import disable_tracking\n",
    "from ..engine.base_layer import InputSpec\n",
    "from ..utils.generic_utils import has_arg\n",
    "from ..utils.generic_utils import to_list\n",
    "\n",
    "# Legacy support.\n",
    "from ..legacy.layers import Recurrent\n",
    "from ..legacy import interfaces"
   ]
  },
  {
   "cell_type": "code",
   "execution_count": 78,
   "metadata": {},
   "outputs": [
    {
     "ename": "NameError",
     "evalue": "name 'keras' is not defined",
     "output_type": "error",
     "traceback": [
      "\u001b[0;31m---------------------------------------------------------------------------\u001b[0m",
      "\u001b[0;31mNameError\u001b[0m                                 Traceback (most recent call last)",
      "\u001b[0;32m<ipython-input-78-2116869942a1>\u001b[0m in \u001b[0;36m<module>\u001b[0;34m\u001b[0m\n\u001b[0;32m----> 1\u001b[0;31m keras.layers.LSTM(units, activation='tanh', \n\u001b[0m\u001b[1;32m      2\u001b[0m     \u001b[0mrecurrent_activation\u001b[0m\u001b[0;34m=\u001b[0m\u001b[0;34m'hard_sigmoid'\u001b[0m\u001b[0;34m,\u001b[0m \u001b[0muse_bias\u001b[0m\u001b[0;34m=\u001b[0m\u001b[0;32mTrue\u001b[0m\u001b[0;34m,\u001b[0m\u001b[0;34m\u001b[0m\u001b[0m\n\u001b[1;32m      3\u001b[0m     \u001b[0mkernel_initializer\u001b[0m\u001b[0;34m=\u001b[0m\u001b[0;34m'glorot_uniform'\u001b[0m\u001b[0;34m,\u001b[0m\u001b[0;34m\u001b[0m\u001b[0m\n\u001b[1;32m      4\u001b[0m     \u001b[0mrecurrent_initializer\u001b[0m\u001b[0;34m=\u001b[0m\u001b[0;34m'orthogonal'\u001b[0m\u001b[0;34m,\u001b[0m\u001b[0;34m\u001b[0m\u001b[0m\n\u001b[1;32m      5\u001b[0m     \u001b[0mbias_initializer\u001b[0m\u001b[0;34m=\u001b[0m\u001b[0;34m'zeros'\u001b[0m\u001b[0;34m,\u001b[0m\u001b[0;34m\u001b[0m\u001b[0m\n",
      "\u001b[0;31mNameError\u001b[0m: name 'keras' is not defined"
     ]
    }
   ],
   "source": [
    "keras.layers.LSTM(units, activation='tanh', \n",
    "    recurrent_activation='hard_sigmoid', use_bias=True, \n",
    "    kernel_initializer='glorot_uniform', \n",
    "    recurrent_initializer='orthogonal', \n",
    "    bias_initializer='zeros',\n",
    "    unit_forget_bias=True,\n",
    "                  \n",
    "    kernel_regularizer=None, \n",
    "    recurrent_regularizer=None, \n",
    "    bias_regularizer=None, activity_regularizer=None,    \n",
    "    kernel_constraint=None, recurrent_constraint=None, \n",
    "    bias_constraint=None, \n",
    "    dropout=0.0, recurrent_dropout=0.0, \n",
    "    implementation=1, return_sequences=False,\n",
    "    return_state=False, go_backwards=False, \n",
    "    stateful=False, unroll=False)"
   ]
  },
  {
   "cell_type": "code",
   "execution_count": null,
   "metadata": {},
   "outputs": [],
   "source": [
    "# First, let's define a RNN Cell, as a layer subclass.\n",
    "\n",
    "class LSTM(keras.layers.LSTM):\n",
    "\n",
    "    def __init__(self, units, **kwargs):\n",
    "        self.units = units\n",
    "        self.state_size = units\n",
    "        super(LSTM, self).__init__(**kwargs)\n",
    "\n",
    "    def build(self, input_shape):\n",
    "        self.kernel = self.add_weight(shape=(input_shape[-1], self.units),\n",
    "                                      initializer='uniform',\n",
    "                                      name='kernel')\n",
    "        self.recurrent_kernel = self.add_weight(\n",
    "            shape=(self.units, self.units),\n",
    "            initializer='uniform',\n",
    "            name='recurrent_kernel')\n",
    "        self.built = True\n",
    "\n",
    "    def call(self, inputs, states):\n",
    "        prev_output = states[0]\n",
    "        h = K.dot(inputs, self.kernel)\n",
    "        output = h + K.dot(prev_output, self.recurrent_kernel)\n",
    "        return output, [output]\n",
    "\n",
    "# Let's use this cell in a RNN layer:\n",
    "\n",
    "cell = LSTM(32)\n",
    "x = keras.Input((None, 5))\n",
    "layer = LSTM(cell)\n",
    "y = layer(x)\n",
    "\n",
    "# Here's how to use the cell to build a stacked RNN:\n",
    "\n",
    "cells = [LSTM(32), LSTM(64)]\n",
    "x = keras.Input((None, 5))\n",
    "layer = LSTM(cells)\n",
    "y = layer(x)"
   ]
  },
  {
   "cell_type": "code",
   "execution_count": null,
   "metadata": {},
   "outputs": [],
   "source": [
    "# First, let's define a RNN Cell, as a layer subclass.\n",
    "\n",
    "class MinimalRNNCell(keras.layers.Layer):\n",
    "\n",
    "    def __init__(self, units, **kwargs):\n",
    "        self.units = units\n",
    "        self.state_size = units\n",
    "        super(MinimalRNNCell, self).__init__(**kwargs)\n",
    "\n",
    "    def build(self, input_shape):\n",
    "        self.kernel = self.add_weight(shape=(input_shape[-1], self.units),\n",
    "                                      initializer='uniform',\n",
    "                                      name='kernel')\n",
    "        self.recurrent_kernel = self.add_weight(\n",
    "            shape=(self.units, self.units),\n",
    "            initializer='uniform',\n",
    "            name='recurrent_kernel')\n",
    "        self.built = True\n",
    "\n",
    "    def call(self, inputs, states):\n",
    "        prev_output = states[0]\n",
    "        h = K.dot(inputs, self.kernel)\n",
    "        output = h + K.dot(prev_output, self.recurrent_kernel)\n",
    "        return output, [output]\n",
    "\n",
    "# Let's use this cell in a RNN layer:\n",
    "\n",
    "cell = MinimalRNNCell(32)\n",
    "x = keras.Input((None, 5))\n",
    "layer = RNN(cell)\n",
    "y = layer(x)\n",
    "\n",
    "# Here's how to use the cell to build a stacked RNN:\n",
    "\n",
    "cells = [MinimalRNNCell(32), MinimalRNNCell(64)]\n",
    "x = keras.Input((None, 5))\n",
    "layer = RNN(cells)\n",
    "y = layer(x)"
   ]
  },
  {
   "cell_type": "code",
   "execution_count": null,
   "metadata": {},
   "outputs": [],
   "source": []
  },
  {
   "cell_type": "code",
   "execution_count": null,
   "metadata": {},
   "outputs": [],
   "source": []
  },
  {
   "cell_type": "code",
   "execution_count": null,
   "metadata": {},
   "outputs": [],
   "source": []
  },
  {
   "cell_type": "code",
   "execution_count": null,
   "metadata": {},
   "outputs": [],
   "source": []
  }
 ],
 "metadata": {
  "kernelspec": {
   "display_name": "Python 3",
   "language": "python",
   "name": "python3"
  },
  "language_info": {
   "codemirror_mode": {
    "name": "ipython",
    "version": 2
   },
   "file_extension": ".py",
   "mimetype": "text/x-python",
   "name": "python",
   "nbconvert_exporter": "python",
   "pygments_lexer": "ipython2",
   "version": "2.7.15"
  }
 },
 "nbformat": 4,
 "nbformat_minor": 2
}
