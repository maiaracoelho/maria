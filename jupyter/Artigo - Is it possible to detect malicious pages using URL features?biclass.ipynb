{
 "cells": [
  {
   "cell_type": "markdown",
   "metadata": {},
   "source": [
    "### Is it possible to detect malicious pages using URL features?\n",
    "teste_Todas"
   ]
  },
  {
   "cell_type": "code",
   "execution_count": 63,
   "metadata": {},
   "outputs": [],
   "source": [
    "import tensorflow"
   ]
  },
  {
   "cell_type": "markdown",
   "metadata": {},
   "source": [
    "__Etapas__:\n",
    "\n",
    "* Análise de Dados\n",
    "\n",
    "* Transformação dos Dados\n",
    "    * Conversão para Números\n",
    "    * Conversão para Binários\n",
    "    \n",
    "* Resultados\n",
    "    * Treinamento e Classificação\n",
    "\n",
    "\n"
   ]
  },
  {
   "cell_type": "markdown",
   "metadata": {},
   "source": [
    "## Códigos base para implementação de AM e de rede neural em Keras"
   ]
  },
  {
   "cell_type": "code",
   "execution_count": 66,
   "metadata": {},
   "outputs": [],
   "source": [
    "import os\n",
    "# os.environ['KMP_DUPLICATE_LIB_OK']='True'\n",
    "import numpy as np\n",
    "import pandas as pd\n",
    "import time\n",
    "import os\n",
    "from sklearn import datasets, svm, metrics\n",
    "from sklearn.datasets import make_classification\n",
    "from sklearn.metrics import mean_squared_error\n",
    "from sklearn.metrics import roc_auc_score as sklearn_roc_auc_score\n",
    "from sklearn.metrics import accuracy_score as sklearn_accuracy_score\n",
    "from sklearn.metrics import confusion_matrix as sklearn_confusion_matrix\n",
    "from sklearn.model_selection import train_test_split\n",
    "from sklearn.metrics import precision_score, recall_score\n",
    "from sklearn.metrics import confusion_matrix\n",
    "from sklearn.model_selection import StratifiedKFold\n",
    "\n",
    "\n",
    "import seaborn as sns\n",
    "import matplotlib.pyplot as plt\n",
    "%matplotlib inline\n",
    "\n"
   ]
  },
  {
   "cell_type": "code",
   "execution_count": 67,
   "metadata": {},
   "outputs": [],
   "source": [
    "from keras import backend as K\n",
    "from keras.layers import Input, Dense, Activation, BatchNormalization, Dropout\n",
    "from keras.models import Model\n",
    "from keras.optimizers import Nadam, SGD,Adam\n",
    "from keras.callbacks import EarlyStopping\n",
    "import seaborn as sns"
   ]
  },
  {
   "cell_type": "markdown",
   "metadata": {},
   "source": [
    "## Analise dos Dados da Base"
   ]
  },
  {
   "cell_type": "markdown",
   "metadata": {},
   "source": [
    "#### A base do _detect malicious pages using URL_ foi utilizada como fonte de informação para que os algoritmos de aprendizadem de máquina e de redes neurais gerem modelos que prevejam se URL é maliciosa ou não.\n",
    "#### Para analisa os dados da base é necessário importá-la."
   ]
  },
  {
   "cell_type": "code",
   "execution_count": 68,
   "metadata": {},
   "outputs": [],
   "source": [
    "base_path='base_URL/testeProWekaTodas.csv'\n",
    "base = pd.read_csv(base_path)"
   ]
  },
  {
   "cell_type": "markdown",
   "metadata": {},
   "source": [
    "### Para mostrar os 5 primeiros registros usamos a função 'head()'"
   ]
  },
  {
   "cell_type": "code",
   "execution_count": 69,
   "metadata": {},
   "outputs": [
    {
     "data": {
      "text/html": [
       "<div>\n",
       "<style scoped>\n",
       "    .dataframe tbody tr th:only-of-type {\n",
       "        vertical-align: middle;\n",
       "    }\n",
       "\n",
       "    .dataframe tbody tr th {\n",
       "        vertical-align: top;\n",
       "    }\n",
       "\n",
       "    .dataframe thead th {\n",
       "        text-align: right;\n",
       "    }\n",
       "</style>\n",
       "<table border=\"1\" class=\"dataframe\">\n",
       "  <thead>\n",
       "    <tr style=\"text-align: right;\">\n",
       "      <th></th>\n",
       "      <th>qt_tok_dom_ponto</th>\n",
       "      <th>qt_tok_dom_hifen</th>\n",
       "      <th>qt_tok_dom_underline</th>\n",
       "      <th>qt_tok_dir_ponto</th>\n",
       "      <th>qt_tok_dir_barra</th>\n",
       "      <th>qt_tok_dir_interrog</th>\n",
       "      <th>qt_tok_dir_igualdade</th>\n",
       "      <th>qt_tok_dir_hifen</th>\n",
       "      <th>qt_tok_dir_underline</th>\n",
       "      <th>qt_tok_dir_arroba</th>\n",
       "      <th>...</th>\n",
       "      <th>mal_phi</th>\n",
       "      <th>presenca_marca</th>\n",
       "      <th>ip_assoc</th>\n",
       "      <th>sn_assoc</th>\n",
       "      <th>data_tempo_ativo</th>\n",
       "      <th>geo_localizacao</th>\n",
       "      <th>rank_google</th>\n",
       "      <th>rank_alexa</th>\n",
       "      <th>rbl_check</th>\n",
       "      <th>classe</th>\n",
       "    </tr>\n",
       "  </thead>\n",
       "  <tbody>\n",
       "    <tr>\n",
       "      <th>0</th>\n",
       "      <td>2</td>\n",
       "      <td>0.0</td>\n",
       "      <td>0</td>\n",
       "      <td>0</td>\n",
       "      <td>0</td>\n",
       "      <td>0</td>\n",
       "      <td>0</td>\n",
       "      <td>0</td>\n",
       "      <td>0</td>\n",
       "      <td>0</td>\n",
       "      <td>...</td>\n",
       "      <td>0</td>\n",
       "      <td>0</td>\n",
       "      <td>1</td>\n",
       "      <td>6</td>\n",
       "      <td>0</td>\n",
       "      <td>AE</td>\n",
       "      <td>6</td>\n",
       "      <td>-1</td>\n",
       "      <td>24</td>\n",
       "      <td>benigna</td>\n",
       "    </tr>\n",
       "    <tr>\n",
       "      <th>1</th>\n",
       "      <td>2</td>\n",
       "      <td>0.0</td>\n",
       "      <td>0</td>\n",
       "      <td>0</td>\n",
       "      <td>0</td>\n",
       "      <td>0</td>\n",
       "      <td>0</td>\n",
       "      <td>0</td>\n",
       "      <td>0</td>\n",
       "      <td>0</td>\n",
       "      <td>...</td>\n",
       "      <td>0</td>\n",
       "      <td>0</td>\n",
       "      <td>1</td>\n",
       "      <td>4</td>\n",
       "      <td>0</td>\n",
       "      <td>AE</td>\n",
       "      <td>5</td>\n",
       "      <td>-1</td>\n",
       "      <td>16</td>\n",
       "      <td>benigna</td>\n",
       "    </tr>\n",
       "    <tr>\n",
       "      <th>2</th>\n",
       "      <td>1</td>\n",
       "      <td>0.0</td>\n",
       "      <td>0</td>\n",
       "      <td>0</td>\n",
       "      <td>0</td>\n",
       "      <td>0</td>\n",
       "      <td>0</td>\n",
       "      <td>0</td>\n",
       "      <td>0</td>\n",
       "      <td>0</td>\n",
       "      <td>...</td>\n",
       "      <td>0</td>\n",
       "      <td>0</td>\n",
       "      <td>1</td>\n",
       "      <td>2</td>\n",
       "      <td>0</td>\n",
       "      <td>AR</td>\n",
       "      <td>3</td>\n",
       "      <td>-1</td>\n",
       "      <td>8</td>\n",
       "      <td>benigna</td>\n",
       "    </tr>\n",
       "    <tr>\n",
       "      <th>3</th>\n",
       "      <td>3</td>\n",
       "      <td>0.0</td>\n",
       "      <td>0</td>\n",
       "      <td>0</td>\n",
       "      <td>0</td>\n",
       "      <td>0</td>\n",
       "      <td>0</td>\n",
       "      <td>0</td>\n",
       "      <td>0</td>\n",
       "      <td>0</td>\n",
       "      <td>...</td>\n",
       "      <td>0</td>\n",
       "      <td>0</td>\n",
       "      <td>1</td>\n",
       "      <td>4</td>\n",
       "      <td>0</td>\n",
       "      <td>AR</td>\n",
       "      <td>3</td>\n",
       "      <td>-1</td>\n",
       "      <td>8</td>\n",
       "      <td>benigna</td>\n",
       "    </tr>\n",
       "    <tr>\n",
       "      <th>4</th>\n",
       "      <td>2</td>\n",
       "      <td>0.0</td>\n",
       "      <td>0</td>\n",
       "      <td>0</td>\n",
       "      <td>0</td>\n",
       "      <td>0</td>\n",
       "      <td>0</td>\n",
       "      <td>0</td>\n",
       "      <td>0</td>\n",
       "      <td>0</td>\n",
       "      <td>...</td>\n",
       "      <td>0</td>\n",
       "      <td>0</td>\n",
       "      <td>1</td>\n",
       "      <td>3</td>\n",
       "      <td>0</td>\n",
       "      <td>AT</td>\n",
       "      <td>2</td>\n",
       "      <td>2334</td>\n",
       "      <td>10</td>\n",
       "      <td>benigna</td>\n",
       "    </tr>\n",
       "  </tbody>\n",
       "</table>\n",
       "<p>5 rows × 57 columns</p>\n",
       "</div>"
      ],
      "text/plain": [
       "   qt_tok_dom_ponto  qt_tok_dom_hifen  qt_tok_dom_underline  qt_tok_dir_ponto  \\\n",
       "0                 2               0.0                     0                 0   \n",
       "1                 2               0.0                     0                 0   \n",
       "2                 1               0.0                     0                 0   \n",
       "3                 3               0.0                     0                 0   \n",
       "4                 2               0.0                     0                 0   \n",
       "\n",
       "   qt_tok_dir_barra  qt_tok_dir_interrog  qt_tok_dir_igualdade  \\\n",
       "0                 0                    0                     0   \n",
       "1                 0                    0                     0   \n",
       "2                 0                    0                     0   \n",
       "3                 0                    0                     0   \n",
       "4                 0                    0                     0   \n",
       "\n",
       "   qt_tok_dir_hifen  qt_tok_dir_underline  qt_tok_dir_arroba  ...  mal_phi  \\\n",
       "0                 0                     0                  0  ...        0   \n",
       "1                 0                     0                  0  ...        0   \n",
       "2                 0                     0                  0  ...        0   \n",
       "3                 0                     0                  0  ...        0   \n",
       "4                 0                     0                  0  ...        0   \n",
       "\n",
       "   presenca_marca  ip_assoc  sn_assoc  data_tempo_ativo  geo_localizacao  \\\n",
       "0               0         1         6                 0               AE   \n",
       "1               0         1         4                 0               AE   \n",
       "2               0         1         2                 0               AR   \n",
       "3               0         1         4                 0               AR   \n",
       "4               0         1         3                 0               AT   \n",
       "\n",
       "   rank_google  rank_alexa  rbl_check   classe  \n",
       "0            6          -1         24  benigna  \n",
       "1            5          -1         16  benigna  \n",
       "2            3          -1          8  benigna  \n",
       "3            3          -1          8  benigna  \n",
       "4            2        2334         10  benigna  \n",
       "\n",
       "[5 rows x 57 columns]"
      ]
     },
     "execution_count": 69,
     "metadata": {},
     "output_type": "execute_result"
    }
   ],
   "source": [
    "base.head()"
   ]
  },
  {
   "cell_type": "code",
   "execution_count": 70,
   "metadata": {},
   "outputs": [
    {
     "data": {
      "text/plain": [
       "Index([u'qt_tok_dom_ponto', u'qt_tok_dom_hifen', u'qt_tok_dom_underline',\n",
       "       u'qt_tok_dir_ponto', u'qt_tok_dir_barra', u'qt_tok_dir_interrog',\n",
       "       u'qt_tok_dir_igualdade', u'qt_tok_dir_hifen', u'qt_tok_dir_underline',\n",
       "       u'qt_tok_dir_arroba', u'qt_tok_dir_exclam', u'at_tok_dir_til',\n",
       "       u'qt_tok_arq_ponto', u'qt_tok_arq_interrog', u'qt_tok_arq_igualdade',\n",
       "       u'qt_tok_arq_hifen', u'qt_tok_arq_underline', u'qt_tok_arq_arroba',\n",
       "       u'qt_tok_arq_exclam', u'at_tok_arq_til', u'qt_tok_par_ponto',\n",
       "       u'qt_tok_par_barra', u'qt_tok_par_interrog', u'qt_tok_par_igualdade',\n",
       "       u'qt_tok_par_hifen', u'qt_tok_par_underline', u'qt_tok_par_arroba',\n",
       "       u'qt_tok_par_ecomerc', u'qt_tok_par_exclam', u'at_tok_par_til',\n",
       "       u'qt_params', u'qt_tok_url_ponto', u'qt_tok_url_barra',\n",
       "       u'qt_tok_url_interrog', u'qt_tok_url_igualdade', u'qt_tok_url_hifen',\n",
       "       u'qt_tok_url_underline', u'qt_tok_url_arroba', u'qt_tok_url_ecomerc',\n",
       "       u'qt_tok_url_exclam', u'at_tok_url_til', u'pres_tld_arg',\n",
       "       u'comp_dominio', u'comp_diretorio', u'comp_arquivo', u'comp_params',\n",
       "       u'comp_url', u'mal_phi', u'presenca_marca', u'ip_assoc', u'sn_assoc',\n",
       "       u'data_tempo_ativo', u'geo_localizacao', u'rank_google', u'rank_alexa',\n",
       "       u'rbl_check'],\n",
       "      dtype='object')"
      ]
     },
     "execution_count": 70,
     "metadata": {},
     "output_type": "execute_result"
    }
   ],
   "source": [
    "colunas = base.drop(['classe'], axis=1).columns\n",
    "colunas"
   ]
  },
  {
   "cell_type": "markdown",
   "metadata": {},
   "source": [
    "### Abaixo seguem os histogramas dos atributos númericos"
   ]
  },
  {
   "cell_type": "code",
   "execution_count": 71,
   "metadata": {},
   "outputs": [
    {
     "data": {
      "image/png": "[encoded data removed]",
      "text/plain": [
       "<Figure size 2160x1800 with 56 Axes>"
      ]
     },
     "metadata": {
      "needs_background": "light"
     },
     "output_type": "display_data"
    }
   ],
   "source": [
    "base.hist(bins=50, figsize=(30,25))\n",
    "plt.show()"
   ]
  },
  {
   "cell_type": "markdown",
   "metadata": {},
   "source": [
    "## Transformação dos Dados"
   ]
  },
  {
   "cell_type": "markdown",
   "metadata": {},
   "source": [
    "### Conversão para binários"
   ]
  },
  {
   "cell_type": "code",
   "execution_count": 72,
   "metadata": {},
   "outputs": [],
   "source": [
    "for c in colunas:\n",
    "    dummies = pd.get_dummies(base[c], prefix = c)\n",
    "    base = base.drop(c, axis = 1).join(dummies)"
   ]
  },
  {
   "cell_type": "code",
   "execution_count": 73,
   "metadata": {},
   "outputs": [
    {
     "data": {
      "text/html": [
       "<div>\n",
       "<style scoped>\n",
       "    .dataframe tbody tr th:only-of-type {\n",
       "        vertical-align: middle;\n",
       "    }\n",
       "\n",
       "    .dataframe tbody tr th {\n",
       "        vertical-align: top;\n",
       "    }\n",
       "\n",
       "    .dataframe thead th {\n",
       "        text-align: right;\n",
       "    }\n",
       "</style>\n",
       "<table border=\"1\" class=\"dataframe\">\n",
       "  <thead>\n",
       "    <tr style=\"text-align: right;\">\n",
       "      <th></th>\n",
       "      <th>classe</th>\n",
       "      <th>qt_tok_dom_ponto_0</th>\n",
       "      <th>qt_tok_dom_ponto_1</th>\n",
       "      <th>qt_tok_dom_ponto_2</th>\n",
       "      <th>qt_tok_dom_ponto_3</th>\n",
       "      <th>qt_tok_dom_ponto_4</th>\n",
       "      <th>qt_tok_dom_ponto_5</th>\n",
       "      <th>qt_tok_dom_ponto_6</th>\n",
       "      <th>qt_tok_dom_ponto_7</th>\n",
       "      <th>qt_tok_dom_ponto_8</th>\n",
       "      <th>...</th>\n",
       "      <th>rbl_check_89</th>\n",
       "      <th>rbl_check_90</th>\n",
       "      <th>rbl_check_92</th>\n",
       "      <th>rbl_check_103</th>\n",
       "      <th>rbl_check_104</th>\n",
       "      <th>rbl_check_105</th>\n",
       "      <th>rbl_check_111</th>\n",
       "      <th>rbl_check_123</th>\n",
       "      <th>rbl_check_138</th>\n",
       "      <th>rbl_check_170</th>\n",
       "    </tr>\n",
       "  </thead>\n",
       "  <tbody>\n",
       "    <tr>\n",
       "      <th>0</th>\n",
       "      <td>benigna</td>\n",
       "      <td>0</td>\n",
       "      <td>0</td>\n",
       "      <td>1</td>\n",
       "      <td>0</td>\n",
       "      <td>0</td>\n",
       "      <td>0</td>\n",
       "      <td>0</td>\n",
       "      <td>0</td>\n",
       "      <td>0</td>\n",
       "      <td>...</td>\n",
       "      <td>0</td>\n",
       "      <td>0</td>\n",
       "      <td>0</td>\n",
       "      <td>0</td>\n",
       "      <td>0</td>\n",
       "      <td>0</td>\n",
       "      <td>0</td>\n",
       "      <td>0</td>\n",
       "      <td>0</td>\n",
       "      <td>0</td>\n",
       "    </tr>\n",
       "    <tr>\n",
       "      <th>1</th>\n",
       "      <td>benigna</td>\n",
       "      <td>0</td>\n",
       "      <td>0</td>\n",
       "      <td>1</td>\n",
       "      <td>0</td>\n",
       "      <td>0</td>\n",
       "      <td>0</td>\n",
       "      <td>0</td>\n",
       "      <td>0</td>\n",
       "      <td>0</td>\n",
       "      <td>...</td>\n",
       "      <td>0</td>\n",
       "      <td>0</td>\n",
       "      <td>0</td>\n",
       "      <td>0</td>\n",
       "      <td>0</td>\n",
       "      <td>0</td>\n",
       "      <td>0</td>\n",
       "      <td>0</td>\n",
       "      <td>0</td>\n",
       "      <td>0</td>\n",
       "    </tr>\n",
       "    <tr>\n",
       "      <th>2</th>\n",
       "      <td>benigna</td>\n",
       "      <td>0</td>\n",
       "      <td>1</td>\n",
       "      <td>0</td>\n",
       "      <td>0</td>\n",
       "      <td>0</td>\n",
       "      <td>0</td>\n",
       "      <td>0</td>\n",
       "      <td>0</td>\n",
       "      <td>0</td>\n",
       "      <td>...</td>\n",
       "      <td>0</td>\n",
       "      <td>0</td>\n",
       "      <td>0</td>\n",
       "      <td>0</td>\n",
       "      <td>0</td>\n",
       "      <td>0</td>\n",
       "      <td>0</td>\n",
       "      <td>0</td>\n",
       "      <td>0</td>\n",
       "      <td>0</td>\n",
       "    </tr>\n",
       "  </tbody>\n",
       "</table>\n",
       "<p>3 rows × 2714 columns</p>\n",
       "</div>"
      ],
      "text/plain": [
       "    classe  qt_tok_dom_ponto_0  qt_tok_dom_ponto_1  qt_tok_dom_ponto_2  \\\n",
       "0  benigna                   0                   0                   1   \n",
       "1  benigna                   0                   0                   1   \n",
       "2  benigna                   0                   1                   0   \n",
       "\n",
       "   qt_tok_dom_ponto_3  qt_tok_dom_ponto_4  qt_tok_dom_ponto_5  \\\n",
       "0                   0                   0                   0   \n",
       "1                   0                   0                   0   \n",
       "2                   0                   0                   0   \n",
       "\n",
       "   qt_tok_dom_ponto_6  qt_tok_dom_ponto_7  qt_tok_dom_ponto_8  ...  \\\n",
       "0                   0                   0                   0  ...   \n",
       "1                   0                   0                   0  ...   \n",
       "2                   0                   0                   0  ...   \n",
       "\n",
       "   rbl_check_89  rbl_check_90  rbl_check_92  rbl_check_103  rbl_check_104  \\\n",
       "0             0             0             0              0              0   \n",
       "1             0             0             0              0              0   \n",
       "2             0             0             0              0              0   \n",
       "\n",
       "   rbl_check_105  rbl_check_111  rbl_check_123  rbl_check_138  rbl_check_170  \n",
       "0              0              0              0              0              0  \n",
       "1              0              0              0              0              0  \n",
       "2              0              0              0              0              0  \n",
       "\n",
       "[3 rows x 2714 columns]"
      ]
     },
     "execution_count": 73,
     "metadata": {},
     "output_type": "execute_result"
    }
   ],
   "source": [
    "base.head(3)"
   ]
  },
  {
   "cell_type": "markdown",
   "metadata": {},
   "source": [
    "A função 'get_dummies' transforma os campos em atributos binários. Logo, podemos incorporar esses novos campos ao dataframe"
   ]
  },
  {
   "cell_type": "code",
   "execution_count": 74,
   "metadata": {},
   "outputs": [],
   "source": [
    "base['classe'] = base['classe'].astype('category').cat.codes"
   ]
  },
  {
   "cell_type": "markdown",
   "metadata": {},
   "source": [
    "transforma a class em número"
   ]
  },
  {
   "cell_type": "code",
   "execution_count": 75,
   "metadata": {},
   "outputs": [
    {
     "data": {
      "text/html": [
       "<div>\n",
       "<style scoped>\n",
       "    .dataframe tbody tr th:only-of-type {\n",
       "        vertical-align: middle;\n",
       "    }\n",
       "\n",
       "    .dataframe tbody tr th {\n",
       "        vertical-align: top;\n",
       "    }\n",
       "\n",
       "    .dataframe thead th {\n",
       "        text-align: right;\n",
       "    }\n",
       "</style>\n",
       "<table border=\"1\" class=\"dataframe\">\n",
       "  <thead>\n",
       "    <tr style=\"text-align: right;\">\n",
       "      <th></th>\n",
       "      <th>classe</th>\n",
       "      <th>qt_tok_dom_ponto_0</th>\n",
       "      <th>qt_tok_dom_ponto_1</th>\n",
       "      <th>qt_tok_dom_ponto_2</th>\n",
       "      <th>qt_tok_dom_ponto_3</th>\n",
       "      <th>qt_tok_dom_ponto_4</th>\n",
       "      <th>qt_tok_dom_ponto_5</th>\n",
       "      <th>qt_tok_dom_ponto_6</th>\n",
       "      <th>qt_tok_dom_ponto_7</th>\n",
       "      <th>qt_tok_dom_ponto_8</th>\n",
       "      <th>...</th>\n",
       "      <th>rbl_check_89</th>\n",
       "      <th>rbl_check_90</th>\n",
       "      <th>rbl_check_92</th>\n",
       "      <th>rbl_check_103</th>\n",
       "      <th>rbl_check_104</th>\n",
       "      <th>rbl_check_105</th>\n",
       "      <th>rbl_check_111</th>\n",
       "      <th>rbl_check_123</th>\n",
       "      <th>rbl_check_138</th>\n",
       "      <th>rbl_check_170</th>\n",
       "    </tr>\n",
       "  </thead>\n",
       "  <tbody>\n",
       "    <tr>\n",
       "      <th>0</th>\n",
       "      <td>0</td>\n",
       "      <td>0</td>\n",
       "      <td>0</td>\n",
       "      <td>1</td>\n",
       "      <td>0</td>\n",
       "      <td>0</td>\n",
       "      <td>0</td>\n",
       "      <td>0</td>\n",
       "      <td>0</td>\n",
       "      <td>0</td>\n",
       "      <td>...</td>\n",
       "      <td>0</td>\n",
       "      <td>0</td>\n",
       "      <td>0</td>\n",
       "      <td>0</td>\n",
       "      <td>0</td>\n",
       "      <td>0</td>\n",
       "      <td>0</td>\n",
       "      <td>0</td>\n",
       "      <td>0</td>\n",
       "      <td>0</td>\n",
       "    </tr>\n",
       "    <tr>\n",
       "      <th>1</th>\n",
       "      <td>0</td>\n",
       "      <td>0</td>\n",
       "      <td>0</td>\n",
       "      <td>1</td>\n",
       "      <td>0</td>\n",
       "      <td>0</td>\n",
       "      <td>0</td>\n",
       "      <td>0</td>\n",
       "      <td>0</td>\n",
       "      <td>0</td>\n",
       "      <td>...</td>\n",
       "      <td>0</td>\n",
       "      <td>0</td>\n",
       "      <td>0</td>\n",
       "      <td>0</td>\n",
       "      <td>0</td>\n",
       "      <td>0</td>\n",
       "      <td>0</td>\n",
       "      <td>0</td>\n",
       "      <td>0</td>\n",
       "      <td>0</td>\n",
       "    </tr>\n",
       "    <tr>\n",
       "      <th>2</th>\n",
       "      <td>0</td>\n",
       "      <td>0</td>\n",
       "      <td>1</td>\n",
       "      <td>0</td>\n",
       "      <td>0</td>\n",
       "      <td>0</td>\n",
       "      <td>0</td>\n",
       "      <td>0</td>\n",
       "      <td>0</td>\n",
       "      <td>0</td>\n",
       "      <td>...</td>\n",
       "      <td>0</td>\n",
       "      <td>0</td>\n",
       "      <td>0</td>\n",
       "      <td>0</td>\n",
       "      <td>0</td>\n",
       "      <td>0</td>\n",
       "      <td>0</td>\n",
       "      <td>0</td>\n",
       "      <td>0</td>\n",
       "      <td>0</td>\n",
       "    </tr>\n",
       "    <tr>\n",
       "      <th>3</th>\n",
       "      <td>0</td>\n",
       "      <td>0</td>\n",
       "      <td>0</td>\n",
       "      <td>0</td>\n",
       "      <td>1</td>\n",
       "      <td>0</td>\n",
       "      <td>0</td>\n",
       "      <td>0</td>\n",
       "      <td>0</td>\n",
       "      <td>0</td>\n",
       "      <td>...</td>\n",
       "      <td>0</td>\n",
       "      <td>0</td>\n",
       "      <td>0</td>\n",
       "      <td>0</td>\n",
       "      <td>0</td>\n",
       "      <td>0</td>\n",
       "      <td>0</td>\n",
       "      <td>0</td>\n",
       "      <td>0</td>\n",
       "      <td>0</td>\n",
       "    </tr>\n",
       "    <tr>\n",
       "      <th>4</th>\n",
       "      <td>0</td>\n",
       "      <td>0</td>\n",
       "      <td>0</td>\n",
       "      <td>1</td>\n",
       "      <td>0</td>\n",
       "      <td>0</td>\n",
       "      <td>0</td>\n",
       "      <td>0</td>\n",
       "      <td>0</td>\n",
       "      <td>0</td>\n",
       "      <td>...</td>\n",
       "      <td>0</td>\n",
       "      <td>0</td>\n",
       "      <td>0</td>\n",
       "      <td>0</td>\n",
       "      <td>0</td>\n",
       "      <td>0</td>\n",
       "      <td>0</td>\n",
       "      <td>0</td>\n",
       "      <td>0</td>\n",
       "      <td>0</td>\n",
       "    </tr>\n",
       "  </tbody>\n",
       "</table>\n",
       "<p>5 rows × 2714 columns</p>\n",
       "</div>"
      ],
      "text/plain": [
       "   classe  qt_tok_dom_ponto_0  qt_tok_dom_ponto_1  qt_tok_dom_ponto_2  \\\n",
       "0       0                   0                   0                   1   \n",
       "1       0                   0                   0                   1   \n",
       "2       0                   0                   1                   0   \n",
       "3       0                   0                   0                   0   \n",
       "4       0                   0                   0                   1   \n",
       "\n",
       "   qt_tok_dom_ponto_3  qt_tok_dom_ponto_4  qt_tok_dom_ponto_5  \\\n",
       "0                   0                   0                   0   \n",
       "1                   0                   0                   0   \n",
       "2                   0                   0                   0   \n",
       "3                   1                   0                   0   \n",
       "4                   0                   0                   0   \n",
       "\n",
       "   qt_tok_dom_ponto_6  qt_tok_dom_ponto_7  qt_tok_dom_ponto_8  ...  \\\n",
       "0                   0                   0                   0  ...   \n",
       "1                   0                   0                   0  ...   \n",
       "2                   0                   0                   0  ...   \n",
       "3                   0                   0                   0  ...   \n",
       "4                   0                   0                   0  ...   \n",
       "\n",
       "   rbl_check_89  rbl_check_90  rbl_check_92  rbl_check_103  rbl_check_104  \\\n",
       "0             0             0             0              0              0   \n",
       "1             0             0             0              0              0   \n",
       "2             0             0             0              0              0   \n",
       "3             0             0             0              0              0   \n",
       "4             0             0             0              0              0   \n",
       "\n",
       "   rbl_check_105  rbl_check_111  rbl_check_123  rbl_check_138  rbl_check_170  \n",
       "0              0              0              0              0              0  \n",
       "1              0              0              0              0              0  \n",
       "2              0              0              0              0              0  \n",
       "3              0              0              0              0              0  \n",
       "4              0              0              0              0              0  \n",
       "\n",
       "[5 rows x 2714 columns]"
      ]
     },
     "execution_count": 75,
     "metadata": {},
     "output_type": "execute_result"
    }
   ],
   "source": [
    "base.head()"
   ]
  },
  {
   "cell_type": "code",
   "execution_count": 76,
   "metadata": {},
   "outputs": [
    {
     "data": {
      "text/plain": [
       "1    10046\n",
       "0    10046\n",
       "Name: classe, dtype: int64"
      ]
     },
     "execution_count": 76,
     "metadata": {},
     "output_type": "execute_result"
    }
   ],
   "source": [
    "base.classe.value_counts()"
   ]
  },
  {
   "cell_type": "markdown",
   "metadata": {},
   "source": [
    "Exibe a quantidade de linhas e colunas (atributos)"
   ]
  },
  {
   "cell_type": "code",
   "execution_count": 77,
   "metadata": {},
   "outputs": [],
   "source": [
    "y = base['classe'].values\n",
    "X = base.drop(\"classe\", axis=1).values"
   ]
  },
  {
   "cell_type": "code",
   "execution_count": 78,
   "metadata": {},
   "outputs": [
    {
     "data": {
      "text/plain": [
       "array([0, 0, 0, ..., 1, 1, 1], dtype=int8)"
      ]
     },
     "execution_count": 78,
     "metadata": {},
     "output_type": "execute_result"
    }
   ],
   "source": [
    "y"
   ]
  },
  {
   "cell_type": "code",
   "execution_count": 79,
   "metadata": {},
   "outputs": [
    {
     "data": {
      "text/plain": [
       "(20092, 2713)"
      ]
     },
     "execution_count": 79,
     "metadata": {},
     "output_type": "execute_result"
    }
   ],
   "source": [
    "X.shape"
   ]
  },
  {
   "cell_type": "code",
   "execution_count": 80,
   "metadata": {},
   "outputs": [
    {
     "data": {
      "text/plain": [
       "array([[0, 0, 1, ..., 0, 0, 0]], dtype=uint8)"
      ]
     },
     "execution_count": 80,
     "metadata": {},
     "output_type": "execute_result"
    }
   ],
   "source": [
    "X[:1]"
   ]
  },
  {
   "cell_type": "code",
   "execution_count": 81,
   "metadata": {},
   "outputs": [
    {
     "data": {
      "text/plain": [
       "(20092,)"
      ]
     },
     "execution_count": 81,
     "metadata": {},
     "output_type": "execute_result"
    }
   ],
   "source": [
    "y.shape"
   ]
  },
  {
   "cell_type": "code",
   "execution_count": 82,
   "metadata": {},
   "outputs": [
    {
     "data": {
      "text/plain": [
       "array([0], dtype=int8)"
      ]
     },
     "execution_count": 82,
     "metadata": {},
     "output_type": "execute_result"
    }
   ],
   "source": [
    "y[:1]"
   ]
  },
  {
   "cell_type": "markdown",
   "metadata": {},
   "source": [
    "## Resultados"
   ]
  },
  {
   "cell_type": "markdown",
   "metadata": {},
   "source": [
    "Os experimentos foram executados para cada algoritmos: Random Forest, SVM, Naive Bayes, Decision Trees, Nearest Neighbors, Rede Neural Simples, Rede Neural com normalização em Batch, Rede Neural com Dropout e Rede Neural com normalização em Batch e Dropout. Foi utilizado Kfolds k=10 dividir a base em 10 subconjuntos (treinamento e teste).\n",
    "\n",
    "Validação cruzada K-Folds\n",
    "Fornece índices de treino / teste para dividir os dados nos conjuntos de treinamento / teste. Dividir o conjunto de dados em k dobras consecutivas (sem embaralhar por padrão). Cada dobra é então usada uma vez como validação, enquanto as dobras remanescentes k - 1 formam o conjunto de treino.\n",
    "\n",
    "No aprendizado de máquina, geralmente dividimos o conjunto de dados em conjunto de dados de treinamento, conjunto de dados de validação e conjunto de dados de teste."
   ]
  },
  {
   "cell_type": "code",
   "execution_count": 83,
   "metadata": {},
   "outputs": [
    {
     "name": "stdout",
     "output_type": "stream",
     "text": [
      "StratifiedKFold(n_splits=10, random_state=None, shuffle=False)\n"
     ]
    }
   ],
   "source": [
    "kf = StratifiedKFold(n_splits=10)\n",
    "kf.get_n_splits(X,y)\n",
    "print(kf)\n",
    "#KFold(n_splits=10, random_state=None, shuffle=False)\n",
    "#for train_index, test_index in kf.split(X):\n",
    "#    X_train, X_test = X[train_index], X[test_index]\n",
    "#    y_train, y_test = y[train_index], y[test_index]"
   ]
  },
  {
   "cell_type": "markdown",
   "metadata": {},
   "source": [
    "# Algoritmos de Aprendizagem de Máquina"
   ]
  },
  {
   "cell_type": "markdown",
   "metadata": {},
   "source": [
    "## Random Forest"
   ]
  },
  {
   "cell_type": "code",
   "execution_count": null,
   "metadata": {},
   "outputs": [],
   "source": [
    "from sklearn.ensemble import RandomForestClassifier"
   ]
  },
  {
   "cell_type": "code",
   "execution_count": null,
   "metadata": {},
   "outputs": [],
   "source": [
    "score_RF = []\n",
    "mc = []\n",
    "prec = []\n",
    "recall = []\n",
    "n_estimators = 10\n",
    "t1=time.time()\n",
    "for train_index, test_index in kf.split(X,y): \n",
    "    clf_RF = RandomForestClassifier(n_estimators=n_estimators, random_state=50)\n",
    "    clf_RF.fit(X[train_index], y[train_index])\n",
    "    score_RF.append(clf_RF.score(X[test_index], y[test_index]))\n",
    "    pred = clf_RF.predict(X[test_index])\n",
    "    prec.append(precision_score(y[test_index],pred, average='weighted'))\n",
    "    recall.append(recall_score(y[test_index],pred, average='weighted'))\n",
    "    y_pred = clf_RF.predict(X[test_index])\n",
    "    mc.append(confusion_matrix(y[test_index], y_pred))\n",
    "\n",
    "labels = clf_RF\n",
    "t2=time.time()\n",
    "\n",
    "temp = (t2-t1) # tempo (s)\n",
    "scores_RF = np.array(score_RF).mean() # acurácia\n",
    "recall = np.array(recall).mean()\n",
    "prec = np.array(prec).mean()\n",
    "\n",
    "\n",
    "labels = {'tempo':temp, 'scores_RF':scores_RF, 'recall':recall, 'precisao':prec, 'mc':mc, 'n_estimators':n_estimators}\n",
    "results = 'results'\n",
    "with open(os.path.join(results, 'Random_Forest.txt'), 'w') as fp:\n",
    "        for i in labels:\n",
    "            fp.write('{}:{}\\n'.format(i,labels[i]))"
   ]
  },
  {
   "cell_type": "code",
   "execution_count": null,
   "metadata": {},
   "outputs": [],
   "source": [
    "labels"
   ]
  },
  {
   "cell_type": "code",
   "execution_count": null,
   "metadata": {},
   "outputs": [],
   "source": [
    "print(t2-t1) #tempo(s)"
   ]
  },
  {
   "cell_type": "markdown",
   "metadata": {},
   "source": [
    "Accuracy"
   ]
  },
  {
   "cell_type": "code",
   "execution_count": null,
   "metadata": {},
   "outputs": [],
   "source": [
    "np.array(score_RF).mean()"
   ]
  },
  {
   "cell_type": "code",
   "execution_count": null,
   "metadata": {},
   "outputs": [],
   "source": [
    "score_RF"
   ]
  },
  {
   "cell_type": "markdown",
   "metadata": {},
   "source": [
    "Confusion matrix"
   ]
  },
  {
   "cell_type": "code",
   "execution_count": null,
   "metadata": {},
   "outputs": [],
   "source": [
    "for i in mc:\n",
    "    print(i)"
   ]
  },
  {
   "cell_type": "code",
   "execution_count": null,
   "metadata": {},
   "outputs": [],
   "source": [
    "type(y_pred)"
   ]
  },
  {
   "cell_type": "markdown",
   "metadata": {},
   "source": [
    "Rate Recall"
   ]
  },
  {
   "cell_type": "code",
   "execution_count": null,
   "metadata": {},
   "outputs": [],
   "source": [
    "np.array(recall).mean()"
   ]
  },
  {
   "cell_type": "markdown",
   "metadata": {},
   "source": [
    "Rate Precision"
   ]
  },
  {
   "cell_type": "code",
   "execution_count": null,
   "metadata": {},
   "outputs": [],
   "source": [
    "np.array(prec).mean()"
   ]
  },
  {
   "cell_type": "markdown",
   "metadata": {},
   "source": [
    "Feature Importance"
   ]
  },
  {
   "cell_type": "code",
   "execution_count": null,
   "metadata": {},
   "outputs": [],
   "source": [
    "for name, importance in zip(base.drop(\"classe\", axis=1).columns, clf_RF.feature_importances_):\n",
    "    print(name,importance)"
   ]
  },
  {
   "cell_type": "markdown",
   "metadata": {},
   "source": [
    "Exibe as importâncias dos atributos na base"
   ]
  },
  {
   "cell_type": "markdown",
   "metadata": {},
   "source": [
    "## SVM"
   ]
  },
  {
   "cell_type": "code",
   "execution_count": 84,
   "metadata": {},
   "outputs": [],
   "source": [
    "from sklearn import svm"
   ]
  },
  {
   "cell_type": "code",
   "execution_count": null,
   "metadata": {},
   "outputs": [
    {
     "name": "stderr",
     "output_type": "stream",
     "text": [
      "/usr/local/lib/python2.7/dist-packages/sklearn/svm/base.py:196: FutureWarning: The default value of gamma will change from 'auto' to 'scale' in version 0.22 to account better for unscaled features. Set gamma explicitly to 'auto' or 'scale' to avoid this warning.\n",
      "  \"avoid this warning.\", FutureWarning)\n"
     ]
    }
   ],
   "source": [
    "score_SVM = []\n",
    "mc = []\n",
    "prec = []\n",
    "recall = []\n",
    "C=8.0\n",
    "t1=time.time()\n",
    "for train_index, test_index in kf.split(X,y): \n",
    "    clf_SVM = svm.SVC(C=C, random_state=42)\n",
    "    clf_SVM.fit(X[train_index], y[train_index])\n",
    "    score_SVM.append(clf_SVM.score(X[test_index], y[test_index]))\n",
    "    pred = clf_SVM.predict(X[test_index])\n",
    "    prec.append(precision_score(y[test_index],pred, average='weighted'))\n",
    "    recall.append(recall_score(y[test_index],pred, average='weighted'))\n",
    "    y_pred = clf_SVM.predict(X[test_index])\n",
    "    mc.append(confusion_matrix(y[test_index], y_pred))\n",
    "\n",
    "labels = clf_SVM\n",
    "t2=time.time()\n",
    "\n",
    "temp = (t2-t1) # tempo (s)\n",
    "scores_SVM = np.array(score_SVM).mean() # acurácia\n",
    "recall = np.array(recall).mean()\n",
    "prec = np.array(prec).mean()\n",
    "\n",
    "\n",
    "labels = {'tempo':temp, 'scores_SVM':scores_SVM, 'recall':recall, 'precisao':prec, 'mc':mc, 'C':C}\n",
    "results = 'results'\n",
    "with open(os.path.join(results, 'SVM_8.txt'), 'w') as fp:\n",
    "        for i in labels:\n",
    "            fp.write('{}:{}\\n'.format(i,labels[i]))"
   ]
  },
  {
   "cell_type": "code",
   "execution_count": null,
   "metadata": {},
   "outputs": [],
   "source": [
    "labels"
   ]
  },
  {
   "cell_type": "code",
   "execution_count": null,
   "metadata": {},
   "outputs": [],
   "source": [
    "print(t2-t1) #tempo(s)"
   ]
  },
  {
   "cell_type": "code",
   "execution_count": null,
   "metadata": {},
   "outputs": [],
   "source": [
    "clf_SVM = svm.SVC()\n",
    "clf_SVM"
   ]
  },
  {
   "cell_type": "markdown",
   "metadata": {},
   "source": [
    "Accuracy"
   ]
  },
  {
   "cell_type": "code",
   "execution_count": null,
   "metadata": {},
   "outputs": [],
   "source": [
    "np.array(score_SVM).mean()"
   ]
  },
  {
   "cell_type": "code",
   "execution_count": null,
   "metadata": {},
   "outputs": [],
   "source": [
    "score_SVM"
   ]
  },
  {
   "cell_type": "markdown",
   "metadata": {},
   "source": [
    "Confusion matrix"
   ]
  },
  {
   "cell_type": "code",
   "execution_count": null,
   "metadata": {},
   "outputs": [],
   "source": [
    "for i in mc:\n",
    "    print(i)"
   ]
  },
  {
   "cell_type": "code",
   "execution_count": null,
   "metadata": {},
   "outputs": [],
   "source": [
    "type(y_pred)"
   ]
  },
  {
   "cell_type": "markdown",
   "metadata": {},
   "source": [
    "Rate Recall"
   ]
  },
  {
   "cell_type": "code",
   "execution_count": null,
   "metadata": {},
   "outputs": [],
   "source": [
    "np.array(recall).mean()"
   ]
  },
  {
   "cell_type": "markdown",
   "metadata": {},
   "source": [
    "Rate Precision"
   ]
  },
  {
   "cell_type": "code",
   "execution_count": null,
   "metadata": {},
   "outputs": [],
   "source": [
    "np.array(prec).mean()"
   ]
  },
  {
   "cell_type": "code",
   "execution_count": null,
   "metadata": {},
   "outputs": [],
   "source": [
    "score_SVM, mc, recall, prec"
   ]
  },
  {
   "cell_type": "markdown",
   "metadata": {},
   "source": [
    "## Naive Bayes"
   ]
  },
  {
   "cell_type": "code",
   "execution_count": null,
   "metadata": {},
   "outputs": [],
   "source": [
    "from sklearn.naive_bayes import GaussianNB"
   ]
  },
  {
   "cell_type": "code",
   "execution_count": null,
   "metadata": {},
   "outputs": [],
   "source": [
    "score_NB = []\n",
    "mc = []\n",
    "prec = []\n",
    "recall = []\n",
    "t1=time.time()\n",
    "for train_index, test_index in kf.split(X,y): \n",
    "    clf_gnb = GaussianNB()\n",
    "    clf_gnb.fit(X[train_index], y[train_index])\n",
    "    score_NB.append(clf_gnb.score(X[test_index], y[test_index]))\n",
    "    pred = clf_gnb.predict(X[test_index])\n",
    "    prec.append(precision_score(y[test_index],pred, average='weighted'))\n",
    "    recall.append(recall_score(y[test_index],pred, average='weighted'))\n",
    "    y_pred = clf_gnb.predict(X[test_index])\n",
    "    mc.append(confusion_matrix(y[test_index], y_pred))\n",
    "    \n",
    "\n",
    "labels = clf_gnb\n",
    "t2=time.time()\n",
    "\n",
    "temp = (t2-t1) # tempo (s)\n",
    "scores_NB = np.array(score_NB).mean() # acurácia\n",
    "recall = np.array(recall).mean()\n",
    "prec = np.array(prec).mean()\n",
    "\n",
    "\n",
    "labels = {'tempo':temp, 'scores_NB':scores_NB, 'recall':recall, 'precisao':prec, 'mc':mc}\n",
    "results = 'results'\n",
    "with open(os.path.join(results, 'Naive_Bayes.txt'), 'w') as fp:\n",
    "        for i in labels:\n",
    "            fp.write('{}:{}\\n'.format(i,labels[i]))\n",
    "            "
   ]
  },
  {
   "cell_type": "code",
   "execution_count": null,
   "metadata": {},
   "outputs": [],
   "source": [
    "clf_gnb = GaussianNB()\n",
    "clf_gnb"
   ]
  },
  {
   "cell_type": "code",
   "execution_count": null,
   "metadata": {},
   "outputs": [],
   "source": [
    "print(t2-t1) #tempo (s)"
   ]
  },
  {
   "cell_type": "markdown",
   "metadata": {},
   "source": [
    "Accuracy"
   ]
  },
  {
   "cell_type": "code",
   "execution_count": null,
   "metadata": {},
   "outputs": [],
   "source": [
    "np.array(score_NB).mean()"
   ]
  },
  {
   "cell_type": "code",
   "execution_count": null,
   "metadata": {},
   "outputs": [],
   "source": [
    "score_NB"
   ]
  },
  {
   "cell_type": "markdown",
   "metadata": {},
   "source": [
    "Confusion Matrix"
   ]
  },
  {
   "cell_type": "code",
   "execution_count": null,
   "metadata": {},
   "outputs": [],
   "source": [
    "for i in mc:\n",
    "    print(i)"
   ]
  },
  {
   "cell_type": "code",
   "execution_count": null,
   "metadata": {},
   "outputs": [],
   "source": [
    "type(y_pred)"
   ]
  },
  {
   "cell_type": "markdown",
   "metadata": {},
   "source": [
    "Rate Recall"
   ]
  },
  {
   "cell_type": "code",
   "execution_count": null,
   "metadata": {},
   "outputs": [],
   "source": [
    "np.array(recall).mean()"
   ]
  },
  {
   "cell_type": "markdown",
   "metadata": {},
   "source": [
    "Rate Precision"
   ]
  },
  {
   "cell_type": "code",
   "execution_count": null,
   "metadata": {},
   "outputs": [],
   "source": [
    "np.array(prec).mean()"
   ]
  },
  {
   "cell_type": "code",
   "execution_count": null,
   "metadata": {},
   "outputs": [],
   "source": [
    "#results_NB = 'results_NB'\n",
    "#with open(os.path.join(results_NB, 'Naive_Bayes.txt.txt'), 'w') as fp:\n",
    " #       for i in range(len(labels)):\n",
    "  #          fp.write('{}\\n'.format(labels[i]))"
   ]
  },
  {
   "cell_type": "markdown",
   "metadata": {},
   "source": [
    "## Decision Trees"
   ]
  },
  {
   "cell_type": "code",
   "execution_count": null,
   "metadata": {},
   "outputs": [],
   "source": [
    "from sklearn import tree"
   ]
  },
  {
   "cell_type": "code",
   "execution_count": null,
   "metadata": {},
   "outputs": [],
   "source": [
    "score_DT = []\n",
    "mc = []\n",
    "prec = []\n",
    "recall = []\n",
    "min_samples_split=25\n",
    "t1=time.time()\n",
    "\n",
    "for train_index, test_index in kf.split(X,y):\n",
    "    clf_dt = tree.DecisionTreeClassifier(min_samples_split=min_samples_split, random_state=42)\n",
    "    clf_dt.fit(X[train_index], y[train_index])\n",
    "    score_DT.append(clf_dt.score(X[test_index], y[test_index]))\n",
    "    pred = clf_dt.predict(X[test_index])\n",
    "    prec.append(precision_score(y[test_index],pred, average='weighted'))\n",
    "    recall.append(recall_score(y[test_index],pred, average='weighted'))\n",
    "    y_pred = clf_dt.predict(X[test_index])\n",
    "    mc.append(confusion_matrix(y[test_index], y_pred))\n",
    "\n",
    "\n",
    "labels = clf_dt\n",
    "t2=time.time()\n",
    "\n",
    "temp = (t2-t1) # tempo (s)\n",
    "scores_DT = np.array(score_DT).mean() # acurácia\n",
    "recall = np.array(recall).mean()\n",
    "prec = np.array(prec).mean()\n",
    "\n",
    "\n",
    "labels = {'tempo':temp, 'scores_DT':scores_DT, 'recall':recall, 'precisao':prec, 'mc':mc, 'min_samples_split':min_samples_split}\n",
    "results = 'results'\n",
    "with open(os.path.join(results, 'Decision_Tree.txt'), 'w') as fp:\n",
    "        for i in labels:\n",
    "            fp.write('{}:{}\\n'.format(i,labels[i]))\n"
   ]
  },
  {
   "cell_type": "code",
   "execution_count": null,
   "metadata": {},
   "outputs": [],
   "source": [
    "clf_dt = tree.DecisionTreeClassifier()\n",
    "clf_dt"
   ]
  },
  {
   "cell_type": "code",
   "execution_count": null,
   "metadata": {},
   "outputs": [],
   "source": [
    "print(t2-t1) #tempo (s)"
   ]
  },
  {
   "cell_type": "markdown",
   "metadata": {},
   "source": [
    "Accuracy"
   ]
  },
  {
   "cell_type": "code",
   "execution_count": null,
   "metadata": {},
   "outputs": [],
   "source": [
    "np.array(score_DT).mean()"
   ]
  },
  {
   "cell_type": "code",
   "execution_count": null,
   "metadata": {},
   "outputs": [],
   "source": [
    "score_DT"
   ]
  },
  {
   "cell_type": "markdown",
   "metadata": {},
   "source": [
    "Confusion Matrix"
   ]
  },
  {
   "cell_type": "code",
   "execution_count": null,
   "metadata": {},
   "outputs": [],
   "source": [
    "for i in mc:\n",
    "    print(i)"
   ]
  },
  {
   "cell_type": "code",
   "execution_count": null,
   "metadata": {},
   "outputs": [],
   "source": [
    "type(y_pred)"
   ]
  },
  {
   "cell_type": "markdown",
   "metadata": {},
   "source": [
    "Rate Recall"
   ]
  },
  {
   "cell_type": "code",
   "execution_count": null,
   "metadata": {},
   "outputs": [],
   "source": [
    "np.array(recall).mean()"
   ]
  },
  {
   "cell_type": "markdown",
   "metadata": {},
   "source": [
    "Rate Precision"
   ]
  },
  {
   "cell_type": "code",
   "execution_count": null,
   "metadata": {},
   "outputs": [],
   "source": [
    "np.array(prec).mean()"
   ]
  },
  {
   "cell_type": "markdown",
   "metadata": {},
   "source": [
    "## Nearest Neighbors"
   ]
  },
  {
   "cell_type": "code",
   "execution_count": 57,
   "metadata": {},
   "outputs": [],
   "source": [
    "from sklearn.neighbors import KNeighborsClassifier"
   ]
  },
  {
   "cell_type": "code",
   "execution_count": 56,
   "metadata": {},
   "outputs": [
    {
     "ename": "KeyboardInterrupt",
     "evalue": "",
     "output_type": "error",
     "traceback": [
      "\u001b[0;31m---------------------------------------------------------------------------\u001b[0m",
      "\u001b[0;31mKeyboardInterrupt\u001b[0m                         Traceback (most recent call last)",
      "\u001b[0;32m<ipython-input-56-f7dbffe7ca0a>\u001b[0m in \u001b[0;36m<module>\u001b[0;34m()\u001b[0m\n\u001b[1;32m      9\u001b[0m     \u001b[0mclf_neigh\u001b[0m \u001b[0;34m=\u001b[0m \u001b[0mKNeighborsClassifier\u001b[0m\u001b[0;34m(\u001b[0m\u001b[0mn_neighbors\u001b[0m\u001b[0;34m=\u001b[0m\u001b[0mn_neighbors\u001b[0m\u001b[0;34m)\u001b[0m\u001b[0;34m\u001b[0m\u001b[0m\n\u001b[1;32m     10\u001b[0m     \u001b[0mclf_neigh\u001b[0m\u001b[0;34m.\u001b[0m\u001b[0mfit\u001b[0m\u001b[0;34m(\u001b[0m\u001b[0mX\u001b[0m\u001b[0;34m[\u001b[0m\u001b[0mtrain_index\u001b[0m\u001b[0;34m]\u001b[0m\u001b[0;34m,\u001b[0m \u001b[0my\u001b[0m\u001b[0;34m[\u001b[0m\u001b[0mtrain_index\u001b[0m\u001b[0;34m]\u001b[0m\u001b[0;34m)\u001b[0m\u001b[0;34m\u001b[0m\u001b[0m\n\u001b[0;32m---> 11\u001b[0;31m     \u001b[0mscore_KNN\u001b[0m\u001b[0;34m.\u001b[0m\u001b[0mappend\u001b[0m\u001b[0;34m(\u001b[0m\u001b[0mclf_neigh\u001b[0m\u001b[0;34m.\u001b[0m\u001b[0mscore\u001b[0m\u001b[0;34m(\u001b[0m\u001b[0mX\u001b[0m\u001b[0;34m[\u001b[0m\u001b[0mtest_index\u001b[0m\u001b[0;34m]\u001b[0m\u001b[0;34m,\u001b[0m \u001b[0my\u001b[0m\u001b[0;34m[\u001b[0m\u001b[0mtest_index\u001b[0m\u001b[0;34m]\u001b[0m\u001b[0;34m)\u001b[0m\u001b[0;34m)\u001b[0m\u001b[0;34m\u001b[0m\u001b[0m\n\u001b[0m\u001b[1;32m     12\u001b[0m     \u001b[0mpred\u001b[0m \u001b[0;34m=\u001b[0m \u001b[0mclf_neigh\u001b[0m\u001b[0;34m.\u001b[0m\u001b[0mpredict\u001b[0m\u001b[0;34m(\u001b[0m\u001b[0mX\u001b[0m\u001b[0;34m[\u001b[0m\u001b[0mtest_index\u001b[0m\u001b[0;34m]\u001b[0m\u001b[0;34m)\u001b[0m\u001b[0;34m\u001b[0m\u001b[0m\n\u001b[1;32m     13\u001b[0m     \u001b[0mprec\u001b[0m\u001b[0;34m.\u001b[0m\u001b[0mappend\u001b[0m\u001b[0;34m(\u001b[0m\u001b[0mprecision_score\u001b[0m\u001b[0;34m(\u001b[0m\u001b[0my\u001b[0m\u001b[0;34m[\u001b[0m\u001b[0mtest_index\u001b[0m\u001b[0;34m]\u001b[0m\u001b[0;34m,\u001b[0m\u001b[0mpred\u001b[0m\u001b[0;34m,\u001b[0m \u001b[0maverage\u001b[0m\u001b[0;34m=\u001b[0m\u001b[0;34m'weighted'\u001b[0m\u001b[0;34m)\u001b[0m\u001b[0;34m)\u001b[0m\u001b[0;34m\u001b[0m\u001b[0m\n",
      "\u001b[0;32m/usr/local/lib/python2.7/dist-packages/sklearn/base.pyc\u001b[0m in \u001b[0;36mscore\u001b[0;34m(self, X, y, sample_weight)\u001b[0m\n\u001b[1;32m    288\u001b[0m         \"\"\"\n\u001b[1;32m    289\u001b[0m         \u001b[0;32mfrom\u001b[0m \u001b[0;34m.\u001b[0m\u001b[0mmetrics\u001b[0m \u001b[0;32mimport\u001b[0m \u001b[0maccuracy_score\u001b[0m\u001b[0;34m\u001b[0m\u001b[0m\n\u001b[0;32m--> 290\u001b[0;31m         \u001b[0;32mreturn\u001b[0m \u001b[0maccuracy_score\u001b[0m\u001b[0;34m(\u001b[0m\u001b[0my\u001b[0m\u001b[0;34m,\u001b[0m \u001b[0mself\u001b[0m\u001b[0;34m.\u001b[0m\u001b[0mpredict\u001b[0m\u001b[0;34m(\u001b[0m\u001b[0mX\u001b[0m\u001b[0;34m)\u001b[0m\u001b[0;34m,\u001b[0m \u001b[0msample_weight\u001b[0m\u001b[0;34m=\u001b[0m\u001b[0msample_weight\u001b[0m\u001b[0;34m)\u001b[0m\u001b[0;34m\u001b[0m\u001b[0m\n\u001b[0m\u001b[1;32m    291\u001b[0m \u001b[0;34m\u001b[0m\u001b[0m\n\u001b[1;32m    292\u001b[0m \u001b[0;34m\u001b[0m\u001b[0m\n",
      "\u001b[0;32m/usr/local/lib/python2.7/dist-packages/sklearn/neighbors/classification.pyc\u001b[0m in \u001b[0;36mpredict\u001b[0;34m(self, X)\u001b[0m\n\u001b[1;32m    147\u001b[0m         \u001b[0mX\u001b[0m \u001b[0;34m=\u001b[0m \u001b[0mcheck_array\u001b[0m\u001b[0;34m(\u001b[0m\u001b[0mX\u001b[0m\u001b[0;34m,\u001b[0m \u001b[0maccept_sparse\u001b[0m\u001b[0;34m=\u001b[0m\u001b[0;34m'csr'\u001b[0m\u001b[0;34m)\u001b[0m\u001b[0;34m\u001b[0m\u001b[0m\n\u001b[1;32m    148\u001b[0m \u001b[0;34m\u001b[0m\u001b[0m\n\u001b[0;32m--> 149\u001b[0;31m         \u001b[0mneigh_dist\u001b[0m\u001b[0;34m,\u001b[0m \u001b[0mneigh_ind\u001b[0m \u001b[0;34m=\u001b[0m \u001b[0mself\u001b[0m\u001b[0;34m.\u001b[0m\u001b[0mkneighbors\u001b[0m\u001b[0;34m(\u001b[0m\u001b[0mX\u001b[0m\u001b[0;34m)\u001b[0m\u001b[0;34m\u001b[0m\u001b[0m\n\u001b[0m\u001b[1;32m    150\u001b[0m         \u001b[0mclasses_\u001b[0m \u001b[0;34m=\u001b[0m \u001b[0mself\u001b[0m\u001b[0;34m.\u001b[0m\u001b[0mclasses_\u001b[0m\u001b[0;34m\u001b[0m\u001b[0m\n\u001b[1;32m    151\u001b[0m         \u001b[0m_y\u001b[0m \u001b[0;34m=\u001b[0m \u001b[0mself\u001b[0m\u001b[0;34m.\u001b[0m\u001b[0m_y\u001b[0m\u001b[0;34m\u001b[0m\u001b[0m\n",
      "\u001b[0;32m/usr/local/lib/python2.7/dist-packages/sklearn/neighbors/base.pyc\u001b[0m in \u001b[0;36mkneighbors\u001b[0;34m(self, X, n_neighbors, return_distance)\u001b[0m\n\u001b[1;32m    453\u001b[0m                 delayed_query(\n\u001b[1;32m    454\u001b[0m                     self._tree, X[s], n_neighbors, return_distance)\n\u001b[0;32m--> 455\u001b[0;31m                 \u001b[0;32mfor\u001b[0m \u001b[0ms\u001b[0m \u001b[0;32min\u001b[0m \u001b[0mgen_even_slices\u001b[0m\u001b[0;34m(\u001b[0m\u001b[0mX\u001b[0m\u001b[0;34m.\u001b[0m\u001b[0mshape\u001b[0m\u001b[0;34m[\u001b[0m\u001b[0;36m0\u001b[0m\u001b[0;34m]\u001b[0m\u001b[0;34m,\u001b[0m \u001b[0mn_jobs\u001b[0m\u001b[0;34m)\u001b[0m\u001b[0;34m\u001b[0m\u001b[0m\n\u001b[0m\u001b[1;32m    456\u001b[0m             )\n\u001b[1;32m    457\u001b[0m         \u001b[0;32melse\u001b[0m\u001b[0;34m:\u001b[0m\u001b[0;34m\u001b[0m\u001b[0m\n",
      "\u001b[0;32m/usr/local/lib/python2.7/dist-packages/sklearn/externals/joblib/parallel.pyc\u001b[0m in \u001b[0;36m__call__\u001b[0;34m(self, iterable)\u001b[0m\n\u001b[1;32m    915\u001b[0m             \u001b[0;31m# remaining jobs.\u001b[0m\u001b[0;34m\u001b[0m\u001b[0;34m\u001b[0m\u001b[0m\n\u001b[1;32m    916\u001b[0m             \u001b[0mself\u001b[0m\u001b[0;34m.\u001b[0m\u001b[0m_iterating\u001b[0m \u001b[0;34m=\u001b[0m \u001b[0mFalse\u001b[0m\u001b[0;34m\u001b[0m\u001b[0m\n\u001b[0;32m--> 917\u001b[0;31m             \u001b[0;32mif\u001b[0m \u001b[0mself\u001b[0m\u001b[0;34m.\u001b[0m\u001b[0mdispatch_one_batch\u001b[0m\u001b[0;34m(\u001b[0m\u001b[0miterator\u001b[0m\u001b[0;34m)\u001b[0m\u001b[0;34m:\u001b[0m\u001b[0;34m\u001b[0m\u001b[0m\n\u001b[0m\u001b[1;32m    918\u001b[0m                 \u001b[0mself\u001b[0m\u001b[0;34m.\u001b[0m\u001b[0m_iterating\u001b[0m \u001b[0;34m=\u001b[0m \u001b[0mself\u001b[0m\u001b[0;34m.\u001b[0m\u001b[0m_original_iterator\u001b[0m \u001b[0;32mis\u001b[0m \u001b[0;32mnot\u001b[0m \u001b[0mNone\u001b[0m\u001b[0;34m\u001b[0m\u001b[0m\n\u001b[1;32m    919\u001b[0m \u001b[0;34m\u001b[0m\u001b[0m\n",
      "\u001b[0;32m/usr/local/lib/python2.7/dist-packages/sklearn/externals/joblib/parallel.pyc\u001b[0m in \u001b[0;36mdispatch_one_batch\u001b[0;34m(self, iterator)\u001b[0m\n\u001b[1;32m    757\u001b[0m                 \u001b[0;32mreturn\u001b[0m \u001b[0mFalse\u001b[0m\u001b[0;34m\u001b[0m\u001b[0m\n\u001b[1;32m    758\u001b[0m             \u001b[0;32melse\u001b[0m\u001b[0;34m:\u001b[0m\u001b[0;34m\u001b[0m\u001b[0m\n\u001b[0;32m--> 759\u001b[0;31m                 \u001b[0mself\u001b[0m\u001b[0;34m.\u001b[0m\u001b[0m_dispatch\u001b[0m\u001b[0;34m(\u001b[0m\u001b[0mtasks\u001b[0m\u001b[0;34m)\u001b[0m\u001b[0;34m\u001b[0m\u001b[0m\n\u001b[0m\u001b[1;32m    760\u001b[0m                 \u001b[0;32mreturn\u001b[0m \u001b[0mTrue\u001b[0m\u001b[0;34m\u001b[0m\u001b[0m\n\u001b[1;32m    761\u001b[0m \u001b[0;34m\u001b[0m\u001b[0m\n",
      "\u001b[0;32m/usr/local/lib/python2.7/dist-packages/sklearn/externals/joblib/parallel.pyc\u001b[0m in \u001b[0;36m_dispatch\u001b[0;34m(self, batch)\u001b[0m\n\u001b[1;32m    714\u001b[0m         \u001b[0;32mwith\u001b[0m \u001b[0mself\u001b[0m\u001b[0;34m.\u001b[0m\u001b[0m_lock\u001b[0m\u001b[0;34m:\u001b[0m\u001b[0;34m\u001b[0m\u001b[0m\n\u001b[1;32m    715\u001b[0m             \u001b[0mjob_idx\u001b[0m \u001b[0;34m=\u001b[0m \u001b[0mlen\u001b[0m\u001b[0;34m(\u001b[0m\u001b[0mself\u001b[0m\u001b[0;34m.\u001b[0m\u001b[0m_jobs\u001b[0m\u001b[0;34m)\u001b[0m\u001b[0;34m\u001b[0m\u001b[0m\n\u001b[0;32m--> 716\u001b[0;31m             \u001b[0mjob\u001b[0m \u001b[0;34m=\u001b[0m \u001b[0mself\u001b[0m\u001b[0;34m.\u001b[0m\u001b[0m_backend\u001b[0m\u001b[0;34m.\u001b[0m\u001b[0mapply_async\u001b[0m\u001b[0;34m(\u001b[0m\u001b[0mbatch\u001b[0m\u001b[0;34m,\u001b[0m \u001b[0mcallback\u001b[0m\u001b[0;34m=\u001b[0m\u001b[0mcb\u001b[0m\u001b[0;34m)\u001b[0m\u001b[0;34m\u001b[0m\u001b[0m\n\u001b[0m\u001b[1;32m    717\u001b[0m             \u001b[0;31m# A job can complete so quickly than its callback is\u001b[0m\u001b[0;34m\u001b[0m\u001b[0;34m\u001b[0m\u001b[0m\n\u001b[1;32m    718\u001b[0m             \u001b[0;31m# called before we get here, causing self._jobs to\u001b[0m\u001b[0;34m\u001b[0m\u001b[0;34m\u001b[0m\u001b[0m\n",
      "\u001b[0;32m/usr/local/lib/python2.7/dist-packages/sklearn/externals/joblib/_parallel_backends.pyc\u001b[0m in \u001b[0;36mapply_async\u001b[0;34m(self, func, callback)\u001b[0m\n\u001b[1;32m    180\u001b[0m     \u001b[0;32mdef\u001b[0m \u001b[0mapply_async\u001b[0m\u001b[0;34m(\u001b[0m\u001b[0mself\u001b[0m\u001b[0;34m,\u001b[0m \u001b[0mfunc\u001b[0m\u001b[0;34m,\u001b[0m \u001b[0mcallback\u001b[0m\u001b[0;34m=\u001b[0m\u001b[0mNone\u001b[0m\u001b[0;34m)\u001b[0m\u001b[0;34m:\u001b[0m\u001b[0;34m\u001b[0m\u001b[0m\n\u001b[1;32m    181\u001b[0m         \u001b[0;34m\"\"\"Schedule a func to be run\"\"\"\u001b[0m\u001b[0;34m\u001b[0m\u001b[0m\n\u001b[0;32m--> 182\u001b[0;31m         \u001b[0mresult\u001b[0m \u001b[0;34m=\u001b[0m \u001b[0mImmediateResult\u001b[0m\u001b[0;34m(\u001b[0m\u001b[0mfunc\u001b[0m\u001b[0;34m)\u001b[0m\u001b[0;34m\u001b[0m\u001b[0m\n\u001b[0m\u001b[1;32m    183\u001b[0m         \u001b[0;32mif\u001b[0m \u001b[0mcallback\u001b[0m\u001b[0;34m:\u001b[0m\u001b[0;34m\u001b[0m\u001b[0m\n\u001b[1;32m    184\u001b[0m             \u001b[0mcallback\u001b[0m\u001b[0;34m(\u001b[0m\u001b[0mresult\u001b[0m\u001b[0;34m)\u001b[0m\u001b[0;34m\u001b[0m\u001b[0m\n",
      "\u001b[0;32m/usr/local/lib/python2.7/dist-packages/sklearn/externals/joblib/_parallel_backends.pyc\u001b[0m in \u001b[0;36m__init__\u001b[0;34m(self, batch)\u001b[0m\n\u001b[1;32m    547\u001b[0m         \u001b[0;31m# Don't delay the application, to avoid keeping the input\u001b[0m\u001b[0;34m\u001b[0m\u001b[0;34m\u001b[0m\u001b[0m\n\u001b[1;32m    548\u001b[0m         \u001b[0;31m# arguments in memory\u001b[0m\u001b[0;34m\u001b[0m\u001b[0;34m\u001b[0m\u001b[0m\n\u001b[0;32m--> 549\u001b[0;31m         \u001b[0mself\u001b[0m\u001b[0;34m.\u001b[0m\u001b[0mresults\u001b[0m \u001b[0;34m=\u001b[0m \u001b[0mbatch\u001b[0m\u001b[0;34m(\u001b[0m\u001b[0;34m)\u001b[0m\u001b[0;34m\u001b[0m\u001b[0m\n\u001b[0m\u001b[1;32m    550\u001b[0m \u001b[0;34m\u001b[0m\u001b[0m\n\u001b[1;32m    551\u001b[0m     \u001b[0;32mdef\u001b[0m \u001b[0mget\u001b[0m\u001b[0;34m(\u001b[0m\u001b[0mself\u001b[0m\u001b[0;34m)\u001b[0m\u001b[0;34m:\u001b[0m\u001b[0;34m\u001b[0m\u001b[0m\n",
      "\u001b[0;32m/usr/local/lib/python2.7/dist-packages/sklearn/externals/joblib/parallel.pyc\u001b[0m in \u001b[0;36m__call__\u001b[0;34m(self)\u001b[0m\n\u001b[1;32m    223\u001b[0m         \u001b[0;32mwith\u001b[0m \u001b[0mparallel_backend\u001b[0m\u001b[0;34m(\u001b[0m\u001b[0mself\u001b[0m\u001b[0;34m.\u001b[0m\u001b[0m_backend\u001b[0m\u001b[0;34m,\u001b[0m \u001b[0mn_jobs\u001b[0m\u001b[0;34m=\u001b[0m\u001b[0mself\u001b[0m\u001b[0;34m.\u001b[0m\u001b[0m_n_jobs\u001b[0m\u001b[0;34m)\u001b[0m\u001b[0;34m:\u001b[0m\u001b[0;34m\u001b[0m\u001b[0m\n\u001b[1;32m    224\u001b[0m             return [func(*args, **kwargs)\n\u001b[0;32m--> 225\u001b[0;31m                     for func, args, kwargs in self.items]\n\u001b[0m\u001b[1;32m    226\u001b[0m \u001b[0;34m\u001b[0m\u001b[0m\n\u001b[1;32m    227\u001b[0m     \u001b[0;32mdef\u001b[0m \u001b[0m__len__\u001b[0m\u001b[0;34m(\u001b[0m\u001b[0mself\u001b[0m\u001b[0;34m)\u001b[0m\u001b[0;34m:\u001b[0m\u001b[0;34m\u001b[0m\u001b[0m\n",
      "\u001b[0;32m/usr/local/lib/python2.7/dist-packages/sklearn/neighbors/base.pyc\u001b[0m in \u001b[0;36m_tree_query_parallel_helper\u001b[0;34m(tree, data, n_neighbors, return_distance)\u001b[0m\n\u001b[1;32m    290\u001b[0m     \u001b[0munder\u001b[0m \u001b[0mPyPy\u001b[0m\u001b[0;34m.\u001b[0m\u001b[0;34m\u001b[0m\u001b[0m\n\u001b[1;32m    291\u001b[0m     \"\"\"\n\u001b[0;32m--> 292\u001b[0;31m     \u001b[0;32mreturn\u001b[0m \u001b[0mtree\u001b[0m\u001b[0;34m.\u001b[0m\u001b[0mquery\u001b[0m\u001b[0;34m(\u001b[0m\u001b[0mdata\u001b[0m\u001b[0;34m,\u001b[0m \u001b[0mn_neighbors\u001b[0m\u001b[0;34m,\u001b[0m \u001b[0mreturn_distance\u001b[0m\u001b[0;34m)\u001b[0m\u001b[0;34m\u001b[0m\u001b[0m\n\u001b[0m\u001b[1;32m    293\u001b[0m \u001b[0;34m\u001b[0m\u001b[0m\n\u001b[1;32m    294\u001b[0m \u001b[0;34m\u001b[0m\u001b[0m\n",
      "\u001b[0;31mKeyboardInterrupt\u001b[0m: "
     ]
    }
   ],
   "source": [
    "score_KNN = []\n",
    "mc = []\n",
    "prec = []\n",
    "recall = []\n",
    "t1=time.time()\n",
    "n_neighbors=200\n",
    "for train_index, test_index in kf.split(X,y):   \n",
    "    \n",
    "    clf_neigh = KNeighborsClassifier(n_neighbors=n_neighbors)\n",
    "    clf_neigh.fit(X[train_index], y[train_index])\n",
    "    score_KNN.append(clf_neigh.score(X[test_index], y[test_index]))\n",
    "    pred = clf_neigh.predict(X[test_index])\n",
    "    prec.append(precision_score(y[test_index],pred, average='weighted'))\n",
    "    recall.append(recall_score(y[test_index],pred, average='weighted'))\n",
    "    y_pred = clf_neigh.predict(X[test_index])\n",
    "    mc.append(confusion_matrix(y[test_index], y_pred))\n",
    "\n",
    "labels = clf_neigh\n",
    "t2=time.time()\n",
    "\n",
    "temp = (t2-t1) # tempo (s)\n",
    "scores_KNN = np.array(score_KNN).mean() # acurácia\n",
    "recall = np.array(recall).mean()\n",
    "prec = np.array(prec).mean()\n",
    "\n",
    "\n",
    "labels = {'tempo':temp, 'scores_KNN':scores_KNN, 'recall':recall, 'precisao':prec, 'mc':mc, 'n_neighbors':n_neighbors}\n",
    "results = 'results'\n",
    "with open(os.path.join(results, 'KNN_200.txt'), 'w') as fp:\n",
    "        for i in labels:\n",
    "            fp.write('{}:{}\\n'.format(i,labels[i]))\n"
   ]
  },
  {
   "cell_type": "code",
   "execution_count": null,
   "metadata": {},
   "outputs": [],
   "source": [
    "clf_neigh = KNeighborsClassifier()\n",
    "clf_neigh"
   ]
  },
  {
   "cell_type": "code",
   "execution_count": null,
   "metadata": {},
   "outputs": [],
   "source": [
    "print(t2-t1) #tempo(s)"
   ]
  },
  {
   "cell_type": "markdown",
   "metadata": {},
   "source": [
    "Accuracy"
   ]
  },
  {
   "cell_type": "code",
   "execution_count": null,
   "metadata": {},
   "outputs": [],
   "source": [
    "np.array(score_KNN).mean()"
   ]
  },
  {
   "cell_type": "code",
   "execution_count": null,
   "metadata": {},
   "outputs": [],
   "source": [
    "score_KNN"
   ]
  },
  {
   "cell_type": "markdown",
   "metadata": {},
   "source": [
    "Confusion Matrix"
   ]
  },
  {
   "cell_type": "code",
   "execution_count": null,
   "metadata": {},
   "outputs": [],
   "source": [
    "for i in mc:\n",
    "    print(i)"
   ]
  },
  {
   "cell_type": "code",
   "execution_count": null,
   "metadata": {},
   "outputs": [],
   "source": [
    "type(y_pred)"
   ]
  },
  {
   "cell_type": "markdown",
   "metadata": {},
   "source": [
    "Rate Recall"
   ]
  },
  {
   "cell_type": "code",
   "execution_count": null,
   "metadata": {},
   "outputs": [],
   "source": [
    "np.array(recall).mean()"
   ]
  },
  {
   "cell_type": "markdown",
   "metadata": {},
   "source": [
    "Rate Precision"
   ]
  },
  {
   "cell_type": "code",
   "execution_count": null,
   "metadata": {},
   "outputs": [],
   "source": [
    "np.array(prec).mean()"
   ]
  },
  {
   "cell_type": "markdown",
   "metadata": {},
   "source": [
    "## Adaboost"
   ]
  },
  {
   "cell_type": "code",
   "execution_count": null,
   "metadata": {},
   "outputs": [],
   "source": [
    "from sklearn.ensemble import AdaBoostClassifier"
   ]
  },
  {
   "cell_type": "code",
   "execution_count": null,
   "metadata": {},
   "outputs": [],
   "source": [
    "score_AB = []\n",
    "mc = []\n",
    "prec = []\n",
    "recall = []\n",
    "n_estimators = 50\n",
    "learning_rate=1.0\n",
    "t1=time.time()\n",
    "\n",
    "for train_index, test_index in kf.split(X,y):\n",
    "    clf_AB = AdaBoostClassifier(n_estimators=n_estimators, learning_rate=learning_rate, algorithm='SAMME.R', random_state=42)\n",
    "    clf_AB.fit(X[train_index], y[train_index])\n",
    "    score_AB.append(clf_AB.score(X[test_index], y[test_index]))\n",
    "    pred = clf_AB.predict(X[test_index])\n",
    "    prec.append(precision_score(y[test_index],pred, average='weighted'))\n",
    "    recall.append(recall_score(y[test_index],pred, average='weighted'))\n",
    "    y_pred = clf_AB.predict(X[test_index])\n",
    "    mc.append(confusion_matrix(y[test_index], y_pred))\n",
    "\n",
    "\n",
    "labels = clf_AB\n",
    "t2=time.time()\n",
    "\n",
    "temp = (t2-t1) # tempo (s)\n",
    "scores_AB = np.array(score_AB).mean() # acurácia\n",
    "recall = np.array(recall).mean()\n",
    "prec = np.array(prec).mean()\n",
    "\n",
    "labels = {'tempo':temp, 'scores_AB':scores_AB, 'recall':recall, 'precisao':prec, 'mc':mc, 'n_estimators':n_estimators, 'learning_rate':learning_rate}\n",
    "results = 'results'\n",
    "with open(os.path.join(results, 'AB.txt'), 'w') as fp:\n",
    "        for i in labels:\n",
    "            fp.write('{}:{}\\n'.format(i,labels[i]))\n"
   ]
  },
  {
   "cell_type": "code",
   "execution_count": null,
   "metadata": {},
   "outputs": [],
   "source": [
    "print(t2-t1) #tempo (s)"
   ]
  },
  {
   "cell_type": "code",
   "execution_count": null,
   "metadata": {},
   "outputs": [],
   "source": [
    "#base_estimator=None, n_estimators=50, learning_rate=1.0, algorithm=’SAMME.R’, random_state=None\n",
    "clf_AB = AdaBoostClassifier()\n",
    "clf_AB"
   ]
  },
  {
   "cell_type": "markdown",
   "metadata": {},
   "source": [
    "Accuracy"
   ]
  },
  {
   "cell_type": "code",
   "execution_count": null,
   "metadata": {},
   "outputs": [],
   "source": [
    "np.array(score_AB).mean()"
   ]
  },
  {
   "cell_type": "code",
   "execution_count": null,
   "metadata": {},
   "outputs": [],
   "source": [
    "score_AB"
   ]
  },
  {
   "cell_type": "markdown",
   "metadata": {},
   "source": [
    "Confusion Matrix"
   ]
  },
  {
   "cell_type": "code",
   "execution_count": null,
   "metadata": {},
   "outputs": [],
   "source": [
    "for i in mc:\n",
    "    print(i)"
   ]
  },
  {
   "cell_type": "code",
   "execution_count": null,
   "metadata": {},
   "outputs": [],
   "source": [
    "type(y_pred)"
   ]
  },
  {
   "cell_type": "markdown",
   "metadata": {},
   "source": [
    "Rate Recall"
   ]
  },
  {
   "cell_type": "code",
   "execution_count": null,
   "metadata": {},
   "outputs": [],
   "source": [
    "np.array(recall).mean()"
   ]
  },
  {
   "cell_type": "markdown",
   "metadata": {},
   "source": [
    "Rate Precision"
   ]
  },
  {
   "cell_type": "code",
   "execution_count": null,
   "metadata": {},
   "outputs": [],
   "source": [
    "np.array(prec).mean()"
   ]
  },
  {
   "cell_type": "markdown",
   "metadata": {},
   "source": [
    "# Rede Neural"
   ]
  },
  {
   "cell_type": "markdown",
   "metadata": {},
   "source": [
    "Os parâmetros modificados foram: a camada de entrada [10~200], nas camadas escondidas [100 e 200], a função de ativação hard_sigmoid() e relu() e Dropout [0.5 e 0.7]. Foram utilizadas 3 camadas escondidas, 1 camada de saída (função de ativação hard_sigmoid()) e 1000 épocas."
   ]
  },
  {
   "cell_type": "code",
   "execution_count": null,
   "metadata": {},
   "outputs": [],
   "source": [
    "X_train, X_test, y_train, y_test = train_test_split(X, y, test_size=0.10)"
   ]
  },
  {
   "cell_type": "markdown",
   "metadata": {},
   "source": [
    "## Rede Neural Simples"
   ]
  },
  {
   "cell_type": "code",
   "execution_count": null,
   "metadata": {},
   "outputs": [],
   "source": [
    "def plot_model_history(model_history):\n",
    "    # summarize history for loss\n",
    "    plt.plot(range(1,len(model_history.history['loss'])+1),model_history.history['loss'])\n",
    "    plt.plot(range(1,len(model_history.history['val_loss'])+1),model_history.history['val_loss'])\n",
    "    plt.title('Model Loss')\n",
    "    plt.ylabel('Loss')\n",
    "    plt.xlabel('Epoch')\n",
    "    plt.legend(['train', 'val'], loc='best')\n",
    "    plt.show()\n",
    "    "
   ]
  },
  {
   "cell_type": "code",
   "execution_count": null,
   "metadata": {},
   "outputs": [],
   "source": [
    "def get_model(X_input_size):\n",
    "    '''\n",
    "        get_model cria um modelo de rede neural  \n",
    "        X_input_size: número de atributos em X\n",
    "    '''\n",
    "    input_data = Input(name='input', shape=(X_input_size,), dtype='float32')\n",
    "    \n",
    "    x = input_data\n",
    "    x = Dense(units = 200)(x)\n",
    "    x = Activation('relu')(x)\n",
    "      \n",
    "    #--------------------------\n",
    "    x = Dense(units = 200)(x)\n",
    "    x = Activation('softmax')(x)\n",
    "    \n",
    "    x = Dense(units = 200)(x)\n",
    "    x = Activation('softmax')(x)\n",
    "    \n",
    "    x = Dense(units = 200)(x)\n",
    "    x = Activation('softmax')(x)\n",
    "    #--------------------------\n",
    "    \n",
    "    x = Dense(units = 1)(x)\n",
    "    y_pred = Activation('relu')(x)\n",
    "    \n",
    "    model = Model(inputs=input_data, outputs=y_pred)\n",
    "    \n",
    "    # modelo será treinado com otimizador SGD -- vc pode trocar o otimizador\n",
    "    #optimizer = SGD(lr=0.01, momentum=0.9, decay=1e-6, nesterov=True)\n",
    "    optimizer = Adam(lr=0.0001)\n",
    "    \n",
    "    # função de custo usada é a entropia cruzada\n",
    "    model.compile(loss='binary_crossentropy', optimizer = optimizer,metrics=['accuracy']) \n",
    "    \n",
    "    return model"
   ]
  },
  {
   "cell_type": "code",
   "execution_count": null,
   "metadata": {},
   "outputs": [],
   "source": [
    "def train_model(model, X_train, X_test, y_train, y_test, \n",
    "                bsize = 20, n_epochs = 1000, val_proportion = 0.2, patience = 20):\n",
    "\n",
    "    # estratégia de treino com parada antecipada consiste em parar o treino\n",
    "    # quando nenhuma melhoria no erro de validação (val_loss) é observada após\n",
    "    # \"patience\" épocas\n",
    "    earlystop = EarlyStopping(monitor='val_loss', min_delta=0.00001, patience=patience, \\\n",
    "                verbose=1, mode='auto')\n",
    "    callback_list = [earlystop]\n",
    "    \n",
    "    # Modelo usa parâmetros comuns que podem ser modificados\n",
    "    h = model.fit(X_train, y_train, batch_size=bsize, epochs=n_epochs,validation_data=(X_test,y_test),\n",
    "                  verbose=2, shuffle = True, callbacks = callback_list, \n",
    "                  validation_split=val_proportion)\n",
    "    plot_model_history(h)          \n",
    "    \n",
    "    # avaliação\n",
    "    print('\\nEstimating AUCROC, acc')\n",
    "    y_pred = model.predict(X_test, batch_size=len(y_test))\n",
    "    print('ROC value: %.4f'%(sklearn_roc_auc_score(y_test, y_pred)))\n",
    "    print('Acc: %.4f'%(sklearn_accuracy_score(y_test, y_pred>0.5)))\n",
    "    print('CMatrix: %s'%(sklearn_confusion_matrix(y_test, y_pred>0.5)))\n",
    "    \n",
    "    return model"
   ]
  },
  {
   "cell_type": "code",
   "execution_count": null,
   "metadata": {},
   "outputs": [],
   "source": [
    "X_train.shape"
   ]
  },
  {
   "cell_type": "code",
   "execution_count": null,
   "metadata": {},
   "outputs": [],
   "source": [
    "model=get_model(X_train.shape[1])"
   ]
  },
  {
   "cell_type": "code",
   "execution_count": null,
   "metadata": {},
   "outputs": [],
   "source": [
    "model.summary()"
   ]
  },
  {
   "cell_type": "code",
   "execution_count": null,
   "metadata": {},
   "outputs": [],
   "source": [
    "train_model(model, X_train, X_test, y_train, y_test, \n",
    "                bsize = 20, n_epochs = 1000, val_proportion = 0.2, patience = 20)\n"
   ]
  },
  {
   "cell_type": "markdown",
   "metadata": {},
   "source": [
    "## Rede Neural com normalização em Batch"
   ]
  },
  {
   "cell_type": "code",
   "execution_count": null,
   "metadata": {},
   "outputs": [],
   "source": [
    "def plot_model_history(model_history):\n",
    "    # summarize history for loss\n",
    "    plt.plot(range(1,len(model_history.history['loss'])+1),model_history.history['loss'])\n",
    "    plt.plot(range(1,len(model_history.history['val_loss'])+1),model_history.history['val_loss'])\n",
    "    plt.title('Model Loss')\n",
    "    plt.ylabel('Loss')\n",
    "    plt.xlabel('Epoch')\n",
    "    plt.legend(['train', 'val'], loc='best')\n",
    "    plt.show()"
   ]
  },
  {
   "cell_type": "code",
   "execution_count": null,
   "metadata": {},
   "outputs": [],
   "source": [
    "def get_model(X_input_size):\n",
    "    '''\n",
    "        get_model cria um modelo de rede neural  \n",
    "        X_input_size: número de atributos em X\n",
    "    '''\n",
    "    input_data = Input(name='input', shape=(X_input_size,), dtype='float32')\n",
    "    \n",
    "    x = input_data\n",
    "    x = Dense(units = 80)(x)\n",
    "    x = BatchNormalization()(x)\n",
    "    x = Activation('relu')(x)\n",
    "     \n",
    "    #--------------------------\n",
    "    x = Dense(units = 200)(x)\n",
    "    x = BatchNormalization()(x)\n",
    "    x = Activation('softmax')(x)\n",
    "    \n",
    "    x = Dense(units = 200)(x)\n",
    "    x = BatchNormalization()(x)\n",
    "    x = Activation('softmax')(x)\n",
    "    \n",
    "    x = Dense(units = 200)(x)\n",
    "    x = BatchNormalization()(x)\n",
    "    x = Activation('softmax')(x)      \n",
    "    #--------------------------\n",
    "    \n",
    "    x = Dense(units = 1)(x)\n",
    "    y_pred = Activation('relu')(x)\n",
    "    \n",
    "    model = Model(inputs=input_data, outputs=y_pred)\n",
    "    \n",
    "    # modelo será treinado com otimizador SGD -- vc pode trocar o otimizador\n",
    "    #optimizer = SGD(lr=0.01, momentum=0.9, decay=1e-6, nesterov=True)\n",
    "    optimizer = Adam(lr=0.0001)\n",
    "    \n",
    "    # função de custo usada é a entropia cruzada\n",
    "    model.compile(loss='binary_crossentropy', optimizer = optimizer,metrics=['accuracy']) \n",
    "    \n",
    "    return model"
   ]
  },
  {
   "cell_type": "code",
   "execution_count": null,
   "metadata": {},
   "outputs": [],
   "source": [
    "def train_model(model, X_train, X_test, y_train, y_test, \n",
    "                bsize = 20, n_epochs = 1000, val_proportion = 0.2, patience = 20):\n",
    "\n",
    "    # estratégia de treino com parada antecipada consiste em parar o treino\n",
    "    # quando nenhuma melhoria no erro de validação (val_loss) é observada após\n",
    "    # \"patience\" épocas\n",
    "    earlystop = EarlyStopping(monitor='val_loss', min_delta=0.00001, patience=patience, \\\n",
    "                verbose=1, mode='auto')\n",
    "    callback_list = [earlystop]\n",
    "    \n",
    "    # Modelo usa parâmetros comuns que podem ser modificados\n",
    "    h = model.fit(X_train, y_train, batch_size=bsize, epochs=n_epochs,validation_data=(X_test,y_test),\n",
    "                  verbose=2, shuffle = True, callbacks = callback_list, \n",
    "                  validation_split=val_proportion)\n",
    "    plot_model_history(h)          \n",
    "    \n",
    "    # avaliação\n",
    "    print('\\nEstimating AUCROC, acc')\n",
    "    y_pred = model.predict(X_test, batch_size=len(y_test))\n",
    "    print('ROC value: %.4f'%(sklearn_roc_auc_score(y_test, y_pred)))\n",
    "    print('Acc: %.4f'%(sklearn_accuracy_score(y_test, y_pred>0.5)))\n",
    "    print('CMatrix: %s'%(sklearn_confusion_matrix(y_test, y_pred>0.5)))\n",
    "    \n",
    "    return model"
   ]
  },
  {
   "cell_type": "code",
   "execution_count": null,
   "metadata": {},
   "outputs": [],
   "source": [
    "X_train.shape"
   ]
  },
  {
   "cell_type": "code",
   "execution_count": null,
   "metadata": {},
   "outputs": [],
   "source": [
    "model=get_model(X_train.shape[1])"
   ]
  },
  {
   "cell_type": "code",
   "execution_count": null,
   "metadata": {},
   "outputs": [],
   "source": [
    "model.summary()"
   ]
  },
  {
   "cell_type": "code",
   "execution_count": null,
   "metadata": {},
   "outputs": [],
   "source": [
    "train_model(model, X_train, X_test, y_train, y_test, \n",
    "                bsize = 20, n_epochs = 1000, val_proportion = 0.2, patience = 20)"
   ]
  },
  {
   "cell_type": "markdown",
   "metadata": {},
   "source": [
    "## Rede Neural com Dropout"
   ]
  },
  {
   "cell_type": "code",
   "execution_count": null,
   "metadata": {},
   "outputs": [],
   "source": [
    "def plot_model_history(model_history):\n",
    "    # summarize history for loss\n",
    "    plt.plot(range(1,len(model_history.history['loss'])+1),model_history.history['loss'])\n",
    "    plt.plot(range(1,len(model_history.history['val_loss'])+1),model_history.history['val_loss'])\n",
    "    plt.title('Model Loss')\n",
    "    plt.ylabel('Loss')\n",
    "    plt.xlabel('Epoch')\n",
    "    plt.legend(['train', 'val'], loc='best')\n",
    "    plt.show()"
   ]
  },
  {
   "cell_type": "code",
   "execution_count": null,
   "metadata": {},
   "outputs": [],
   "source": [
    "def get_model(X_input_size):\n",
    "    '''\n",
    "        get_model cria um modelo de rede neural  \n",
    "        X_input_size: número de atributos em X\n",
    "    '''\n",
    "    input_data = Input(name='input', shape=(X_input_size,), dtype='float32')\n",
    "    \n",
    "    x = input_data\n",
    "    x = Dense(units = 200)(x)\n",
    "    x = Activation('relu')(x)\n",
    "    x = Dropout(0.7)(x)\n",
    "    \n",
    "    #--------------------------\n",
    "    x = Dense(units = 200)(x)\n",
    "    x = Activation('softmax')(x)\n",
    "    x = Dropout(0.7)(x)   \n",
    "    \n",
    "    x = Dense(units = 200)(x)\n",
    "    x = Activation('softmax')(x)\n",
    "    x = Dropout(0.7)(x) \n",
    "    \n",
    "    x = Dense(units = 200)(x)\n",
    "    x = Activation('softmax')(x)\n",
    "    x = Dropout(0.7)(x)    \n",
    "    #--------------------------\n",
    "    \n",
    "    x = Dense(units = 1)(x)\n",
    "    y_pred = Activation('relu')(x)\n",
    "    \n",
    "    model = Model(inputs=input_data, outputs=y_pred)\n",
    "    \n",
    "    # modelo será treinado com otimizador SGD -- vc pode trocar o otimizador\n",
    "    #optimizer = SGD(lr=0.01, momentum=0.9, decay=1e-6, nesterov=True)\n",
    "    optimizer = Adam(lr=0.0001)\n",
    "    \n",
    "    # função de custo usada é a entropia cruzada\n",
    "    model.compile(loss='binary_crossentropy', optimizer = optimizer,metrics=['accuracy']) \n",
    "    \n",
    "    return model"
   ]
  },
  {
   "cell_type": "code",
   "execution_count": null,
   "metadata": {},
   "outputs": [],
   "source": [
    "def train_model(model, X_train, X_test, y_train, y_test, \n",
    "                bsize = 20, n_epochs = 1000, val_proportion = 0.2, patience = 20):\n",
    "\n",
    "    # estratégia de treino com parada antecipada consiste em parar o treino\n",
    "    # quando nenhuma melhoria no erro de validação (val_loss) é observada após\n",
    "    # \"patience\" épocas\n",
    "    earlystop = EarlyStopping(monitor='val_loss', min_delta=0.00001, patience=patience, \\\n",
    "                verbose=1, mode='auto')\n",
    "    callback_list = [earlystop]\n",
    "    \n",
    "    # Modelo usa parâmetros comuns que podem ser modificados\n",
    "    h = model.fit(X_train, y_train, batch_size=bsize, epochs=n_epochs,validation_data=(X_test,y_test),\n",
    "                  verbose=2, shuffle = True, callbacks = callback_list, \n",
    "                  validation_split=val_proportion)\n",
    "    plot_model_history(h)          \n",
    "    \n",
    "    # avaliação\n",
    "    print('\\nEstimating AUCROC, acc')\n",
    "    y_pred = model.predict(X_test, batch_size=len(y_test))\n",
    "    print('ROC value: %.4f'%(sklearn_roc_auc_score(y_test, y_pred)))\n",
    "    print('Acc: %.4f'%(sklearn_accuracy_score(y_test, y_pred>0.5)))\n",
    "    print('CMatrix: %s'%(sklearn_confusion_matrix(y_test, y_pred>0.5)))\n",
    "    \n",
    "    return model"
   ]
  },
  {
   "cell_type": "code",
   "execution_count": null,
   "metadata": {},
   "outputs": [],
   "source": [
    "X_train.shape"
   ]
  },
  {
   "cell_type": "code",
   "execution_count": null,
   "metadata": {},
   "outputs": [],
   "source": [
    "model=get_model(X_train.shape[1])"
   ]
  },
  {
   "cell_type": "code",
   "execution_count": null,
   "metadata": {},
   "outputs": [],
   "source": [
    "model.summary()"
   ]
  },
  {
   "cell_type": "code",
   "execution_count": null,
   "metadata": {},
   "outputs": [],
   "source": [
    "train_model(model, X_train, X_test, y_train, y_test, \n",
    "                bsize = 20, n_epochs = 1000, val_proportion = 0.2, patience = 20)"
   ]
  },
  {
   "cell_type": "markdown",
   "metadata": {},
   "source": [
    "## Rede Neural com  normalização em Batch e Dropout"
   ]
  },
  {
   "cell_type": "code",
   "execution_count": null,
   "metadata": {},
   "outputs": [],
   "source": [
    "def plot_model_history(model_history):\n",
    "    # summarize history for loss\n",
    "    plt.plot(range(1,len(model_history.history['loss'])+1),model_history.history['loss'])\n",
    "    plt.plot(range(1,len(model_history.history['val_loss'])+1),model_history.history['val_loss'])\n",
    "    plt.title('Model Loss')\n",
    "    plt.ylabel('Loss')\n",
    "    plt.xlabel('Epoch')\n",
    "    plt.legend(['train', 'val'], loc='best')\n",
    "    plt.show()"
   ]
  },
  {
   "cell_type": "code",
   "execution_count": null,
   "metadata": {},
   "outputs": [],
   "source": [
    "def get_model(X_input_size):\n",
    "    '''\n",
    "        get_model cria um modelo de rede neural  \n",
    "        X_input_size: número de atributos em X\n",
    "    '''\n",
    "    input_data = Input(name='input', shape=(X_input_size,), dtype='float32')\n",
    "    \n",
    "    x = input_data\n",
    "    x = Dense(units = 200)(x)\n",
    "    x = BatchNormalization()(x)\n",
    "    x = Activation('relu')(x)\n",
    "    x = Dropout(0.7)(x)\n",
    "    \n",
    "    #--------------------------\n",
    "    x = Dense(units = 200)(x)\n",
    "    x = BatchNormalization()(x)\n",
    "    x = Activation('softmax')(x)\n",
    "    x = Dropout(0.7)(x)   \n",
    "    \n",
    "    x = Dense(units = 200)(x)\n",
    "    x = BatchNormalization()(x)\n",
    "    x = Activation('softmax')(x)\n",
    "    x = Dropout(0.7)(x)  \n",
    "    \n",
    "    x = Dense(units = 200)(x)\n",
    "    x = BatchNormalization()(x)\n",
    "    x = Activation('softmax')(x)\n",
    "    x = Dropout(0.7)(x)    \n",
    "    #--------------------------\n",
    "    \n",
    "    x = Dense(units = 1)(x)\n",
    "    y_pred = Activation('relu')(x)\n",
    "    \n",
    "    model = Model(inputs=input_data, outputs=y_pred)\n",
    "    \n",
    "    # modelo será treinado com otimizador SGD -- vc pode trocar o otimizador\n",
    "    #optimizer = SGD(lr=0.01, momentum=0.9, decay=1e-6, nesterov=True)\n",
    "    optimizer = Adam(lr=0.0001)\n",
    "    \n",
    "    # função de custo usada é a entropia cruzada\n",
    "    model.compile(loss='binary_crossentropy', optimizer = optimizer,metrics=['accuracy']) \n",
    "    \n",
    "    return model"
   ]
  },
  {
   "cell_type": "code",
   "execution_count": null,
   "metadata": {},
   "outputs": [],
   "source": [
    "def train_model(model, X_train, X_test, y_train, y_test, \n",
    "                bsize = 20, n_epochs = 1000, val_proportion = 0.2, patience = 20):\n",
    "\n",
    "    # estratégia de treino com parada antecipada consiste em parar o treino\n",
    "    # quando nenhuma melhoria no erro de validação (val_loss) é observada após\n",
    "    # \"patience\" épocas\n",
    "    earlystop = EarlyStopping(monitor='val_loss', min_delta=0.00001, patience=patience, \\\n",
    "                verbose=1, mode='auto')\n",
    "    callback_list = [earlystop]\n",
    "    \n",
    "    # Modelo usa parâmetros comuns que podem ser modificados\n",
    "    h = model.fit(X_train, y_train, batch_size=bsize, epochs=n_epochs,validation_data=(X_test,y_test),\n",
    "                  verbose=2, shuffle = True, callbacks = callback_list, \n",
    "                  validation_split=val_proportion)\n",
    "    plot_model_history(h)          \n",
    "    \n",
    "    # avaliação\n",
    "    print('\\nEstimating AUCROC, acc')\n",
    "    y_pred = model.predict(X_test, batch_size=len(y_test))\n",
    "    print('ROC value: %.4f'%(sklearn_roc_auc_score(y_test, y_pred)))\n",
    "    print('Acc: %.4f'%(sklearn_accuracy_score(y_test, y_pred>0.5)))\n",
    "    print('CMatrix: %s'%(sklearn_confusion_matrix(y_test, y_pred>0.5)))\n",
    "    \n",
    "    return model"
   ]
  },
  {
   "cell_type": "code",
   "execution_count": null,
   "metadata": {},
   "outputs": [],
   "source": [
    "X_train.shape"
   ]
  },
  {
   "cell_type": "code",
   "execution_count": null,
   "metadata": {},
   "outputs": [],
   "source": [
    "model=get_model(X_train.shape[1])"
   ]
  },
  {
   "cell_type": "code",
   "execution_count": null,
   "metadata": {},
   "outputs": [],
   "source": [
    "model.summary()"
   ]
  },
  {
   "cell_type": "code",
   "execution_count": null,
   "metadata": {},
   "outputs": [],
   "source": [
    "train_model(model, X_train, X_test, y_train, y_test, \n",
    "                bsize = 20, n_epochs = 1000, val_proportion = 0.2, patience = 20)"
   ]
  },
  {
   "cell_type": "code",
   "execution_count": null,
   "metadata": {},
   "outputs": [],
   "source": []
  },
  {
   "cell_type": "code",
   "execution_count": null,
   "metadata": {},
   "outputs": [],
   "source": []
  },
  {
   "cell_type": "code",
   "execution_count": null,
   "metadata": {},
   "outputs": [],
   "source": [
    "Rede Neural - LSTM"
   ]
  },
  {
   "cell_type": "code",
   "execution_count": null,
   "metadata": {},
   "outputs": [],
   "source": [
    "keras.layers.LSTM(units, activation='tanh', \n",
    "    recurrent_activation='hard_sigmoid', use_bias=True, \n",
    "    kernel_initializer='glorot_uniform', \n",
    "    recurrent_initializer='orthogonal', \n",
    "    bias_initializer='zeros',\n",
    "    unit_forget_bias=True,\n",
    "                  \n",
    "    kernel_regularizer=None, \n",
    "    recurrent_regularizer=None, \n",
    "    bias_regularizer=None, activity_regularizer=None,    \n",
    "    kernel_constraint=None, recurrent_constraint=None, \n",
    "    bias_constraint=None, \n",
    "    dropout=0.0, recurrent_dropout=0.0, \n",
    "    implementation=1, return_sequences=False,\n",
    "    return_state=False, go_backwards=False, \n",
    "    stateful=False, unroll=False)"
   ]
  },
  {
   "cell_type": "code",
   "execution_count": null,
   "metadata": {},
   "outputs": [],
   "source": [
    "# First, let's define a RNN Cell, as a layer subclass.\n",
    "\n",
    "class LSTM(keras.layers.LSTM):\n",
    "\n",
    "    def __init__(self, units, **kwargs):\n",
    "        self.units = units\n",
    "        self.state_size = units\n",
    "        super(LSTM, self).__init__(**kwargs)\n",
    "\n",
    "    def build(self, input_shape):\n",
    "        self.kernel = self.add_weight(shape=(input_shape[-1], self.units),\n",
    "                                      initializer='uniform',\n",
    "                                      name='kernel')\n",
    "        self.recurrent_kernel = self.add_weight(\n",
    "            shape=(self.units, self.units),\n",
    "            initializer='uniform',\n",
    "            name='recurrent_kernel')\n",
    "        self.built = True\n",
    "\n",
    "    def call(self, inputs, states):\n",
    "        prev_output = states[0]\n",
    "        h = K.dot(inputs, self.kernel)\n",
    "        output = h + K.dot(prev_output, self.recurrent_kernel)\n",
    "        return output, [output]\n",
    "\n",
    "# Let's use this cell in a RNN layer:\n",
    "\n",
    "cell = LSTM(32)\n",
    "x = keras.Input((None, 5))\n",
    "layer = LSTM(cell)\n",
    "y = layer(x)\n",
    "\n",
    "# Here's how to use the cell to build a stacked RNN:\n",
    "\n",
    "cells = [LSTM(32), LSTM(64)]\n",
    "x = keras.Input((None, 5))\n",
    "layer = LSTM(cells)\n",
    "y = layer(x)"
   ]
  },
  {
   "cell_type": "code",
   "execution_count": null,
   "metadata": {},
   "outputs": [],
   "source": [
    "# First, let's define a RNN Cell, as a layer subclass.\n",
    "\n",
    "class MinimalRNNCell(keras.layers.Layer):\n",
    "\n",
    "    def __init__(self, units, **kwargs):\n",
    "        self.units = units\n",
    "        self.state_size = units\n",
    "        super(MinimalRNNCell, self).__init__(**kwargs)\n",
    "\n",
    "    def build(self, input_shape):\n",
    "        self.kernel = self.add_weight(shape=(input_shape[-1], self.units),\n",
    "                                      initializer='uniform',\n",
    "                                      name='kernel')\n",
    "        self.recurrent_kernel = self.add_weight(\n",
    "            shape=(self.units, self.units),\n",
    "            initializer='uniform',\n",
    "            name='recurrent_kernel')\n",
    "        self.built = True\n",
    "\n",
    "    def call(self, inputs, states):\n",
    "        prev_output = states[0]\n",
    "        h = K.dot(inputs, self.kernel)\n",
    "        output = h + K.dot(prev_output, self.recurrent_kernel)\n",
    "        return output, [output]\n",
    "\n",
    "# Let's use this cell in a RNN layer:\n",
    "\n",
    "cell = MinimalRNNCell(32)\n",
    "x = keras.Input((None, 5))\n",
    "layer = RNN(cell)\n",
    "y = layer(x)\n",
    "\n",
    "# Here's how to use the cell to build a stacked RNN:\n",
    "\n",
    "cells = [MinimalRNNCell(32), MinimalRNNCell(64)]\n",
    "x = keras.Input((None, 5))\n",
    "layer = RNN(cells)\n",
    "y = layer(x)"
   ]
  }
 ],
 "metadata": {
  "kernelspec": {
   "display_name": "Python 3",
   "language": "python",
   "name": "python3"
  },
  "language_info": {
   "codemirror_mode": {
    "name": "ipython",
    "version": 3
   },
   "file_extension": ".py",
   "mimetype": "text/x-python",
   "name": "python",
   "nbconvert_exporter": "python",
   "pygments_lexer": "ipython3",
   "version": "3.5.2"
  }
 },
 "nbformat": 4,
 "nbformat_minor": 2
}
